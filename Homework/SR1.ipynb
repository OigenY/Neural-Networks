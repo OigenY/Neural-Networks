{
 "cells": [
  {
   "cell_type": "markdown",
   "id": "ea7f8904-901f-4da2-ab2f-1e5a31cb79d6",
   "metadata": {},
   "source": [
    "# <center>Самостійна робота №1\n",
    "## <center>Виконав: студент групи ПБ-21 мп Якобчук Євгеній\n",
    "## <center>Варіант №5\n",
    "## <center>Загальні завдання для всіх варіантів "
   ]
  },
  {
   "cell_type": "markdown",
   "id": "37ca9f7b-d1ea-4c56-83c0-a120cfa6e373",
   "metadata": {},
   "source": [
    "1. Завантажте набір даних."
   ]
  },
  {
   "cell_type": "code",
   "execution_count": 3,
   "id": "c888deb8-a5e1-4b07-9668-890a3754a9a6",
   "metadata": {},
   "outputs": [],
   "source": [
    "import pandas as pd\n",
    "import matplotlib.pyplot as plt\n",
    "import seaborn as sns #розширення функціоналу matplotlib\n",
    "import numpy as np\n",
    "sns.set_style(\"ticks\")\n",
    "\n",
    "vg_sales_df = pd.read_csv(\"E:/Магістр 1 курс 1 семестр/Інтелектуальні та інформаційні системи ІТ/Практикуми і самостійні/Пр1/СР№1/vgsales.csv - vgsales.csv.csv\", sep=\",\")"
   ]
  },
  {
   "cell_type": "markdown",
   "id": "0fb648cd-4f59-44aa-9a15-3a345a472b11",
   "metadata": {},
   "source": [
    "2. Виведіть заголовок таблиці (перші 5 записів)."
   ]
  },
  {
   "cell_type": "code",
   "execution_count": 6,
   "id": "2543bc2e-88ba-4805-8a4b-44bad2b330a4",
   "metadata": {},
   "outputs": [
    {
     "data": {
      "text/html": [
       "<div>\n",
       "<style scoped>\n",
       "    .dataframe tbody tr th:only-of-type {\n",
       "        vertical-align: middle;\n",
       "    }\n",
       "\n",
       "    .dataframe tbody tr th {\n",
       "        vertical-align: top;\n",
       "    }\n",
       "\n",
       "    .dataframe thead th {\n",
       "        text-align: right;\n",
       "    }\n",
       "</style>\n",
       "<table border=\"1\" class=\"dataframe\">\n",
       "  <thead>\n",
       "    <tr style=\"text-align: right;\">\n",
       "      <th></th>\n",
       "      <th>Rank</th>\n",
       "      <th>Name</th>\n",
       "      <th>Platform</th>\n",
       "      <th>Year</th>\n",
       "      <th>Genre</th>\n",
       "      <th>Publisher</th>\n",
       "      <th>NA_Sales</th>\n",
       "      <th>EU_Sales</th>\n",
       "      <th>JP_Sales</th>\n",
       "      <th>Other_Sales</th>\n",
       "      <th>Global_Sales</th>\n",
       "    </tr>\n",
       "  </thead>\n",
       "  <tbody>\n",
       "    <tr>\n",
       "      <th>0</th>\n",
       "      <td>1</td>\n",
       "      <td>Wii Sports</td>\n",
       "      <td>Wii</td>\n",
       "      <td>2006.0</td>\n",
       "      <td>Sports</td>\n",
       "      <td>Nintendo</td>\n",
       "      <td>41.49</td>\n",
       "      <td>29.02</td>\n",
       "      <td>3.77</td>\n",
       "      <td>8.46</td>\n",
       "      <td>82.74</td>\n",
       "    </tr>\n",
       "    <tr>\n",
       "      <th>1</th>\n",
       "      <td>2</td>\n",
       "      <td>Super Mario Bros.</td>\n",
       "      <td>NES</td>\n",
       "      <td>1985.0</td>\n",
       "      <td>Platform</td>\n",
       "      <td>Nintendo</td>\n",
       "      <td>29.08</td>\n",
       "      <td>3.58</td>\n",
       "      <td>6.81</td>\n",
       "      <td>0.77</td>\n",
       "      <td>40.24</td>\n",
       "    </tr>\n",
       "    <tr>\n",
       "      <th>2</th>\n",
       "      <td>3</td>\n",
       "      <td>Mario Kart Wii</td>\n",
       "      <td>Wii</td>\n",
       "      <td>2008.0</td>\n",
       "      <td>Racing</td>\n",
       "      <td>Nintendo</td>\n",
       "      <td>15.85</td>\n",
       "      <td>12.88</td>\n",
       "      <td>3.79</td>\n",
       "      <td>3.31</td>\n",
       "      <td>35.82</td>\n",
       "    </tr>\n",
       "    <tr>\n",
       "      <th>3</th>\n",
       "      <td>4</td>\n",
       "      <td>Wii Sports Resort</td>\n",
       "      <td>Wii</td>\n",
       "      <td>2009.0</td>\n",
       "      <td>Sports</td>\n",
       "      <td>Nintendo</td>\n",
       "      <td>15.75</td>\n",
       "      <td>11.01</td>\n",
       "      <td>3.28</td>\n",
       "      <td>2.96</td>\n",
       "      <td>33.00</td>\n",
       "    </tr>\n",
       "    <tr>\n",
       "      <th>4</th>\n",
       "      <td>5</td>\n",
       "      <td>Pokemon Red/Pokemon Blue</td>\n",
       "      <td>GB</td>\n",
       "      <td>1996.0</td>\n",
       "      <td>Role-Playing</td>\n",
       "      <td>Nintendo</td>\n",
       "      <td>11.27</td>\n",
       "      <td>8.89</td>\n",
       "      <td>10.22</td>\n",
       "      <td>1.00</td>\n",
       "      <td>31.37</td>\n",
       "    </tr>\n",
       "  </tbody>\n",
       "</table>\n",
       "</div>"
      ],
      "text/plain": [
       "   Rank                      Name Platform    Year         Genre Publisher  \\\n",
       "0     1                Wii Sports      Wii  2006.0        Sports  Nintendo   \n",
       "1     2         Super Mario Bros.      NES  1985.0      Platform  Nintendo   \n",
       "2     3            Mario Kart Wii      Wii  2008.0        Racing  Nintendo   \n",
       "3     4         Wii Sports Resort      Wii  2009.0        Sports  Nintendo   \n",
       "4     5  Pokemon Red/Pokemon Blue       GB  1996.0  Role-Playing  Nintendo   \n",
       "\n",
       "   NA_Sales  EU_Sales  JP_Sales  Other_Sales  Global_Sales  \n",
       "0     41.49     29.02      3.77         8.46         82.74  \n",
       "1     29.08      3.58      6.81         0.77         40.24  \n",
       "2     15.85     12.88      3.79         3.31         35.82  \n",
       "3     15.75     11.01      3.28         2.96         33.00  \n",
       "4     11.27      8.89     10.22         1.00         31.37  "
      ]
     },
     "execution_count": 6,
     "metadata": {},
     "output_type": "execute_result"
    }
   ],
   "source": [
    "vg_sales_df.head()"
   ]
  },
  {
   "cell_type": "markdown",
   "id": "3c33ace6-ad21-4de0-8ad0-3ef4b5587d08",
   "metadata": {},
   "source": [
    "3. Скільки рядків і стовпців в таблиці?"
   ]
  },
  {
   "cell_type": "code",
   "execution_count": 13,
   "id": "e60c3a64-56e4-44d3-a8e2-c72c0e41bc9a",
   "metadata": {},
   "outputs": [
    {
     "name": "stdout",
     "output_type": "stream",
     "text": [
      "Rows:  16598\n",
      "Cols:  11\n"
     ]
    }
   ],
   "source": [
    "rows = vg_sales_df.shape[0]\n",
    "cols = vg_sales_df.shape[1]\n",
    "print('Rows: ',rows)\n",
    "print('Cols: ',cols)"
   ]
  },
  {
   "cell_type": "markdown",
   "id": "c6cdc123-5d7a-4c2b-90c4-9ee4fd69c16d",
   "metadata": {},
   "source": [
    "4. Які назви стовпців?"
   ]
  },
  {
   "cell_type": "code",
   "execution_count": 14,
   "id": "079c7362-b798-4539-aae7-45a35b6ca277",
   "metadata": {},
   "outputs": [
    {
     "name": "stdout",
     "output_type": "stream",
     "text": [
      "<class 'pandas.core.frame.DataFrame'>\n",
      "RangeIndex: 16598 entries, 0 to 16597\n",
      "Data columns (total 11 columns):\n",
      " #   Column        Non-Null Count  Dtype  \n",
      "---  ------        --------------  -----  \n",
      " 0   Rank          16598 non-null  int64  \n",
      " 1   Name          16598 non-null  object \n",
      " 2   Platform      16598 non-null  object \n",
      " 3   Year          16327 non-null  float64\n",
      " 4   Genre         16598 non-null  object \n",
      " 5   Publisher     16540 non-null  object \n",
      " 6   NA_Sales      16598 non-null  float64\n",
      " 7   EU_Sales      16598 non-null  float64\n",
      " 8   JP_Sales      16598 non-null  float64\n",
      " 9   Other_Sales   16598 non-null  float64\n",
      " 10  Global_Sales  16598 non-null  float64\n",
      "dtypes: float64(6), int64(1), object(4)\n",
      "memory usage: 1.4+ MB\n"
     ]
    }
   ],
   "source": [
    "vg_sales_df.info()"
   ]
  },
  {
   "cell_type": "markdown",
   "id": "f3d1239e-3123-4e4b-8c53-931d37367091",
   "metadata": {},
   "source": [
    "У даному випадку можна замітити що назви стовпців записані у колонці \"Column\"."
   ]
  },
  {
   "cell_type": "markdown",
   "id": "9f6f117a-33c5-4245-815b-e140453266d9",
   "metadata": {},
   "source": [
    "5. Які типи даних у різних стовпців?"
   ]
  },
  {
   "cell_type": "code",
   "execution_count": 18,
   "id": "293d5c75-46a5-4c59-bf82-8144ae2f489e",
   "metadata": {},
   "outputs": [
    {
     "name": "stdout",
     "output_type": "stream",
     "text": [
      "<class 'pandas.core.frame.DataFrame'>\n",
      "RangeIndex: 16598 entries, 0 to 16597\n",
      "Data columns (total 11 columns):\n",
      " #   Column        Non-Null Count  Dtype  \n",
      "---  ------        --------------  -----  \n",
      " 0   Rank          16598 non-null  int64  \n",
      " 1   Name          16598 non-null  object \n",
      " 2   Platform      16598 non-null  object \n",
      " 3   Year          16327 non-null  float64\n",
      " 4   Genre         16598 non-null  object \n",
      " 5   Publisher     16540 non-null  object \n",
      " 6   NA_Sales      16598 non-null  float64\n",
      " 7   EU_Sales      16598 non-null  float64\n",
      " 8   JP_Sales      16598 non-null  float64\n",
      " 9   Other_Sales   16598 non-null  float64\n",
      " 10  Global_Sales  16598 non-null  float64\n",
      "dtypes: float64(6), int64(1), object(4)\n",
      "memory usage: 1.4+ MB\n"
     ]
    }
   ],
   "source": [
    "vg_sales_df.info()"
   ]
  },
  {
   "cell_type": "markdown",
   "id": "ac8e66f4-c4a0-4733-bbd2-f7aad4e0557a",
   "metadata": {},
   "source": [
    "Типи даних, які відповідають стовпцям знаходяться в колонці \"Dtype\"."
   ]
  },
  {
   "cell_type": "markdown",
   "id": "077a641a-355b-4bb8-a836-cd7dac4f8c54",
   "metadata": {},
   "source": [
    "6. Скільки в кожному з них унікальних значень?"
   ]
  },
  {
   "cell_type": "code",
   "execution_count": 34,
   "id": "e16a1a36-d12b-45b2-97e8-f65d417f99c7",
   "metadata": {},
   "outputs": [
    {
     "name": "stdout",
     "output_type": "stream",
     "text": [
      "Unique values(Rank):  16598\n"
     ]
    }
   ],
   "source": [
    "Rank = len(vg_sales_df['Rank'].unique())\n",
    "print(\"Unique values(Rank): \", Rank)"
   ]
  },
  {
   "cell_type": "code",
   "execution_count": 35,
   "id": "147819fd-b37f-4578-96b0-08ab55557207",
   "metadata": {},
   "outputs": [
    {
     "name": "stdout",
     "output_type": "stream",
     "text": [
      "Unique values(Name):  11493\n"
     ]
    }
   ],
   "source": [
    "Name = len(vg_sales_df['Name'].unique())\n",
    "print(\"Unique values(Name): \", Name)"
   ]
  },
  {
   "cell_type": "code",
   "execution_count": 36,
   "id": "dd8547b0-dcf0-45aa-bcc0-4ebc4618dd4f",
   "metadata": {},
   "outputs": [
    {
     "name": "stdout",
     "output_type": "stream",
     "text": [
      "Unique values(Platform):  31\n"
     ]
    }
   ],
   "source": [
    "Platform = len(vg_sales_df['Platform'].unique())\n",
    "print(\"Unique values(Platform): \", Platform)"
   ]
  },
  {
   "cell_type": "code",
   "execution_count": 37,
   "id": "1ad981fd-31b9-4610-b1cd-8aa145dd740e",
   "metadata": {},
   "outputs": [
    {
     "name": "stdout",
     "output_type": "stream",
     "text": [
      "Unique values(Year):  40\n"
     ]
    }
   ],
   "source": [
    "Year = len(vg_sales_df['Year'].unique())\n",
    "print(\"Unique values(Year): \", Year)"
   ]
  },
  {
   "cell_type": "code",
   "execution_count": 38,
   "id": "bc578ca4-485a-45af-8114-00369b5c06d6",
   "metadata": {},
   "outputs": [
    {
     "name": "stdout",
     "output_type": "stream",
     "text": [
      "Unique values(Genre):  12\n"
     ]
    }
   ],
   "source": [
    "Genre = len(vg_sales_df['Genre'].unique())\n",
    "print(\"Unique values(Genre): \", Genre)"
   ]
  },
  {
   "cell_type": "code",
   "execution_count": 39,
   "id": "9279065b-4aad-42c6-aef7-81433070e9f5",
   "metadata": {},
   "outputs": [
    {
     "name": "stdout",
     "output_type": "stream",
     "text": [
      "Unique values(Publisher):  579\n"
     ]
    }
   ],
   "source": [
    "Publisher = len(vg_sales_df['Publisher'].unique())\n",
    "print(\"Unique values(Publisher): \", Publisher)"
   ]
  },
  {
   "cell_type": "code",
   "execution_count": 40,
   "id": "e571db8d-524c-47e5-82fc-d61c382c2f9b",
   "metadata": {},
   "outputs": [
    {
     "name": "stdout",
     "output_type": "stream",
     "text": [
      "Unique values(NA_Sales):  409\n"
     ]
    }
   ],
   "source": [
    "NA_Sales = len(vg_sales_df['NA_Sales'].unique())\n",
    "print(\"Unique values(NA_Sales): \", NA_Sales)"
   ]
  },
  {
   "cell_type": "code",
   "execution_count": 41,
   "id": "4de3ee86-af51-4f63-8f8a-f5e05e8e1c3a",
   "metadata": {},
   "outputs": [
    {
     "name": "stdout",
     "output_type": "stream",
     "text": [
      "Unique values(EU_Sales):  305\n"
     ]
    }
   ],
   "source": [
    "EU_Sales = len(vg_sales_df['EU_Sales'].unique())\n",
    "print(\"Unique values(EU_Sales): \", EU_Sales)"
   ]
  },
  {
   "cell_type": "code",
   "execution_count": 42,
   "id": "449dbd03-3d74-41ce-8d7a-85ce914e74ac",
   "metadata": {},
   "outputs": [
    {
     "name": "stdout",
     "output_type": "stream",
     "text": [
      "Unique values(JP_Sales):  244\n"
     ]
    }
   ],
   "source": [
    "JP_Sales = len(vg_sales_df['JP_Sales'].unique())\n",
    "print(\"Unique values(JP_Sales): \", JP_Sales)"
   ]
  },
  {
   "cell_type": "code",
   "execution_count": 43,
   "id": "5c42014f-44aa-4aa4-bd82-269898df20e2",
   "metadata": {},
   "outputs": [
    {
     "name": "stdout",
     "output_type": "stream",
     "text": [
      "Unique values(Other_Sales):  157\n"
     ]
    }
   ],
   "source": [
    "Other_Sales = len(vg_sales_df['Other_Sales'].unique())\n",
    "print(\"Unique values(Other_Sales): \", Other_Sales)"
   ]
  },
  {
   "cell_type": "code",
   "execution_count": 44,
   "id": "e8ae56e0-0ebc-4e19-b2b2-4bb49f1f00d5",
   "metadata": {},
   "outputs": [
    {
     "name": "stdout",
     "output_type": "stream",
     "text": [
      "Unique values(Global_Sales):  623\n"
     ]
    }
   ],
   "source": [
    "Global_Sales = len(vg_sales_df['Global_Sales'].unique())\n",
    "print(\"Unique values(Global_Sales): \", Global_Sales)"
   ]
  },
  {
   "cell_type": "markdown",
   "id": "c61b5b19-d7aa-4ec2-a120-5aaae781b453",
   "metadata": {},
   "source": [
    "7. Скільки пропущених значень?"
   ]
  },
  {
   "cell_type": "code",
   "execution_count": 46,
   "id": "de4a061d-ee27-4f7f-9e1d-3a4b5a6e0d40",
   "metadata": {},
   "outputs": [
    {
     "data": {
      "text/plain": [
       "Rank              0\n",
       "Name              0\n",
       "Platform          0\n",
       "Year            271\n",
       "Genre             0\n",
       "Publisher        58\n",
       "NA_Sales          0\n",
       "EU_Sales          0\n",
       "JP_Sales          0\n",
       "Other_Sales       0\n",
       "Global_Sales      0\n",
       "dtype: int64"
      ]
     },
     "execution_count": 46,
     "metadata": {},
     "output_type": "execute_result"
    }
   ],
   "source": [
    "vg_sales_df.isnull().sum()"
   ]
  },
  {
   "cell_type": "markdown",
   "id": "d7c68879-f59c-4cae-abe5-e6e226fcb224",
   "metadata": {},
   "source": [
    "## <center>Індивідуальне завдання "
   ]
  },
  {
   "cell_type": "markdown",
   "id": "ecac3854-3b1f-41f2-ad4e-5621009f49cf",
   "metadata": {},
   "source": [
    "1. Знайдіть ТОП-10 ігор за кількістю продажів на платформі PC за всі роки\n",
    "(1980-2020)."
   ]
  },
  {
   "cell_type": "code",
   "execution_count": 20,
   "id": "1581d05f-c72b-41f8-a130-033ec0cc0681",
   "metadata": {},
   "outputs": [
    {
     "data": {
      "text/html": [
       "<div>\n",
       "<style scoped>\n",
       "    .dataframe tbody tr th:only-of-type {\n",
       "        vertical-align: middle;\n",
       "    }\n",
       "\n",
       "    .dataframe tbody tr th {\n",
       "        vertical-align: top;\n",
       "    }\n",
       "\n",
       "    .dataframe thead th {\n",
       "        text-align: right;\n",
       "    }\n",
       "</style>\n",
       "<table border=\"1\" class=\"dataframe\">\n",
       "  <thead>\n",
       "    <tr style=\"text-align: right;\">\n",
       "      <th></th>\n",
       "      <th>Rank</th>\n",
       "      <th>Name</th>\n",
       "      <th>Platform</th>\n",
       "      <th>Year</th>\n",
       "      <th>Genre</th>\n",
       "      <th>Publisher</th>\n",
       "      <th>NA_Sales</th>\n",
       "      <th>EU_Sales</th>\n",
       "      <th>JP_Sales</th>\n",
       "      <th>Other_Sales</th>\n",
       "      <th>Global_Sales</th>\n",
       "    </tr>\n",
       "  </thead>\n",
       "  <tbody>\n",
       "    <tr>\n",
       "      <th>83</th>\n",
       "      <td>84</td>\n",
       "      <td>The Sims 3</td>\n",
       "      <td>PC</td>\n",
       "      <td>2009.0</td>\n",
       "      <td>Simulation</td>\n",
       "      <td>Electronic Arts</td>\n",
       "      <td>0.98</td>\n",
       "      <td>6.42</td>\n",
       "      <td>0.00</td>\n",
       "      <td>0.71</td>\n",
       "      <td>8.11</td>\n",
       "    </tr>\n",
       "    <tr>\n",
       "      <th>137</th>\n",
       "      <td>138</td>\n",
       "      <td>World of Warcraft</td>\n",
       "      <td>PC</td>\n",
       "      <td>2004.0</td>\n",
       "      <td>Role-Playing</td>\n",
       "      <td>Activision</td>\n",
       "      <td>0.07</td>\n",
       "      <td>6.21</td>\n",
       "      <td>0.00</td>\n",
       "      <td>0.00</td>\n",
       "      <td>6.28</td>\n",
       "    </tr>\n",
       "    <tr>\n",
       "      <th>181</th>\n",
       "      <td>182</td>\n",
       "      <td>Diablo III</td>\n",
       "      <td>PC</td>\n",
       "      <td>2012.0</td>\n",
       "      <td>Role-Playing</td>\n",
       "      <td>Activision</td>\n",
       "      <td>2.43</td>\n",
       "      <td>2.15</td>\n",
       "      <td>0.00</td>\n",
       "      <td>0.62</td>\n",
       "      <td>5.20</td>\n",
       "    </tr>\n",
       "    <tr>\n",
       "      <th>194</th>\n",
       "      <td>195</td>\n",
       "      <td>Microsoft Flight Simulator</td>\n",
       "      <td>PC</td>\n",
       "      <td>1996.0</td>\n",
       "      <td>Simulation</td>\n",
       "      <td>Microsoft Game Studios</td>\n",
       "      <td>3.22</td>\n",
       "      <td>1.69</td>\n",
       "      <td>0.00</td>\n",
       "      <td>0.20</td>\n",
       "      <td>5.12</td>\n",
       "    </tr>\n",
       "    <tr>\n",
       "      <th>217</th>\n",
       "      <td>218</td>\n",
       "      <td>StarCraft II: Wings of Liberty</td>\n",
       "      <td>PC</td>\n",
       "      <td>2010.0</td>\n",
       "      <td>Strategy</td>\n",
       "      <td>Activision</td>\n",
       "      <td>2.56</td>\n",
       "      <td>1.68</td>\n",
       "      <td>0.00</td>\n",
       "      <td>0.59</td>\n",
       "      <td>4.83</td>\n",
       "    </tr>\n",
       "    <tr>\n",
       "      <th>267</th>\n",
       "      <td>268</td>\n",
       "      <td>Warcraft II: Tides of Darkness</td>\n",
       "      <td>PC</td>\n",
       "      <td>1995.0</td>\n",
       "      <td>Strategy</td>\n",
       "      <td>Activision</td>\n",
       "      <td>1.70</td>\n",
       "      <td>2.27</td>\n",
       "      <td>0.00</td>\n",
       "      <td>0.23</td>\n",
       "      <td>4.21</td>\n",
       "    </tr>\n",
       "    <tr>\n",
       "      <th>281</th>\n",
       "      <td>282</td>\n",
       "      <td>Half-Life</td>\n",
       "      <td>PC</td>\n",
       "      <td>1997.0</td>\n",
       "      <td>Shooter</td>\n",
       "      <td>Vivendi Games</td>\n",
       "      <td>4.03</td>\n",
       "      <td>0.00</td>\n",
       "      <td>0.09</td>\n",
       "      <td>0.00</td>\n",
       "      <td>4.12</td>\n",
       "    </tr>\n",
       "    <tr>\n",
       "      <th>288</th>\n",
       "      <td>289</td>\n",
       "      <td>World of Warcraft: The Burning Crusade</td>\n",
       "      <td>PC</td>\n",
       "      <td>2007.0</td>\n",
       "      <td>Role-Playing</td>\n",
       "      <td>Activision</td>\n",
       "      <td>2.57</td>\n",
       "      <td>1.52</td>\n",
       "      <td>0.00</td>\n",
       "      <td>0.00</td>\n",
       "      <td>4.09</td>\n",
       "    </tr>\n",
       "    <tr>\n",
       "      <th>310</th>\n",
       "      <td>311</td>\n",
       "      <td>The Elder Scrolls V: Skyrim</td>\n",
       "      <td>PC</td>\n",
       "      <td>2011.0</td>\n",
       "      <td>Role-Playing</td>\n",
       "      <td>Bethesda Softworks</td>\n",
       "      <td>1.15</td>\n",
       "      <td>2.09</td>\n",
       "      <td>0.00</td>\n",
       "      <td>0.64</td>\n",
       "      <td>3.88</td>\n",
       "    </tr>\n",
       "    <tr>\n",
       "      <th>328</th>\n",
       "      <td>329</td>\n",
       "      <td>The Sims: Unleashed</td>\n",
       "      <td>PC</td>\n",
       "      <td>2002.0</td>\n",
       "      <td>Simulation</td>\n",
       "      <td>Electronic Arts</td>\n",
       "      <td>2.03</td>\n",
       "      <td>1.56</td>\n",
       "      <td>0.00</td>\n",
       "      <td>0.17</td>\n",
       "      <td>3.76</td>\n",
       "    </tr>\n",
       "  </tbody>\n",
       "</table>\n",
       "</div>"
      ],
      "text/plain": [
       "     Rank                                    Name Platform    Year  \\\n",
       "83     84                              The Sims 3       PC  2009.0   \n",
       "137   138                       World of Warcraft       PC  2004.0   \n",
       "181   182                              Diablo III       PC  2012.0   \n",
       "194   195              Microsoft Flight Simulator       PC  1996.0   \n",
       "217   218          StarCraft II: Wings of Liberty       PC  2010.0   \n",
       "267   268          Warcraft II: Tides of Darkness       PC  1995.0   \n",
       "281   282                               Half-Life       PC  1997.0   \n",
       "288   289  World of Warcraft: The Burning Crusade       PC  2007.0   \n",
       "310   311             The Elder Scrolls V: Skyrim       PC  2011.0   \n",
       "328   329                     The Sims: Unleashed       PC  2002.0   \n",
       "\n",
       "            Genre               Publisher  NA_Sales  EU_Sales  JP_Sales  \\\n",
       "83     Simulation         Electronic Arts      0.98      6.42      0.00   \n",
       "137  Role-Playing              Activision      0.07      6.21      0.00   \n",
       "181  Role-Playing              Activision      2.43      2.15      0.00   \n",
       "194    Simulation  Microsoft Game Studios      3.22      1.69      0.00   \n",
       "217      Strategy              Activision      2.56      1.68      0.00   \n",
       "267      Strategy              Activision      1.70      2.27      0.00   \n",
       "281       Shooter           Vivendi Games      4.03      0.00      0.09   \n",
       "288  Role-Playing              Activision      2.57      1.52      0.00   \n",
       "310  Role-Playing      Bethesda Softworks      1.15      2.09      0.00   \n",
       "328    Simulation         Electronic Arts      2.03      1.56      0.00   \n",
       "\n",
       "     Other_Sales  Global_Sales  \n",
       "83          0.71          8.11  \n",
       "137         0.00          6.28  \n",
       "181         0.62          5.20  \n",
       "194         0.20          5.12  \n",
       "217         0.59          4.83  \n",
       "267         0.23          4.21  \n",
       "281         0.00          4.12  \n",
       "288         0.00          4.09  \n",
       "310         0.64          3.88  \n",
       "328         0.17          3.76  "
      ]
     },
     "execution_count": 20,
     "metadata": {},
     "output_type": "execute_result"
    }
   ],
   "source": [
    "vg_sales_df[vg_sales_df['Platform']==\"PC\"].sort_values(by=\"Global_Sales\", ascending=False).head(10)\n"
   ]
  },
  {
   "cell_type": "markdown",
   "id": "c8637b16-7eee-4277-a2cf-1a5977f13171",
   "metadata": {},
   "source": [
    "2. Побудуйте графік продажів гри Super Mario Bros. в Європі за роками."
   ]
  },
  {
   "cell_type": "code",
   "execution_count": 49,
   "id": "a9c42bcf-d093-4b30-917e-e11cfb17d0c1",
   "metadata": {},
   "outputs": [
    {
     "data": {
      "image/png": "[encoded data removed]",
      "text/plain": [
       "<Figure size 640x480 with 7 Axes>"
      ]
     },
     "metadata": {},
     "output_type": "display_data"
    }
   ],
   "source": [
    "vg_sales_df[vg_sales_df['Name']==\"Super Mario Bros.\"].sort_values(by=\"Year\", ascending=True).plot(subplots=True);"
   ]
  },
  {
   "cell_type": "code",
   "execution_count": 89,
   "id": "a82bd7fd-3c0b-4e41-bf12-e7aa95a96a91",
   "metadata": {},
   "outputs": [
    {
     "data": {
      "text/plain": [
       "<AxesSubplot:xlabel='Year'>"
      ]
     },
     "execution_count": 89,
     "metadata": {},
     "output_type": "execute_result"
    },
    {
     "data": {
      "image/png": "[encoded data removed]",
      "text/plain": [
       "<Figure size 640x480 with 1 Axes>"
      ]
     },
     "metadata": {},
     "output_type": "display_data"
    }
   ],
   "source": [
    "vg_sales_df[vg_sales_df['Name']==\"Super Mario Bros.\"].sort_values(by=\"Year\", ascending=True).plot(\"Year\", \"EU_Sales\")"
   ]
  },
  {
   "cell_type": "code",
   "execution_count": 55,
   "id": "99bc3643-eae6-4354-b10f-5cfb155f994b",
   "metadata": {},
   "outputs": [
    {
     "data": {
      "text/html": [
       "<div>\n",
       "<style scoped>\n",
       "    .dataframe tbody tr th:only-of-type {\n",
       "        vertical-align: middle;\n",
       "    }\n",
       "\n",
       "    .dataframe tbody tr th {\n",
       "        vertical-align: top;\n",
       "    }\n",
       "\n",
       "    .dataframe thead th {\n",
       "        text-align: right;\n",
       "    }\n",
       "</style>\n",
       "<table border=\"1\" class=\"dataframe\">\n",
       "  <thead>\n",
       "    <tr style=\"text-align: right;\">\n",
       "      <th></th>\n",
       "      <th>Rank</th>\n",
       "      <th>Name</th>\n",
       "      <th>Platform</th>\n",
       "      <th>Year</th>\n",
       "      <th>Genre</th>\n",
       "      <th>Publisher</th>\n",
       "      <th>NA_Sales</th>\n",
       "      <th>EU_Sales</th>\n",
       "      <th>JP_Sales</th>\n",
       "      <th>Other_Sales</th>\n",
       "      <th>Global_Sales</th>\n",
       "    </tr>\n",
       "  </thead>\n",
       "  <tbody>\n",
       "    <tr>\n",
       "      <th>1</th>\n",
       "      <td>2</td>\n",
       "      <td>Super Mario Bros.</td>\n",
       "      <td>NES</td>\n",
       "      <td>1985.0</td>\n",
       "      <td>Platform</td>\n",
       "      <td>Nintendo</td>\n",
       "      <td>29.08</td>\n",
       "      <td>3.58</td>\n",
       "      <td>6.81</td>\n",
       "      <td>0.77</td>\n",
       "      <td>40.24</td>\n",
       "    </tr>\n",
       "    <tr>\n",
       "      <th>200</th>\n",
       "      <td>201</td>\n",
       "      <td>Super Mario Bros.</td>\n",
       "      <td>GB</td>\n",
       "      <td>1999.0</td>\n",
       "      <td>Platform</td>\n",
       "      <td>Nintendo</td>\n",
       "      <td>3.40</td>\n",
       "      <td>1.30</td>\n",
       "      <td>0.15</td>\n",
       "      <td>0.22</td>\n",
       "      <td>5.07</td>\n",
       "    </tr>\n",
       "  </tbody>\n",
       "</table>\n",
       "</div>"
      ],
      "text/plain": [
       "     Rank               Name Platform    Year     Genre Publisher  NA_Sales  \\\n",
       "1       2  Super Mario Bros.      NES  1985.0  Platform  Nintendo     29.08   \n",
       "200   201  Super Mario Bros.       GB  1999.0  Platform  Nintendo      3.40   \n",
       "\n",
       "     EU_Sales  JP_Sales  Other_Sales  Global_Sales  \n",
       "1        3.58      6.81         0.77         40.24  \n",
       "200      1.30      0.15         0.22          5.07  "
      ]
     },
     "execution_count": 55,
     "metadata": {},
     "output_type": "execute_result"
    }
   ],
   "source": [
    "vg_sales_df[vg_sales_df['Name']==\"Super Mario Bros.\"].sort_values(by=\"Year\", ascending=True)"
   ]
  },
  {
   "cell_type": "markdown",
   "id": "acc66683-a9d9-4182-a7b8-4aa65fa10f66",
   "metadata": {},
   "source": [
    "З графіка можна побачити, що найбільше продажів копій гри припадає на 1985 рік, найменше - на 1999 рік."
   ]
  },
  {
   "cell_type": "markdown",
   "id": "3b848566-bb15-4bfa-8937-606a20a19354",
   "metadata": {},
   "source": [
    "3. Визначте, ігри якого жанру найчастіше продавались в Північній\n",
    "Америці у 2010 році. Підрахуйте сумарну кількість проданих ігор цього\n",
    "жанру."
   ]
  },
  {
   "cell_type": "code",
   "execution_count": 122,
   "id": "e936eda7-023f-4e5f-959c-5d66fea51628",
   "metadata": {},
   "outputs": [
    {
     "data": {
      "text/plain": [
       "Genre\n",
       "Action          60.32\n",
       "Adventure        6.30\n",
       "Fighting         7.46\n",
       "Misc            54.97\n",
       "Platform        17.16\n",
       "Puzzle           6.55\n",
       "Racing          14.26\n",
       "Role-Playing    28.55\n",
       "Shooter         43.10\n",
       "Simulation      11.23\n",
       "Sports          48.56\n",
       "Strategy         5.78\n",
       "Name: NA_Sales, dtype: float64"
      ]
     },
     "execution_count": 122,
     "metadata": {},
     "output_type": "execute_result"
    }
   ],
   "source": [
    "vg_sales_df[vg_sales_df['Year']==2010].groupby(\"Genre\").sum()[\"NA_Sales\"]"
   ]
  },
  {
   "cell_type": "markdown",
   "id": "31ac5a4e-12b8-4b69-a578-6d3e5872b942",
   "metadata": {},
   "source": [
    "Отже, відповідно до отриманої вибірки даних, можна стверджувати, що у 2010 році в Північній Америці найчастіше продавались ігри з жанром \"Action\"."
   ]
  },
  {
   "cell_type": "markdown",
   "id": "a05d0b2a-d203-4d87-8146-4d0b648e74a1",
   "metadata": {},
   "source": [
    "Знайдемо загальну кількість проданих ігор цього жанру:"
   ]
  },
  {
   "cell_type": "code",
   "execution_count": 18,
   "id": "02ee432d-b899-400a-b164-47fc4e4ef005",
   "metadata": {},
   "outputs": [
    {
     "data": {
      "text/plain": [
       "226"
      ]
     },
     "execution_count": 18,
     "metadata": {},
     "output_type": "execute_result"
    }
   ],
   "source": [
    "sum_sales = vg_sales_df[vg_sales_df['Genre']==\"Action\"]\n",
    "sum_sales2010 = sum_sales[sum_sales['Year']==2010]\n",
    "sum_sales2010[\"Name\"].value_counts().sum()\n",
    "#[\"Name\"].value_counts()\n",
    "#print (\"Загальна кількість проданих ігор жанру Action: \", sum_sales*1000000)"
   ]
  },
  {
   "cell_type": "markdown",
   "id": "27901b57-8806-4966-a4ea-a8a62652d0ff",
   "metadata": {},
   "source": [
    "4. Побудуйте кругову діаграму, яка відображає долю проданих ігор 5\n",
    "найпопулярніших видавництв (Publisher) по відношенню до загальної\n",
    "кількості проданих ігор за останні 10 років."
   ]
  },
  {
   "cell_type": "code",
   "execution_count": 20,
   "id": "04ee9d0a-05cf-4169-b55b-e9a50eace6ee",
   "metadata": {},
   "outputs": [
    {
     "data": {
      "text/plain": [
       "Publisher\n",
       "Electronic Arts         279.54\n",
       "Nintendo                239.99\n",
       "Activision              232.26\n",
       "Ubisoft                 177.52\n",
       "Take-Two Interactive    140.20\n",
       "Name: Global_Sales, dtype: float64"
      ]
     },
     "execution_count": 20,
     "metadata": {},
     "output_type": "execute_result"
    }
   ],
   "source": [
    "publ = vg_sales_df[vg_sales_df['Year']>2010].groupby(\"Publisher\").sum()[\"Global_Sales\"].sort_values(ascending=False).head(5)\n",
    "publ"
   ]
  },
  {
   "cell_type": "code",
   "execution_count": 21,
   "id": "59b5d41e-c8c8-4cf0-a3e8-98f483826837",
   "metadata": {},
   "outputs": [
    {
     "data": {
      "text/plain": [
       "<AxesSubplot:ylabel='Global_Sales'>"
      ]
     },
     "execution_count": 21,
     "metadata": {},
     "output_type": "execute_result"
    },
    {
     "data": {
      "image/png": "[encoded data removed]",
      "text/plain": [
       "<Figure size 500x500 with 1 Axes>"
      ]
     },
     "metadata": {},
     "output_type": "display_data"
    }
   ],
   "source": [
    "publ.plot(kind=\"pie\", figsize=(5, 5), fontsize=16)"
   ]
  },
  {
   "cell_type": "code",
   "execution_count": null,
   "id": "77031db2-6d9f-4583-b093-63acefd2f4a8",
   "metadata": {},
   "outputs": [],
   "source": []
  }
 ],
 "metadata": {
  "kernelspec": {
   "display_name": "Python 3 (ipykernel)",
   "language": "python",
   "name": "python3"
  },
  "language_info": {
   "codemirror_mode": {
    "name": "ipython",
    "version": 3
   },
   "file_extension": ".py",
   "mimetype": "text/x-python",
   "name": "python",
   "nbconvert_exporter": "python",
   "pygments_lexer": "ipython3",
   "version": "3.7.0"
  }
 },
 "nbformat": 4,
 "nbformat_minor": 5
}
