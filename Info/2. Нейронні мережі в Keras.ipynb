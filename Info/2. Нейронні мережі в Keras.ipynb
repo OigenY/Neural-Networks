{
 "cells": [
  {
   "cell_type": "markdown",
   "id": "environmental-billy",
   "metadata": {},
   "source": [
    "# <center>Тема 2.1\n",
    "## <center>Нейронні мережі в Keras"
   ]
  },
  {
   "cell_type": "markdown",
   "id": "textile-beaver",
   "metadata": {},
   "source": [
    "<center><img src='https://upload.wikimedia.org/wikipedia/commons/thumb/a/ae/Keras_logo.svg/1200px-Keras_logo.svg.png' width=\"10%\">"
   ]
  },
  {
   "cell_type": "markdown",
   "id": "virgin-bottom",
   "metadata": {},
   "source": [
    "### <center>Загальні відомості"
   ]
  },
  {
   "cell_type": "markdown",
   "id": "authorized-canadian",
   "metadata": {},
   "source": [
    "**Keras** — відкрита нейромережна бібліотека, написана мовою Python. Вона здатна працювати поверх TensorFlow, Microsoft Cognitive Toolkit, R, Theano та інших модулів. Keras дозволяє легко проводити  експерименти з мережами глибинного навчання. Основними меревагами є зручність в користуванні, модульність та розширюваність.\n",
    "\n",
    "Автор бібліотеки - François Chollet, Deep learning researcher at Google."
   ]
  },
  {
   "cell_type": "markdown",
   "id": "irish-recovery",
   "metadata": {},
   "source": [
    "- Повна документація за бібліотекою: https://keras.io/api/"
   ]
  },
  {
   "cell_type": "markdown",
   "id": "armed-accident",
   "metadata": {},
   "source": [
    "Keras працює з усіма відомими архітектурами нейронних мереж.\n",
    "\n",
    "Список модулів Keras:\n",
    "\n",
    "- Layers - містить набір прошарків нейронних мереж\n",
    "- Data preprocessing - для попередньої обробки даних\n",
    "- Optimizers - набір оптимізаторів\n",
    "- Metrics - набір метрик\n",
    "- Losses - набір функцій втрат (критеріїв якості)\n",
    "- Built-in small datasets - вбудовані набори даних\n",
    "- та інші..."
   ]
  },
  {
   "cell_type": "markdown",
   "id": "former-aspect",
   "metadata": {},
   "source": [
    "Послідовність кроків для створення нейронної мережі:\n",
    "\n",
    "- 1) Описати архітектуру мережі\n",
    "- 2) Описати вхідні значення\n",
    "- 3) Описати умови навчання (Compilation)\n",
    "- 4) Навчити (кілька разів?)\n",
    "- 5) Оцінити якість моделі\n",
    "- 6) Застосувати"
   ]
  },
  {
   "cell_type": "markdown",
   "id": "comparative-proportion",
   "metadata": {},
   "source": [
    "### <center>Приклад створення нейромережі"
   ]
  },
  {
   "cell_type": "markdown",
   "id": "unable-harrison",
   "metadata": {},
   "source": [
    "Розглянемо приклад. Необхідно створити нейронну мережу для класифікації мобільних телефонів за ціновою категорією (всього є 4 класи: 0 - найдешевші моделі, 1 - більш дорогі ... 3 - найбільш дорогі)."
   ]
  },
  {
   "cell_type": "markdown",
   "id": "round-notebook",
   "metadata": {},
   "source": [
    "Перш за все, потрібно імпортувати необхідні модулі."
   ]
  },
  {
   "cell_type": "code",
   "execution_count": 32,
   "id": "theoretical-breed",
   "metadata": {},
   "outputs": [],
   "source": [
    "# Для роботи з даними\n",
    "import pandas as pd\n",
    "import matplotlib.pyplot as plt\n",
    "import numpy as np\n",
    "from sklearn.model_selection import train_test_split\n",
    "\n",
    "# Для роботи з Keras\n",
    "from tensorflow.keras.models import Sequential # модель прямого розповсюдження\n",
    "from tensorflow.keras.layers import Dense # повнозв'язні прошарки"
   ]
  },
  {
   "cell_type": "markdown",
   "id": "inappropriate-university",
   "metadata": {},
   "source": [
    "Наступний код тільки для старих відеокарт (щоб працювало без помилок)"
   ]
  },
  {
   "cell_type": "code",
   "execution_count": 15,
   "id": "heated-junior",
   "metadata": {},
   "outputs": [],
   "source": [
    "import tensorflow as tf\n",
    "physical_devices = tf.config.list_physical_devices('GPU') \n",
    "tf.config.experimental.set_memory_growth(physical_devices[0], True)"
   ]
  },
  {
   "cell_type": "markdown",
   "id": "liable-jungle",
   "metadata": {},
   "source": [
    "Завантажуємо навчальні дані."
   ]
  },
  {
   "cell_type": "code",
   "execution_count": 33,
   "id": "honest-hardware",
   "metadata": {},
   "outputs": [
    {
     "data": {
      "text/html": [
       "<div>\n",
       "<style scoped>\n",
       "    .dataframe tbody tr th:only-of-type {\n",
       "        vertical-align: middle;\n",
       "    }\n",
       "\n",
       "    .dataframe tbody tr th {\n",
       "        vertical-align: top;\n",
       "    }\n",
       "\n",
       "    .dataframe thead th {\n",
       "        text-align: right;\n",
       "    }\n",
       "</style>\n",
       "<table border=\"1\" class=\"dataframe\">\n",
       "  <thead>\n",
       "    <tr style=\"text-align: right;\">\n",
       "      <th></th>\n",
       "      <th>battery_power</th>\n",
       "      <th>blue</th>\n",
       "      <th>clock_speed</th>\n",
       "      <th>dual_sim</th>\n",
       "      <th>fc</th>\n",
       "      <th>four_g</th>\n",
       "      <th>int_memory</th>\n",
       "      <th>m_dep</th>\n",
       "      <th>mobile_wt</th>\n",
       "      <th>n_cores</th>\n",
       "      <th>...</th>\n",
       "      <th>px_height</th>\n",
       "      <th>px_width</th>\n",
       "      <th>ram</th>\n",
       "      <th>sc_h</th>\n",
       "      <th>sc_w</th>\n",
       "      <th>talk_time</th>\n",
       "      <th>three_g</th>\n",
       "      <th>touch_screen</th>\n",
       "      <th>wifi</th>\n",
       "      <th>price_range</th>\n",
       "    </tr>\n",
       "  </thead>\n",
       "  <tbody>\n",
       "    <tr>\n",
       "      <th>0</th>\n",
       "      <td>842</td>\n",
       "      <td>0</td>\n",
       "      <td>2.2</td>\n",
       "      <td>0</td>\n",
       "      <td>1</td>\n",
       "      <td>0</td>\n",
       "      <td>7</td>\n",
       "      <td>0.6</td>\n",
       "      <td>188</td>\n",
       "      <td>2</td>\n",
       "      <td>...</td>\n",
       "      <td>20</td>\n",
       "      <td>756</td>\n",
       "      <td>2549</td>\n",
       "      <td>9</td>\n",
       "      <td>7</td>\n",
       "      <td>19</td>\n",
       "      <td>0</td>\n",
       "      <td>0</td>\n",
       "      <td>1</td>\n",
       "      <td>1</td>\n",
       "    </tr>\n",
       "    <tr>\n",
       "      <th>1</th>\n",
       "      <td>1021</td>\n",
       "      <td>1</td>\n",
       "      <td>0.5</td>\n",
       "      <td>1</td>\n",
       "      <td>0</td>\n",
       "      <td>1</td>\n",
       "      <td>53</td>\n",
       "      <td>0.7</td>\n",
       "      <td>136</td>\n",
       "      <td>3</td>\n",
       "      <td>...</td>\n",
       "      <td>905</td>\n",
       "      <td>1988</td>\n",
       "      <td>2631</td>\n",
       "      <td>17</td>\n",
       "      <td>3</td>\n",
       "      <td>7</td>\n",
       "      <td>1</td>\n",
       "      <td>1</td>\n",
       "      <td>0</td>\n",
       "      <td>2</td>\n",
       "    </tr>\n",
       "    <tr>\n",
       "      <th>2</th>\n",
       "      <td>563</td>\n",
       "      <td>1</td>\n",
       "      <td>0.5</td>\n",
       "      <td>1</td>\n",
       "      <td>2</td>\n",
       "      <td>1</td>\n",
       "      <td>41</td>\n",
       "      <td>0.9</td>\n",
       "      <td>145</td>\n",
       "      <td>5</td>\n",
       "      <td>...</td>\n",
       "      <td>1263</td>\n",
       "      <td>1716</td>\n",
       "      <td>2603</td>\n",
       "      <td>11</td>\n",
       "      <td>2</td>\n",
       "      <td>9</td>\n",
       "      <td>1</td>\n",
       "      <td>1</td>\n",
       "      <td>0</td>\n",
       "      <td>2</td>\n",
       "    </tr>\n",
       "    <tr>\n",
       "      <th>3</th>\n",
       "      <td>615</td>\n",
       "      <td>1</td>\n",
       "      <td>2.5</td>\n",
       "      <td>0</td>\n",
       "      <td>0</td>\n",
       "      <td>0</td>\n",
       "      <td>10</td>\n",
       "      <td>0.8</td>\n",
       "      <td>131</td>\n",
       "      <td>6</td>\n",
       "      <td>...</td>\n",
       "      <td>1216</td>\n",
       "      <td>1786</td>\n",
       "      <td>2769</td>\n",
       "      <td>16</td>\n",
       "      <td>8</td>\n",
       "      <td>11</td>\n",
       "      <td>1</td>\n",
       "      <td>0</td>\n",
       "      <td>0</td>\n",
       "      <td>2</td>\n",
       "    </tr>\n",
       "    <tr>\n",
       "      <th>4</th>\n",
       "      <td>1821</td>\n",
       "      <td>1</td>\n",
       "      <td>1.2</td>\n",
       "      <td>0</td>\n",
       "      <td>13</td>\n",
       "      <td>1</td>\n",
       "      <td>44</td>\n",
       "      <td>0.6</td>\n",
       "      <td>141</td>\n",
       "      <td>2</td>\n",
       "      <td>...</td>\n",
       "      <td>1208</td>\n",
       "      <td>1212</td>\n",
       "      <td>1411</td>\n",
       "      <td>8</td>\n",
       "      <td>2</td>\n",
       "      <td>15</td>\n",
       "      <td>1</td>\n",
       "      <td>1</td>\n",
       "      <td>0</td>\n",
       "      <td>1</td>\n",
       "    </tr>\n",
       "  </tbody>\n",
       "</table>\n",
       "<p>5 rows × 21 columns</p>\n",
       "</div>"
      ],
      "text/plain": [
       "   battery_power  blue  clock_speed  dual_sim  fc  four_g  int_memory  m_dep  \\\n",
       "0            842     0          2.2         0   1       0           7    0.6   \n",
       "1           1021     1          0.5         1   0       1          53    0.7   \n",
       "2            563     1          0.5         1   2       1          41    0.9   \n",
       "3            615     1          2.5         0   0       0          10    0.8   \n",
       "4           1821     1          1.2         0  13       1          44    0.6   \n",
       "\n",
       "   mobile_wt  n_cores  ...  px_height  px_width   ram  sc_h  sc_w  talk_time  \\\n",
       "0        188        2  ...         20       756  2549     9     7         19   \n",
       "1        136        3  ...        905      1988  2631    17     3          7   \n",
       "2        145        5  ...       1263      1716  2603    11     2          9   \n",
       "3        131        6  ...       1216      1786  2769    16     8         11   \n",
       "4        141        2  ...       1208      1212  1411     8     2         15   \n",
       "\n",
       "   three_g  touch_screen  wifi  price_range  \n",
       "0        0             0     1            1  \n",
       "1        1             1     0            2  \n",
       "2        1             1     0            2  \n",
       "3        1             0     0            2  \n",
       "4        1             1     0            1  \n",
       "\n",
       "[5 rows x 21 columns]"
      ]
     },
     "execution_count": 33,
     "metadata": {},
     "output_type": "execute_result"
    }
   ],
   "source": [
    "data = pd.read_csv(\"D:/Drive/ІІС/Datasets/Classification/phones_price.csv\")\n",
    "data.head()"
   ]
  },
  {
   "cell_type": "markdown",
   "id": "corresponding-choir",
   "metadata": {},
   "source": [
    "Перевіряємо, наскільки збалансована кількість зразків кожного класу. В ідеальному випадку, доля зразків кожного класу має бути приблизно однаковою."
   ]
  },
  {
   "cell_type": "code",
   "execution_count": 34,
   "id": "suspended-parking",
   "metadata": {},
   "outputs": [
    {
     "data": {
      "text/plain": [
       "0    0.25\n",
       "1    0.25\n",
       "2    0.25\n",
       "3    0.25\n",
       "Name: price_range, dtype: float64"
      ]
     },
     "execution_count": 34,
     "metadata": {},
     "output_type": "execute_result"
    }
   ],
   "source": [
    "data['price_range'].value_counts(normalize=True)"
   ]
  },
  {
   "cell_type": "markdown",
   "id": "sought-integration",
   "metadata": {},
   "source": [
    "Як бачимо, у нас 21 стовпець даних. З них перші 20 - змінні X, останній стовпець - клас телефону (цінова категорія), Y.\n",
    "\n",
    "Запишемо стовпці з характеристиками об'єктів до змінної X."
   ]
  },
  {
   "cell_type": "code",
   "execution_count": 35,
   "id": "alternative-hungary",
   "metadata": {},
   "outputs": [
    {
     "data": {
      "text/html": [
       "<div>\n",
       "<style scoped>\n",
       "    .dataframe tbody tr th:only-of-type {\n",
       "        vertical-align: middle;\n",
       "    }\n",
       "\n",
       "    .dataframe tbody tr th {\n",
       "        vertical-align: top;\n",
       "    }\n",
       "\n",
       "    .dataframe thead th {\n",
       "        text-align: right;\n",
       "    }\n",
       "</style>\n",
       "<table border=\"1\" class=\"dataframe\">\n",
       "  <thead>\n",
       "    <tr style=\"text-align: right;\">\n",
       "      <th></th>\n",
       "      <th>battery_power</th>\n",
       "      <th>blue</th>\n",
       "      <th>clock_speed</th>\n",
       "      <th>dual_sim</th>\n",
       "      <th>fc</th>\n",
       "      <th>four_g</th>\n",
       "      <th>int_memory</th>\n",
       "      <th>m_dep</th>\n",
       "      <th>mobile_wt</th>\n",
       "      <th>n_cores</th>\n",
       "      <th>pc</th>\n",
       "      <th>px_height</th>\n",
       "      <th>px_width</th>\n",
       "      <th>ram</th>\n",
       "      <th>sc_h</th>\n",
       "      <th>sc_w</th>\n",
       "      <th>talk_time</th>\n",
       "      <th>three_g</th>\n",
       "      <th>touch_screen</th>\n",
       "      <th>wifi</th>\n",
       "    </tr>\n",
       "  </thead>\n",
       "  <tbody>\n",
       "    <tr>\n",
       "      <th>0</th>\n",
       "      <td>842</td>\n",
       "      <td>0</td>\n",
       "      <td>2.2</td>\n",
       "      <td>0</td>\n",
       "      <td>1</td>\n",
       "      <td>0</td>\n",
       "      <td>7</td>\n",
       "      <td>0.6</td>\n",
       "      <td>188</td>\n",
       "      <td>2</td>\n",
       "      <td>2</td>\n",
       "      <td>20</td>\n",
       "      <td>756</td>\n",
       "      <td>2549</td>\n",
       "      <td>9</td>\n",
       "      <td>7</td>\n",
       "      <td>19</td>\n",
       "      <td>0</td>\n",
       "      <td>0</td>\n",
       "      <td>1</td>\n",
       "    </tr>\n",
       "    <tr>\n",
       "      <th>1</th>\n",
       "      <td>1021</td>\n",
       "      <td>1</td>\n",
       "      <td>0.5</td>\n",
       "      <td>1</td>\n",
       "      <td>0</td>\n",
       "      <td>1</td>\n",
       "      <td>53</td>\n",
       "      <td>0.7</td>\n",
       "      <td>136</td>\n",
       "      <td>3</td>\n",
       "      <td>6</td>\n",
       "      <td>905</td>\n",
       "      <td>1988</td>\n",
       "      <td>2631</td>\n",
       "      <td>17</td>\n",
       "      <td>3</td>\n",
       "      <td>7</td>\n",
       "      <td>1</td>\n",
       "      <td>1</td>\n",
       "      <td>0</td>\n",
       "    </tr>\n",
       "    <tr>\n",
       "      <th>2</th>\n",
       "      <td>563</td>\n",
       "      <td>1</td>\n",
       "      <td>0.5</td>\n",
       "      <td>1</td>\n",
       "      <td>2</td>\n",
       "      <td>1</td>\n",
       "      <td>41</td>\n",
       "      <td>0.9</td>\n",
       "      <td>145</td>\n",
       "      <td>5</td>\n",
       "      <td>6</td>\n",
       "      <td>1263</td>\n",
       "      <td>1716</td>\n",
       "      <td>2603</td>\n",
       "      <td>11</td>\n",
       "      <td>2</td>\n",
       "      <td>9</td>\n",
       "      <td>1</td>\n",
       "      <td>1</td>\n",
       "      <td>0</td>\n",
       "    </tr>\n",
       "    <tr>\n",
       "      <th>3</th>\n",
       "      <td>615</td>\n",
       "      <td>1</td>\n",
       "      <td>2.5</td>\n",
       "      <td>0</td>\n",
       "      <td>0</td>\n",
       "      <td>0</td>\n",
       "      <td>10</td>\n",
       "      <td>0.8</td>\n",
       "      <td>131</td>\n",
       "      <td>6</td>\n",
       "      <td>9</td>\n",
       "      <td>1216</td>\n",
       "      <td>1786</td>\n",
       "      <td>2769</td>\n",
       "      <td>16</td>\n",
       "      <td>8</td>\n",
       "      <td>11</td>\n",
       "      <td>1</td>\n",
       "      <td>0</td>\n",
       "      <td>0</td>\n",
       "    </tr>\n",
       "    <tr>\n",
       "      <th>4</th>\n",
       "      <td>1821</td>\n",
       "      <td>1</td>\n",
       "      <td>1.2</td>\n",
       "      <td>0</td>\n",
       "      <td>13</td>\n",
       "      <td>1</td>\n",
       "      <td>44</td>\n",
       "      <td>0.6</td>\n",
       "      <td>141</td>\n",
       "      <td>2</td>\n",
       "      <td>14</td>\n",
       "      <td>1208</td>\n",
       "      <td>1212</td>\n",
       "      <td>1411</td>\n",
       "      <td>8</td>\n",
       "      <td>2</td>\n",
       "      <td>15</td>\n",
       "      <td>1</td>\n",
       "      <td>1</td>\n",
       "      <td>0</td>\n",
       "    </tr>\n",
       "    <tr>\n",
       "      <th>...</th>\n",
       "      <td>...</td>\n",
       "      <td>...</td>\n",
       "      <td>...</td>\n",
       "      <td>...</td>\n",
       "      <td>...</td>\n",
       "      <td>...</td>\n",
       "      <td>...</td>\n",
       "      <td>...</td>\n",
       "      <td>...</td>\n",
       "      <td>...</td>\n",
       "      <td>...</td>\n",
       "      <td>...</td>\n",
       "      <td>...</td>\n",
       "      <td>...</td>\n",
       "      <td>...</td>\n",
       "      <td>...</td>\n",
       "      <td>...</td>\n",
       "      <td>...</td>\n",
       "      <td>...</td>\n",
       "      <td>...</td>\n",
       "    </tr>\n",
       "    <tr>\n",
       "      <th>1995</th>\n",
       "      <td>794</td>\n",
       "      <td>1</td>\n",
       "      <td>0.5</td>\n",
       "      <td>1</td>\n",
       "      <td>0</td>\n",
       "      <td>1</td>\n",
       "      <td>2</td>\n",
       "      <td>0.8</td>\n",
       "      <td>106</td>\n",
       "      <td>6</td>\n",
       "      <td>14</td>\n",
       "      <td>1222</td>\n",
       "      <td>1890</td>\n",
       "      <td>668</td>\n",
       "      <td>13</td>\n",
       "      <td>4</td>\n",
       "      <td>19</td>\n",
       "      <td>1</td>\n",
       "      <td>1</td>\n",
       "      <td>0</td>\n",
       "    </tr>\n",
       "    <tr>\n",
       "      <th>1996</th>\n",
       "      <td>1965</td>\n",
       "      <td>1</td>\n",
       "      <td>2.6</td>\n",
       "      <td>1</td>\n",
       "      <td>0</td>\n",
       "      <td>0</td>\n",
       "      <td>39</td>\n",
       "      <td>0.2</td>\n",
       "      <td>187</td>\n",
       "      <td>4</td>\n",
       "      <td>3</td>\n",
       "      <td>915</td>\n",
       "      <td>1965</td>\n",
       "      <td>2032</td>\n",
       "      <td>11</td>\n",
       "      <td>10</td>\n",
       "      <td>16</td>\n",
       "      <td>1</td>\n",
       "      <td>1</td>\n",
       "      <td>1</td>\n",
       "    </tr>\n",
       "    <tr>\n",
       "      <th>1997</th>\n",
       "      <td>1911</td>\n",
       "      <td>0</td>\n",
       "      <td>0.9</td>\n",
       "      <td>1</td>\n",
       "      <td>1</td>\n",
       "      <td>1</td>\n",
       "      <td>36</td>\n",
       "      <td>0.7</td>\n",
       "      <td>108</td>\n",
       "      <td>8</td>\n",
       "      <td>3</td>\n",
       "      <td>868</td>\n",
       "      <td>1632</td>\n",
       "      <td>3057</td>\n",
       "      <td>9</td>\n",
       "      <td>1</td>\n",
       "      <td>5</td>\n",
       "      <td>1</td>\n",
       "      <td>1</td>\n",
       "      <td>0</td>\n",
       "    </tr>\n",
       "    <tr>\n",
       "      <th>1998</th>\n",
       "      <td>1512</td>\n",
       "      <td>0</td>\n",
       "      <td>0.9</td>\n",
       "      <td>0</td>\n",
       "      <td>4</td>\n",
       "      <td>1</td>\n",
       "      <td>46</td>\n",
       "      <td>0.1</td>\n",
       "      <td>145</td>\n",
       "      <td>5</td>\n",
       "      <td>5</td>\n",
       "      <td>336</td>\n",
       "      <td>670</td>\n",
       "      <td>869</td>\n",
       "      <td>18</td>\n",
       "      <td>10</td>\n",
       "      <td>19</td>\n",
       "      <td>1</td>\n",
       "      <td>1</td>\n",
       "      <td>1</td>\n",
       "    </tr>\n",
       "    <tr>\n",
       "      <th>1999</th>\n",
       "      <td>510</td>\n",
       "      <td>1</td>\n",
       "      <td>2.0</td>\n",
       "      <td>1</td>\n",
       "      <td>5</td>\n",
       "      <td>1</td>\n",
       "      <td>45</td>\n",
       "      <td>0.9</td>\n",
       "      <td>168</td>\n",
       "      <td>6</td>\n",
       "      <td>16</td>\n",
       "      <td>483</td>\n",
       "      <td>754</td>\n",
       "      <td>3919</td>\n",
       "      <td>19</td>\n",
       "      <td>4</td>\n",
       "      <td>2</td>\n",
       "      <td>1</td>\n",
       "      <td>1</td>\n",
       "      <td>1</td>\n",
       "    </tr>\n",
       "  </tbody>\n",
       "</table>\n",
       "<p>2000 rows × 20 columns</p>\n",
       "</div>"
      ],
      "text/plain": [
       "      battery_power  blue  clock_speed  dual_sim  fc  four_g  int_memory  \\\n",
       "0               842     0          2.2         0   1       0           7   \n",
       "1              1021     1          0.5         1   0       1          53   \n",
       "2               563     1          0.5         1   2       1          41   \n",
       "3               615     1          2.5         0   0       0          10   \n",
       "4              1821     1          1.2         0  13       1          44   \n",
       "...             ...   ...          ...       ...  ..     ...         ...   \n",
       "1995            794     1          0.5         1   0       1           2   \n",
       "1996           1965     1          2.6         1   0       0          39   \n",
       "1997           1911     0          0.9         1   1       1          36   \n",
       "1998           1512     0          0.9         0   4       1          46   \n",
       "1999            510     1          2.0         1   5       1          45   \n",
       "\n",
       "      m_dep  mobile_wt  n_cores  pc  px_height  px_width   ram  sc_h  sc_w  \\\n",
       "0       0.6        188        2   2         20       756  2549     9     7   \n",
       "1       0.7        136        3   6        905      1988  2631    17     3   \n",
       "2       0.9        145        5   6       1263      1716  2603    11     2   \n",
       "3       0.8        131        6   9       1216      1786  2769    16     8   \n",
       "4       0.6        141        2  14       1208      1212  1411     8     2   \n",
       "...     ...        ...      ...  ..        ...       ...   ...   ...   ...   \n",
       "1995    0.8        106        6  14       1222      1890   668    13     4   \n",
       "1996    0.2        187        4   3        915      1965  2032    11    10   \n",
       "1997    0.7        108        8   3        868      1632  3057     9     1   \n",
       "1998    0.1        145        5   5        336       670   869    18    10   \n",
       "1999    0.9        168        6  16        483       754  3919    19     4   \n",
       "\n",
       "      talk_time  three_g  touch_screen  wifi  \n",
       "0            19        0             0     1  \n",
       "1             7        1             1     0  \n",
       "2             9        1             1     0  \n",
       "3            11        1             0     0  \n",
       "4            15        1             1     0  \n",
       "...         ...      ...           ...   ...  \n",
       "1995         19        1             1     0  \n",
       "1996         16        1             1     1  \n",
       "1997          5        1             1     0  \n",
       "1998         19        1             1     1  \n",
       "1999          2        1             1     1  \n",
       "\n",
       "[2000 rows x 20 columns]"
      ]
     },
     "execution_count": 35,
     "metadata": {},
     "output_type": "execute_result"
    }
   ],
   "source": [
    "X = data.drop('price_range', axis = 1)\n",
    "X"
   ]
  },
  {
   "cell_type": "markdown",
   "id": "favorite-cabin",
   "metadata": {},
   "source": [
    "А також створимо змінну з правильними відповідям Y. Для цього переведемо стовпець *price_range* з початкової таблиці до формату **one hot encoding**."
   ]
  },
  {
   "cell_type": "code",
   "execution_count": 36,
   "id": "functioning-resident",
   "metadata": {},
   "outputs": [
    {
     "data": {
      "text/html": [
       "<div>\n",
       "<style scoped>\n",
       "    .dataframe tbody tr th:only-of-type {\n",
       "        vertical-align: middle;\n",
       "    }\n",
       "\n",
       "    .dataframe tbody tr th {\n",
       "        vertical-align: top;\n",
       "    }\n",
       "\n",
       "    .dataframe thead th {\n",
       "        text-align: right;\n",
       "    }\n",
       "</style>\n",
       "<table border=\"1\" class=\"dataframe\">\n",
       "  <thead>\n",
       "    <tr style=\"text-align: right;\">\n",
       "      <th></th>\n",
       "      <th>Price range_0</th>\n",
       "      <th>Price range_1</th>\n",
       "      <th>Price range_2</th>\n",
       "      <th>Price range_3</th>\n",
       "    </tr>\n",
       "  </thead>\n",
       "  <tbody>\n",
       "    <tr>\n",
       "      <th>0</th>\n",
       "      <td>0</td>\n",
       "      <td>1</td>\n",
       "      <td>0</td>\n",
       "      <td>0</td>\n",
       "    </tr>\n",
       "    <tr>\n",
       "      <th>1</th>\n",
       "      <td>0</td>\n",
       "      <td>0</td>\n",
       "      <td>1</td>\n",
       "      <td>0</td>\n",
       "    </tr>\n",
       "    <tr>\n",
       "      <th>2</th>\n",
       "      <td>0</td>\n",
       "      <td>0</td>\n",
       "      <td>1</td>\n",
       "      <td>0</td>\n",
       "    </tr>\n",
       "    <tr>\n",
       "      <th>3</th>\n",
       "      <td>0</td>\n",
       "      <td>0</td>\n",
       "      <td>1</td>\n",
       "      <td>0</td>\n",
       "    </tr>\n",
       "    <tr>\n",
       "      <th>4</th>\n",
       "      <td>0</td>\n",
       "      <td>1</td>\n",
       "      <td>0</td>\n",
       "      <td>0</td>\n",
       "    </tr>\n",
       "    <tr>\n",
       "      <th>...</th>\n",
       "      <td>...</td>\n",
       "      <td>...</td>\n",
       "      <td>...</td>\n",
       "      <td>...</td>\n",
       "    </tr>\n",
       "    <tr>\n",
       "      <th>1995</th>\n",
       "      <td>1</td>\n",
       "      <td>0</td>\n",
       "      <td>0</td>\n",
       "      <td>0</td>\n",
       "    </tr>\n",
       "    <tr>\n",
       "      <th>1996</th>\n",
       "      <td>0</td>\n",
       "      <td>0</td>\n",
       "      <td>1</td>\n",
       "      <td>0</td>\n",
       "    </tr>\n",
       "    <tr>\n",
       "      <th>1997</th>\n",
       "      <td>0</td>\n",
       "      <td>0</td>\n",
       "      <td>0</td>\n",
       "      <td>1</td>\n",
       "    </tr>\n",
       "    <tr>\n",
       "      <th>1998</th>\n",
       "      <td>1</td>\n",
       "      <td>0</td>\n",
       "      <td>0</td>\n",
       "      <td>0</td>\n",
       "    </tr>\n",
       "    <tr>\n",
       "      <th>1999</th>\n",
       "      <td>0</td>\n",
       "      <td>0</td>\n",
       "      <td>0</td>\n",
       "      <td>1</td>\n",
       "    </tr>\n",
       "  </tbody>\n",
       "</table>\n",
       "<p>2000 rows × 4 columns</p>\n",
       "</div>"
      ],
      "text/plain": [
       "      Price range_0  Price range_1  Price range_2  Price range_3\n",
       "0                 0              1              0              0\n",
       "1                 0              0              1              0\n",
       "2                 0              0              1              0\n",
       "3                 0              0              1              0\n",
       "4                 0              1              0              0\n",
       "...             ...            ...            ...            ...\n",
       "1995              1              0              0              0\n",
       "1996              0              0              1              0\n",
       "1997              0              0              0              1\n",
       "1998              1              0              0              0\n",
       "1999              0              0              0              1\n",
       "\n",
       "[2000 rows x 4 columns]"
      ]
     },
     "execution_count": 36,
     "metadata": {},
     "output_type": "execute_result"
    }
   ],
   "source": [
    "Y = pd.get_dummies(data.price_range, prefix='Price range')\n",
    "Y"
   ]
  },
  {
   "cell_type": "markdown",
   "id": "racial-greece",
   "metadata": {},
   "source": [
    "Розділимо отриманий набір даних на навчальну і тестову множини."
   ]
  },
  {
   "cell_type": "code",
   "execution_count": 37,
   "id": "historic-british",
   "metadata": {},
   "outputs": [],
   "source": [
    "X_train, X_test, Y_train, Y_test = train_test_split(X, Y, test_size=0.15)"
   ]
  },
  {
   "cell_type": "markdown",
   "id": "chicken-recall",
   "metadata": {},
   "source": [
    "Виконаємо стандартизацію значень змінних X, привівши кожен стовпець до нульового середнього значення та одиничної дисперсії."
   ]
  },
  {
   "cell_type": "code",
   "execution_count": 38,
   "id": "single-banking",
   "metadata": {},
   "outputs": [],
   "source": [
    "mean = X_train.mean(axis=0)\n",
    "std = X_train.std(axis=0)\n",
    "\n",
    "X_train -= mean\n",
    "X_train /= std\n",
    "X_test -= mean\n",
    "X_test /= std"
   ]
  },
  {
   "cell_type": "markdown",
   "id": "chubby-ordinance",
   "metadata": {},
   "source": [
    "Створюємо послідовну модель:"
   ]
  },
  {
   "cell_type": "code",
   "execution_count": 39,
   "id": "enclosed-subdivision",
   "metadata": {},
   "outputs": [],
   "source": [
    "model = Sequential()"
   ]
  },
  {
   "cell_type": "markdown",
   "id": "automatic-wagner",
   "metadata": {},
   "source": [
    "Додаємо перший прихохваний прошарок `Dense`. В якості аргументів спочатку вказуємо кількість нейронів в прихованому прошарку, потім розмірність вхадного вектора (скільки характеристик X), а також активаційну функцію. В Keras доступні такі активаційні функції:\n",
    "\n",
    "- relu \n",
    "- sigmoid \n",
    "- softmax \n",
    "- softplus \n",
    "- softsign \n",
    "- tanh \n",
    "- selu \n",
    "- elu \n",
    "- exponential  \n",
    "\n",
    "Використовуємо *relu*."
   ]
  },
  {
   "cell_type": "code",
   "execution_count": 40,
   "id": "injured-cutting",
   "metadata": {},
   "outputs": [],
   "source": [
    "model.add(Dense(10, input_dim=X_train.shape[1], activation=\"relu\"))"
   ]
  },
  {
   "cell_type": "markdown",
   "id": "treated-salad",
   "metadata": {},
   "source": [
    "Додаємо другий прихований прошарок. Вказуємо тільки кількість нейронів у ньому та активаційну функцію *relu*."
   ]
  },
  {
   "cell_type": "code",
   "execution_count": 41,
   "id": "supreme-broadway",
   "metadata": {},
   "outputs": [],
   "source": [
    "model.add(Dense(5, activation=\"relu\"))"
   ]
  },
  {
   "cell_type": "markdown",
   "id": "adjacent-shell",
   "metadata": {},
   "source": [
    "Додаємо вихідний прошарок. Кількість нейронів у ньому має відповідати кількості класів (якщо використовується формат one hot encoding). Активаційна функція для задачі класифікації - *softmax*."
   ]
  },
  {
   "cell_type": "code",
   "execution_count": 42,
   "id": "personalized-journalist",
   "metadata": {},
   "outputs": [],
   "source": [
    "model.add(Dense(4, activation=\"softmax\"))"
   ]
  },
  {
   "cell_type": "markdown",
   "id": "latter-mineral",
   "metadata": {},
   "source": [
    "Описуємо умови навчання. Обов'язково потрібно задати оптимізатор, критерій якості (функцію помилки, яку будемо мінімізовувати) та метрику (показник, за яким зручно оцінювати якість навчання).\n",
    "\n",
    "В Keras доступні оптимізатори:\n",
    "\n",
    "- SGD\n",
    "- RMSprop\n",
    "- Adam\n",
    "- Adadelta\n",
    "- Adagrad\n",
    "- Adamax\n",
    "- Nadam\n",
    "- Ftrl\n",
    "\n",
    "Зараз найчастіше використовується *Adam*.\n",
    "\n",
    "В якості функцій втрат в Keras доступні різні варіанти, але для задач класифікації використовуємо такі:\n",
    "- *binary_crossentropy* - для бінарної класифікації (коли всього два класи)\n",
    "- *categorical_crossentropy* - для категоріальної класифікації (коли багато класів)\n",
    "\n",
    "Метрики, які найчастіше використовуюься для класифікації:\n",
    "- *Accuracy* (доля правильних відповідей серед всіх зразків)\n",
    "- *Precision* (як багато з обраних елементів дійсно є правильними?)\n",
    "- *Recall* (як багато елементів було обрано серед загальної кількості елементів, які потрібно було обрати)\n",
    "\n",
    "Обираємо метрику *accuracy*."
   ]
  },
  {
   "cell_type": "code",
   "execution_count": 44,
   "id": "unusual-punch",
   "metadata": {},
   "outputs": [],
   "source": [
    "model.compile(optimizer='adam', loss='categorical_crossentropy', metrics=['accuracy'])"
   ]
  },
  {
   "cell_type": "markdown",
   "id": "handmade-science",
   "metadata": {},
   "source": [
    "Навчаємо модель. Лог навчання запишемо до змінної `history`. Необхідно обов'язково вказати наступні аргументи: навчальний набір даних (`X_train`), правильні відповіді для цього набору (`Y_train`), кількість епох `epochs`, обсяг вибірки валідації `validation_split` (по відношенню до тестової вибірки). Також вкажемо розмір батчу `batch_size` та режим відображення `verbose=2`, щоб виводити повну інформацію про навчання."
   ]
  },
  {
   "cell_type": "code",
   "execution_count": 45,
   "id": "covered-highland",
   "metadata": {
    "scrolled": true
   },
   "outputs": [
    {
     "name": "stdout",
     "output_type": "stream",
     "text": [
      "Epoch 1/50\n",
      "91/91 - 0s - loss: 1.3107 - accuracy: 0.4173 - val_loss: 1.1808 - val_accuracy: 0.5137\n",
      "Epoch 2/50\n",
      "91/91 - 0s - loss: 1.1664 - accuracy: 0.5010 - val_loss: 1.0731 - val_accuracy: 0.5451\n",
      "Epoch 3/50\n",
      "91/91 - 0s - loss: 1.0377 - accuracy: 0.5578 - val_loss: 0.9576 - val_accuracy: 0.6000\n",
      "Epoch 4/50\n",
      "91/91 - 0s - loss: 0.9103 - accuracy: 0.5958 - val_loss: 0.8569 - val_accuracy: 0.6078\n",
      "Epoch 5/50\n",
      "91/91 - 0s - loss: 0.8012 - accuracy: 0.6339 - val_loss: 0.7690 - val_accuracy: 0.6471\n",
      "Epoch 6/50\n",
      "91/91 - 0s - loss: 0.7087 - accuracy: 0.6817 - val_loss: 0.6905 - val_accuracy: 0.6941\n",
      "Epoch 7/50\n",
      "91/91 - 0s - loss: 0.6290 - accuracy: 0.7543 - val_loss: 0.6222 - val_accuracy: 0.7373\n",
      "Epoch 8/50\n",
      "91/91 - 0s - loss: 0.5586 - accuracy: 0.7945 - val_loss: 0.5600 - val_accuracy: 0.7922\n",
      "Epoch 9/50\n",
      "91/91 - 0s - loss: 0.4933 - accuracy: 0.8339 - val_loss: 0.5006 - val_accuracy: 0.8196\n",
      "Epoch 10/50\n",
      "91/91 - 0s - loss: 0.4377 - accuracy: 0.8567 - val_loss: 0.4513 - val_accuracy: 0.8392\n",
      "Epoch 11/50\n",
      "91/91 - 0s - loss: 0.3913 - accuracy: 0.8734 - val_loss: 0.4117 - val_accuracy: 0.8392\n",
      "Epoch 12/50\n",
      "91/91 - 0s - loss: 0.3499 - accuracy: 0.8851 - val_loss: 0.3743 - val_accuracy: 0.8471\n",
      "Epoch 13/50\n",
      "91/91 - 0s - loss: 0.3161 - accuracy: 0.8962 - val_loss: 0.3520 - val_accuracy: 0.8667\n",
      "Epoch 14/50\n",
      "91/91 - 0s - loss: 0.2883 - accuracy: 0.9059 - val_loss: 0.3278 - val_accuracy: 0.8471\n",
      "Epoch 15/50\n",
      "91/91 - 0s - loss: 0.2656 - accuracy: 0.9135 - val_loss: 0.3115 - val_accuracy: 0.8863\n",
      "Epoch 16/50\n",
      "91/91 - 0s - loss: 0.2460 - accuracy: 0.9218 - val_loss: 0.2959 - val_accuracy: 0.8706\n",
      "Epoch 17/50\n",
      "91/91 - 0s - loss: 0.2303 - accuracy: 0.9225 - val_loss: 0.2849 - val_accuracy: 0.8941\n",
      "Epoch 18/50\n",
      "91/91 - 0s - loss: 0.2159 - accuracy: 0.9315 - val_loss: 0.2739 - val_accuracy: 0.9020\n",
      "Epoch 19/50\n",
      "91/91 - 0s - loss: 0.2061 - accuracy: 0.9343 - val_loss: 0.2649 - val_accuracy: 0.9098\n",
      "Epoch 20/50\n",
      "91/91 - 0s - loss: 0.1922 - accuracy: 0.9370 - val_loss: 0.2566 - val_accuracy: 0.9137\n",
      "Epoch 21/50\n",
      "91/91 - 0s - loss: 0.1815 - accuracy: 0.9446 - val_loss: 0.2462 - val_accuracy: 0.9137\n",
      "Epoch 22/50\n",
      "91/91 - 0s - loss: 0.1718 - accuracy: 0.9509 - val_loss: 0.2499 - val_accuracy: 0.9137\n",
      "Epoch 23/50\n",
      "91/91 - 0s - loss: 0.1639 - accuracy: 0.9488 - val_loss: 0.2413 - val_accuracy: 0.9176\n",
      "Epoch 24/50\n",
      "91/91 - 0s - loss: 0.1575 - accuracy: 0.9536 - val_loss: 0.2369 - val_accuracy: 0.9216\n",
      "Epoch 25/50\n",
      "91/91 - 0s - loss: 0.1504 - accuracy: 0.9592 - val_loss: 0.2351 - val_accuracy: 0.9176\n",
      "Epoch 26/50\n",
      "91/91 - 0s - loss: 0.1446 - accuracy: 0.9578 - val_loss: 0.2283 - val_accuracy: 0.9255\n",
      "Epoch 27/50\n",
      "91/91 - 0s - loss: 0.1377 - accuracy: 0.9633 - val_loss: 0.2238 - val_accuracy: 0.9255\n",
      "Epoch 28/50\n",
      "91/91 - 0s - loss: 0.1333 - accuracy: 0.9619 - val_loss: 0.2221 - val_accuracy: 0.9216\n",
      "Epoch 29/50\n",
      "91/91 - 0s - loss: 0.1261 - accuracy: 0.9654 - val_loss: 0.2191 - val_accuracy: 0.9255\n",
      "Epoch 30/50\n",
      "91/91 - 0s - loss: 0.1216 - accuracy: 0.9647 - val_loss: 0.2111 - val_accuracy: 0.9294\n",
      "Epoch 31/50\n",
      "91/91 - 0s - loss: 0.1172 - accuracy: 0.9661 - val_loss: 0.2102 - val_accuracy: 0.9216\n",
      "Epoch 32/50\n",
      "91/91 - 0s - loss: 0.1129 - accuracy: 0.9702 - val_loss: 0.2078 - val_accuracy: 0.9294\n",
      "Epoch 33/50\n",
      "91/91 - 0s - loss: 0.1075 - accuracy: 0.9730 - val_loss: 0.2036 - val_accuracy: 0.9216\n",
      "Epoch 34/50\n",
      "91/91 - 0s - loss: 0.1057 - accuracy: 0.9730 - val_loss: 0.2043 - val_accuracy: 0.9216\n",
      "Epoch 35/50\n",
      "91/91 - 0s - loss: 0.1021 - accuracy: 0.9751 - val_loss: 0.1977 - val_accuracy: 0.9176\n",
      "Epoch 36/50\n",
      "91/91 - 0s - loss: 0.0987 - accuracy: 0.9737 - val_loss: 0.1996 - val_accuracy: 0.9176\n",
      "Epoch 37/50\n",
      "91/91 - 0s - loss: 0.0940 - accuracy: 0.9751 - val_loss: 0.1974 - val_accuracy: 0.9137\n",
      "Epoch 38/50\n",
      "91/91 - 0s - loss: 0.0908 - accuracy: 0.9772 - val_loss: 0.1900 - val_accuracy: 0.9176\n",
      "Epoch 39/50\n",
      "91/91 - 0s - loss: 0.0877 - accuracy: 0.9792 - val_loss: 0.1920 - val_accuracy: 0.9098\n",
      "Epoch 40/50\n",
      "91/91 - 0s - loss: 0.0846 - accuracy: 0.9779 - val_loss: 0.1919 - val_accuracy: 0.9059\n",
      "Epoch 41/50\n",
      "91/91 - 0s - loss: 0.0829 - accuracy: 0.9813 - val_loss: 0.1949 - val_accuracy: 0.9059\n",
      "Epoch 42/50\n",
      "91/91 - 0s - loss: 0.0796 - accuracy: 0.9841 - val_loss: 0.1842 - val_accuracy: 0.9098\n",
      "Epoch 43/50\n",
      "91/91 - 0s - loss: 0.0777 - accuracy: 0.9848 - val_loss: 0.1886 - val_accuracy: 0.9176\n",
      "Epoch 44/50\n",
      "91/91 - 0s - loss: 0.0742 - accuracy: 0.9799 - val_loss: 0.1857 - val_accuracy: 0.9176\n",
      "Epoch 45/50\n",
      "91/91 - 0s - loss: 0.0739 - accuracy: 0.9848 - val_loss: 0.1861 - val_accuracy: 0.9098\n",
      "Epoch 46/50\n",
      "91/91 - 0s - loss: 0.0698 - accuracy: 0.9855 - val_loss: 0.1916 - val_accuracy: 0.9098\n",
      "Epoch 47/50\n",
      "91/91 - 0s - loss: 0.0693 - accuracy: 0.9862 - val_loss: 0.1834 - val_accuracy: 0.9216\n",
      "Epoch 48/50\n",
      "91/91 - 0s - loss: 0.0664 - accuracy: 0.9848 - val_loss: 0.1824 - val_accuracy: 0.9137\n",
      "Epoch 49/50\n",
      "91/91 - 0s - loss: 0.0642 - accuracy: 0.9875 - val_loss: 0.1802 - val_accuracy: 0.9059\n",
      "Epoch 50/50\n",
      "91/91 - 0s - loss: 0.0630 - accuracy: 0.9862 - val_loss: 0.1841 - val_accuracy: 0.9137\n"
     ]
    }
   ],
   "source": [
    "history = model.fit(X_train, Y_train, epochs=50, validation_split=0.15, batch_size=16, verbose=2)"
   ]
  },
  {
   "cell_type": "markdown",
   "id": "unable-azerbaijan",
   "metadata": {},
   "source": [
    "Оцінюємо якість моделі на тестовій множині. Запишемо результат до змінних `loss` та `accuracy`."
   ]
  },
  {
   "cell_type": "code",
   "execution_count": 46,
   "id": "altered-status",
   "metadata": {},
   "outputs": [
    {
     "name": "stdout",
     "output_type": "stream",
     "text": [
      "0.2462047040462494 0.8999999761581421\n"
     ]
    }
   ],
   "source": [
    "loss, accuracy = model.evaluate(X_test, Y_test, verbose=0)\n",
    "print(loss, accuracy)"
   ]
  },
  {
   "cell_type": "markdown",
   "id": "ranging-garlic",
   "metadata": {},
   "source": [
    "Виводимо графік з історією навчання для оцінки ефекктивності навчання."
   ]
  },
  {
   "cell_type": "code",
   "execution_count": 47,
   "id": "arctic-identity",
   "metadata": {},
   "outputs": [
    {
     "data": {
      "image/png": "[encoded data removed]",
      "text/plain": [
       "<Figure size 432x288 with 1 Axes>"
      ]
     },
     "metadata": {
      "needs_background": "light"
     },
     "output_type": "display_data"
    }
   ],
   "source": [
    "plt.plot(history.history['accuracy'])\n",
    "plt.plot(history.history['val_accuracy'])\n",
    "plt.title('Model accuracy')\n",
    "plt.ylabel('accuracy')\n",
    "plt.xlabel('Epoch')\n",
    "plt.legend(['Train', 'Val'], loc='upper left')\n",
    "plt.show()"
   ]
  },
  {
   "cell_type": "markdown",
   "id": "boolean-country",
   "metadata": {},
   "source": [
    "Використовуємо модель для класифікації одного зразка з тестової вибірки."
   ]
  },
  {
   "cell_type": "code",
   "execution_count": 48,
   "id": "palestinian-style",
   "metadata": {},
   "outputs": [
    {
     "name": "stdout",
     "output_type": "stream",
     "text": [
      "[[9.9032718e-01 9.6725617e-03 2.8166394e-07 2.7089658e-22]]\n"
     ]
    }
   ],
   "source": [
    "# Зразок треба подати як список, тому робимо зріз\n",
    "sample = X_test[0:1]\n",
    "prediction = model.predict(sample)\n",
    "print(prediction)"
   ]
  },
  {
   "cell_type": "markdown",
   "id": "loaded-reality",
   "metadata": {},
   "source": [
    "Оформимо красиво:"
   ]
  },
  {
   "cell_type": "code",
   "execution_count": 49,
   "id": "piano-ukraine",
   "metadata": {},
   "outputs": [
    {
     "name": "stdout",
     "output_type": "stream",
     "text": [
      "Передбачено: 0 з достовірністю 99.03%\n",
      "Повинно бути: 0\n"
     ]
    }
   ],
   "source": [
    "score = np.max(prediction)\n",
    "prediction = np.argmax(prediction)\n",
    "\n",
    "print(f'Передбачено: {prediction} з достовірністю {score*100:.2f}%', f'Повинно бути: {np.argmax(Y_test[0:1])}', sep='\\n')"
   ]
  },
  {
   "cell_type": "markdown",
   "id": "emerging-budapest",
   "metadata": {},
   "source": [
    "Збережемо модель."
   ]
  },
  {
   "cell_type": "code",
   "execution_count": null,
   "id": "operational-tradition",
   "metadata": {},
   "outputs": [],
   "source": [
    "model.save('mobile_price.h5')"
   ]
  }
 ],
 "metadata": {
  "kernelspec": {
   "display_name": "Python 3 (ipykernel)",
   "language": "python",
   "name": "python3"
  },
  "language_info": {
   "codemirror_mode": {
    "name": "ipython",
    "version": 3
   },
   "file_extension": ".py",
   "mimetype": "text/x-python",
   "name": "python",
   "nbconvert_exporter": "python",
   "pygments_lexer": "ipython3",
   "version": "3.7.0"
  }
 },
 "nbformat": 4,
 "nbformat_minor": 5
}
