{
 "cells": [
  {
   "cell_type": "markdown",
   "metadata": {},
   "source": [
    "# <center>Тема 4\n",
    "## <center>Нейронні мережі в задачах прогнозування (регресії)"
   ]
  },
  {
   "cell_type": "markdown",
   "metadata": {},
   "source": [
    "### <center>Загальні відомості"
   ]
  },
  {
   "cell_type": "markdown",
   "metadata": {},
   "source": [
    "Задачі прогнозування відрізняються від задач класифікації тим, що цілі Y є не номерами класів, а мають кількісну шкалу (грн, $, кг, В тощо). Відповідно, у вихідному прошарку мережі завжди буде лише один нейрон. Окрім того, до вихідного прошарку не застосовується жодна активаційна функція (або використовується лінійна). Прикладами регресії є прогнозування прибутку, прогноз погоди, прогнозування обсягів продажів або цін на товари. З технічної точки зору, нейронні мережі прямого розповсюдження для прогнозування нічим не відрізняються від аналогічних мереж для класифікації. Важливо лише правильно подібрати метрики та критерії якості і підготувати дані для аналізу.\n",
    "\n",
    "- Критерії якості для задач регресії в Keras: https://keras.io/api/losses/regression_losses/\n",
    "- Метрики для задач регресії в Keras: https://keras.io/api/metrics/regression_metrics/"
   ]
  },
  {
   "cell_type": "markdown",
   "metadata": {},
   "source": [
    "Одним із прикладів задач регресії є прогнозування часових послідовностей (часових рядів). \n",
    "\n",
    "Часовий ряд (англ. time series) — це ряд точок даних, проіндексованих (або перелічених, або відкладених на графіку) в хронологічному порядку. Найчастіше часовий ряд є послідовністю, взятою на рівновіддалених точках в часі, які йдуть одна за одною. Таким чином, він є послідовністю даних дискретного часу. Прикладами часових рядів є висоти океанських припливів, кількості сонячних плям, та щоденне значення вартості акцій на момент закриття торгів. (<a href = 'https://uk.wikipedia.org/wiki/%D0%A7%D0%B0%D1%81%D0%BE%D0%B2%D0%B8%D0%B9_%D1%80%D1%8F%D0%B4'>Wikipedia</a>)\n",
    "\n",
    "Найраще в цих задачах себе проявляють мережі довгої короткострокової пам'яті (Long Short-Term Memory, LSTM). Але зараз ми навчимось вирішувати цю задачу із використанням вже знайомих нам Feedforward мереж."
   ]
  },
  {
   "cell_type": "markdown",
   "metadata": {},
   "source": [
    "### <center>Підготовка даних"
   ]
  },
  {
   "cell_type": "markdown",
   "metadata": {},
   "source": [
    "Розглянемо набір даних про обсяг пасажирських перевезень у США за 1949 - 1960 роки. Цей приклад є класичним і найбільш демонстративним щоб гарно розібратись з усіма особливостями прогнозування рядів. \n",
    "\n",
    "Задача: необхідно зробити прогноз обсягів пасажирських перевезень на 12 місяців вперед.\n",
    "\n",
    "Для початку імпортуємо необхідні бібліотеки."
   ]
  },
  {
   "cell_type": "code",
   "execution_count": 1,
   "metadata": {},
   "outputs": [],
   "source": [
    "import numpy\n",
    "import pandas as pd\n",
    "\n",
    "import matplotlib\n",
    "import matplotlib.pyplot as plt\n",
    "matplotlib.style.use('ggplot')\n",
    "# Розмір графіків\n",
    "plt.rcParams['figure.figsize'] = (15, 5)"
   ]
  },
  {
   "cell_type": "markdown",
   "metadata": {},
   "source": [
    "Завантажимо навчальну вибірку - часовий ряд, на основі якого будемо робити прогноз."
   ]
  },
  {
   "cell_type": "code",
   "execution_count": 2,
   "metadata": {},
   "outputs": [],
   "source": [
    "ser_g = pd.read_csv('D:/Drive/ІІС/Datasets/Time_series/series_g.csv', sep=';', header=0)"
   ]
  },
  {
   "cell_type": "markdown",
   "metadata": {},
   "source": [
    "Переглянемо заголовок і кінець таблиці:"
   ]
  },
  {
   "cell_type": "code",
   "execution_count": 3,
   "metadata": {},
   "outputs": [
    {
     "data": {
      "text/html": [
       "<div>\n",
       "<style scoped>\n",
       "    .dataframe tbody tr th:only-of-type {\n",
       "        vertical-align: middle;\n",
       "    }\n",
       "\n",
       "    .dataframe tbody tr th {\n",
       "        vertical-align: top;\n",
       "    }\n",
       "\n",
       "    .dataframe thead th {\n",
       "        text-align: right;\n",
       "    }\n",
       "</style>\n",
       "<table border=\"1\" class=\"dataframe\">\n",
       "  <thead>\n",
       "    <tr style=\"text-align: right;\">\n",
       "      <th></th>\n",
       "      <th>date</th>\n",
       "      <th>series_g</th>\n",
       "    </tr>\n",
       "  </thead>\n",
       "  <tbody>\n",
       "    <tr>\n",
       "      <th>0</th>\n",
       "      <td>JAN 1949</td>\n",
       "      <td>112</td>\n",
       "    </tr>\n",
       "    <tr>\n",
       "      <th>1</th>\n",
       "      <td>FEB 1949</td>\n",
       "      <td>118</td>\n",
       "    </tr>\n",
       "    <tr>\n",
       "      <th>2</th>\n",
       "      <td>MAR 1949</td>\n",
       "      <td>132</td>\n",
       "    </tr>\n",
       "    <tr>\n",
       "      <th>3</th>\n",
       "      <td>APR 1949</td>\n",
       "      <td>129</td>\n",
       "    </tr>\n",
       "    <tr>\n",
       "      <th>4</th>\n",
       "      <td>MAY 1949</td>\n",
       "      <td>121</td>\n",
       "    </tr>\n",
       "  </tbody>\n",
       "</table>\n",
       "</div>"
      ],
      "text/plain": [
       "       date  series_g\n",
       "0  JAN 1949       112\n",
       "1  FEB 1949       118\n",
       "2  MAR 1949       132\n",
       "3  APR 1949       129\n",
       "4  MAY 1949       121"
      ]
     },
     "execution_count": 3,
     "metadata": {},
     "output_type": "execute_result"
    }
   ],
   "source": [
    "ser_g.head()"
   ]
  },
  {
   "cell_type": "code",
   "execution_count": 4,
   "metadata": {},
   "outputs": [
    {
     "data": {
      "text/html": [
       "<div>\n",
       "<style scoped>\n",
       "    .dataframe tbody tr th:only-of-type {\n",
       "        vertical-align: middle;\n",
       "    }\n",
       "\n",
       "    .dataframe tbody tr th {\n",
       "        vertical-align: top;\n",
       "    }\n",
       "\n",
       "    .dataframe thead th {\n",
       "        text-align: right;\n",
       "    }\n",
       "</style>\n",
       "<table border=\"1\" class=\"dataframe\">\n",
       "  <thead>\n",
       "    <tr style=\"text-align: right;\">\n",
       "      <th></th>\n",
       "      <th>date</th>\n",
       "      <th>series_g</th>\n",
       "    </tr>\n",
       "  </thead>\n",
       "  <tbody>\n",
       "    <tr>\n",
       "      <th>139</th>\n",
       "      <td>AUG 1960</td>\n",
       "      <td>606</td>\n",
       "    </tr>\n",
       "    <tr>\n",
       "      <th>140</th>\n",
       "      <td>SEP 1960</td>\n",
       "      <td>508</td>\n",
       "    </tr>\n",
       "    <tr>\n",
       "      <th>141</th>\n",
       "      <td>OCT 1960</td>\n",
       "      <td>461</td>\n",
       "    </tr>\n",
       "    <tr>\n",
       "      <th>142</th>\n",
       "      <td>NOV 1960</td>\n",
       "      <td>390</td>\n",
       "    </tr>\n",
       "    <tr>\n",
       "      <th>143</th>\n",
       "      <td>DEC 1960</td>\n",
       "      <td>432</td>\n",
       "    </tr>\n",
       "  </tbody>\n",
       "</table>\n",
       "</div>"
      ],
      "text/plain": [
       "         date  series_g\n",
       "139  AUG 1960       606\n",
       "140  SEP 1960       508\n",
       "141  OCT 1960       461\n",
       "142  NOV 1960       390\n",
       "143  DEC 1960       432"
      ]
     },
     "execution_count": 4,
     "metadata": {},
     "output_type": "execute_result"
    }
   ],
   "source": [
    "ser_g.tail()"
   ]
  },
  {
   "cell_type": "markdown",
   "metadata": {},
   "source": [
    "Як бачимо, дані організовані по місяцям. В стовпці *date* - місяць і рік, в стовпці *sreies_g* - обсяг пасажирських перевезень за відповідний час.\n",
    "\n",
    "Переглянемо, скільки всього записів є в наборі даних."
   ]
  },
  {
   "cell_type": "code",
   "execution_count": 5,
   "metadata": {},
   "outputs": [
    {
     "data": {
      "text/plain": [
       "(144, 2)"
      ]
     },
     "execution_count": 5,
     "metadata": {},
     "output_type": "execute_result"
    }
   ],
   "source": [
    "ser_g.shape"
   ]
  },
  {
   "cell_type": "markdown",
   "metadata": {},
   "source": [
    "Отже, маємо дані за 144 місяці."
   ]
  },
  {
   "cell_type": "markdown",
   "metadata": {},
   "source": [
    "Тепер побудуємо графік, щоб відповісти на 4 питання:\n",
    "- Чи є тренд? Тренд - це загальна тенденція в поведінці ряду. Тренд описує, як змінюються середні значення ряду із часом. Якщо тренд є, потрібно оцінити його характер: зростаючий/спадаючий, лінійний/експоненціальний/затухаючий тощо.\n",
    "- Чи є сезонність? Сезонність - періодичні зміни значень ряду з часом. Якщо є сезонність, то яка вона? Який період сезону? Сезонність адитивна (значення сезонних поправок мають постійну амплітуду відносно лінії тренду) чи мультиплікативна (значення сезонних поправок збільшуються/зменшуються пропорційно зростанню/спаданню тренду)? Якщо сезонність мультиплікативна, її потрібно привести до адитивної (наприклад, прологарифмувавши значення ряду).\n",
    "- Чи змінює ряд свій характер? Зміну характеру можна виявити за різкою зміною тренду. Якщо ряд змінює свій характер, для прогнозування необхідно використовувати лише останню його ділянку, на якій характер ряду незмінний.\n",
    "- Чи є викиди або пропущені значення? Викиди - аномально великі або маленькі значення в ряді. Якщо вони є, їх потрібно замінити більш \"розумними\" значеннями (найчастіше - середнім або медіаною між сусідніми відносно викиду спостереженнями)."
   ]
  },
  {
   "cell_type": "code",
   "execution_count": 6,
   "metadata": {},
   "outputs": [
    {
     "data": {
      "text/plain": [
       "<AxesSubplot:>"
      ]
     },
     "execution_count": 6,
     "metadata": {},
     "output_type": "execute_result"
    },
    {
     "data": {
      "image/png": "[encoded data removed]",
      "text/plain": [
       "<Figure size 1080x360 with 1 Axes>"
      ]
     },
     "metadata": {},
     "output_type": "display_data"
    }
   ],
   "source": [
    "#  Графік щоб відповісти на 4 питання\n",
    "ser_g.iloc[:,1].plot()"
   ]
  },
  {
   "cell_type": "markdown",
   "metadata": {},
   "source": [
    "Аналізуємо графік:\n",
    "- Ряд має зростаючий лінійний тренд\n",
    "- Ряд має мультиплікативну сезонність\n",
    "- Ряд не змінює свій характер\n",
    "- Викидів або пропущених значень немає\n",
    "\n",
    "Оскільки сезонність мультиплікативна, її потрібно привести до адитивної, використавши логарифмування. Таким чином, модель буде вчитись робити прогноз для логарифму ряду, а не самого ряду."
   ]
  },
  {
   "cell_type": "code",
   "execution_count": 5,
   "metadata": {},
   "outputs": [],
   "source": [
    "#  Потрібно прогнозувати логарифм\n",
    "ser_g['log_y'] = numpy.log10(ser_g['series_g'])"
   ]
  },
  {
   "cell_type": "code",
   "execution_count": 8,
   "metadata": {},
   "outputs": [
    {
     "data": {
      "text/plain": [
       "Text(0, 0.5, 'log10 від тисяч осіб')"
      ]
     },
     "execution_count": 8,
     "metadata": {},
     "output_type": "execute_result"
    },
    {
     "data": {
      "image/png": "[encoded data removed]",
      "text/plain": [
       "<Figure size 864x288 with 2 Axes>"
      ]
     },
     "metadata": {},
     "output_type": "display_data"
    }
   ],
   "source": [
    "fig = plt.figure(figsize=(12, 4))\n",
    "ax1 = fig.add_subplot(121)\n",
    "ser_g['series_g'].plot(ax=ax1)\n",
    "ax1.set_title(u'Обсяг перевезень пасажирів')\n",
    "ax1.set_ylabel(u'Тисяч осіб')\n",
    "\n",
    "ax2 = fig.add_subplot(122)\n",
    "pd.Series(ser_g['log_y']).plot(ax=ax2)\n",
    "ax2.set_title(u'log10 від обсягу перевезень пасажирів')\n",
    "ax2.set_ylabel(u'log10 від тисяч осіб')\n"
   ]
  },
  {
   "cell_type": "markdown",
   "metadata": {},
   "source": [
    "Тепер необхідно перетворити дані так, щоб отримати таблицю предикторів Х та цілей Y. Оскільки тривалість сезону в нашому випадку складає 12 місяців (1 рік), то логічно буде за дванадцятьма попередніми місяцями робити прогноз на один наступний місяць. Тобто для одного рядка навчальних даних буде 12 стовпців X та один стовпець Y. \n",
    "\n",
    "Під час навчання:\n",
    "- За значеннями спостережень №1-№12 прогнозуємо спостереження №13 - це буде перша ітерація навчання (перший рядок навчальних даних). Предиктори Х - спостереження №1-№12, ціль Y - спостереження №13.\n",
    "- Зсуваємось на 1 місяць вперед. За значеннями спостережень №2-№13 прогнозуємо спостереження №14 (це буде другий рядок навчальних даних).\n",
    "- Зсуваємось на 1 місяць вперед. За значеннями спостережень №3-№14 прогнозуємо спостереження № 15.\n",
    "- Крок за кроком проходимо по всіх навчальних даних."
   ]
  },
  {
   "cell_type": "markdown",
   "metadata": {},
   "source": [
    "Виконаємо необхідні перетворення даних."
   ]
  },
  {
   "cell_type": "code",
   "execution_count": 9,
   "metadata": {},
   "outputs": [
    {
     "name": "stdout",
     "output_type": "stream",
     "text": [
      "        t-12      t-11      t-10       t-9       t-8       t-7       t-6  \\\n",
      "0        NaN       NaN       NaN       NaN       NaN       NaN       NaN   \n",
      "1        NaN       NaN       NaN       NaN       NaN       NaN       NaN   \n",
      "2        NaN       NaN       NaN       NaN       NaN       NaN       NaN   \n",
      "3        NaN       NaN       NaN       NaN       NaN       NaN       NaN   \n",
      "4        NaN       NaN       NaN       NaN       NaN       NaN       NaN   \n",
      "5        NaN       NaN       NaN       NaN       NaN       NaN       NaN   \n",
      "6        NaN       NaN       NaN       NaN       NaN       NaN  2.049218   \n",
      "7        NaN       NaN       NaN       NaN       NaN  2.049218  2.071882   \n",
      "8        NaN       NaN       NaN       NaN  2.049218  2.071882  2.120574   \n",
      "9        NaN       NaN       NaN  2.049218  2.071882  2.120574  2.110590   \n",
      "10       NaN       NaN  2.049218  2.071882  2.120574  2.110590  2.082785   \n",
      "11       NaN  2.049218  2.071882  2.120574  2.110590  2.082785  2.130334   \n",
      "12  2.049218  2.071882  2.120574  2.110590  2.082785  2.130334  2.170262   \n",
      "\n",
      "         t-5       t-4       t-3       t-2       t-1         t  \n",
      "0        NaN       NaN       NaN       NaN       NaN  2.049218  \n",
      "1        NaN       NaN       NaN       NaN  2.049218  2.071882  \n",
      "2        NaN       NaN       NaN  2.049218  2.071882  2.120574  \n",
      "3        NaN       NaN  2.049218  2.071882  2.120574  2.110590  \n",
      "4        NaN  2.049218  2.071882  2.120574  2.110590  2.082785  \n",
      "5   2.049218  2.071882  2.120574  2.110590  2.082785  2.130334  \n",
      "6   2.071882  2.120574  2.110590  2.082785  2.130334  2.170262  \n",
      "7   2.120574  2.110590  2.082785  2.130334  2.170262  2.170262  \n",
      "8   2.110590  2.082785  2.130334  2.170262  2.170262  2.133539  \n",
      "9   2.082785  2.130334  2.170262  2.170262  2.133539  2.075547  \n",
      "10  2.130334  2.170262  2.170262  2.133539  2.075547  2.017033  \n",
      "11  2.170262  2.170262  2.133539  2.075547  2.017033  2.071882  \n",
      "12  2.170262  2.133539  2.075547  2.017033  2.071882  2.060698  \n"
     ]
    }
   ],
   "source": [
    "ser_g_2 = pd.DataFrame()\n",
    "\n",
    "for i in range(12,0,-1):\n",
    "    ser_g_2['t-'+str(i)] = ser_g.iloc[:,2].shift(i)\n",
    "\n",
    "ser_g_2['t'] = ser_g.iloc[:,2].values\n",
    "\n",
    "print(ser_g_2.head(13))"
   ]
  },
  {
   "cell_type": "markdown",
   "metadata": {},
   "source": [
    "Відрізаємо перші 12 рядків."
   ]
  },
  {
   "cell_type": "code",
   "execution_count": 10,
   "metadata": {},
   "outputs": [
    {
     "data": {
      "text/html": [
       "<div>\n",
       "<style scoped>\n",
       "    .dataframe tbody tr th:only-of-type {\n",
       "        vertical-align: middle;\n",
       "    }\n",
       "\n",
       "    .dataframe tbody tr th {\n",
       "        vertical-align: top;\n",
       "    }\n",
       "\n",
       "    .dataframe thead th {\n",
       "        text-align: right;\n",
       "    }\n",
       "</style>\n",
       "<table border=\"1\" class=\"dataframe\">\n",
       "  <thead>\n",
       "    <tr style=\"text-align: right;\">\n",
       "      <th></th>\n",
       "      <th>t-12</th>\n",
       "      <th>t-11</th>\n",
       "      <th>t-10</th>\n",
       "      <th>t-9</th>\n",
       "      <th>t-8</th>\n",
       "      <th>t-7</th>\n",
       "      <th>t-6</th>\n",
       "      <th>t-5</th>\n",
       "      <th>t-4</th>\n",
       "      <th>t-3</th>\n",
       "      <th>t-2</th>\n",
       "      <th>t-1</th>\n",
       "      <th>t</th>\n",
       "    </tr>\n",
       "  </thead>\n",
       "  <tbody>\n",
       "    <tr>\n",
       "      <th>12</th>\n",
       "      <td>2.049218</td>\n",
       "      <td>2.071882</td>\n",
       "      <td>2.120574</td>\n",
       "      <td>2.110590</td>\n",
       "      <td>2.082785</td>\n",
       "      <td>2.130334</td>\n",
       "      <td>2.170262</td>\n",
       "      <td>2.170262</td>\n",
       "      <td>2.133539</td>\n",
       "      <td>2.075547</td>\n",
       "      <td>2.017033</td>\n",
       "      <td>2.071882</td>\n",
       "      <td>2.060698</td>\n",
       "    </tr>\n",
       "    <tr>\n",
       "      <th>13</th>\n",
       "      <td>2.071882</td>\n",
       "      <td>2.120574</td>\n",
       "      <td>2.110590</td>\n",
       "      <td>2.082785</td>\n",
       "      <td>2.130334</td>\n",
       "      <td>2.170262</td>\n",
       "      <td>2.170262</td>\n",
       "      <td>2.133539</td>\n",
       "      <td>2.075547</td>\n",
       "      <td>2.017033</td>\n",
       "      <td>2.071882</td>\n",
       "      <td>2.060698</td>\n",
       "      <td>2.100371</td>\n",
       "    </tr>\n",
       "    <tr>\n",
       "      <th>14</th>\n",
       "      <td>2.120574</td>\n",
       "      <td>2.110590</td>\n",
       "      <td>2.082785</td>\n",
       "      <td>2.130334</td>\n",
       "      <td>2.170262</td>\n",
       "      <td>2.170262</td>\n",
       "      <td>2.133539</td>\n",
       "      <td>2.075547</td>\n",
       "      <td>2.017033</td>\n",
       "      <td>2.071882</td>\n",
       "      <td>2.060698</td>\n",
       "      <td>2.100371</td>\n",
       "      <td>2.149219</td>\n",
       "    </tr>\n",
       "    <tr>\n",
       "      <th>15</th>\n",
       "      <td>2.110590</td>\n",
       "      <td>2.082785</td>\n",
       "      <td>2.130334</td>\n",
       "      <td>2.170262</td>\n",
       "      <td>2.170262</td>\n",
       "      <td>2.133539</td>\n",
       "      <td>2.075547</td>\n",
       "      <td>2.017033</td>\n",
       "      <td>2.071882</td>\n",
       "      <td>2.060698</td>\n",
       "      <td>2.100371</td>\n",
       "      <td>2.149219</td>\n",
       "      <td>2.130334</td>\n",
       "    </tr>\n",
       "    <tr>\n",
       "      <th>16</th>\n",
       "      <td>2.082785</td>\n",
       "      <td>2.130334</td>\n",
       "      <td>2.170262</td>\n",
       "      <td>2.170262</td>\n",
       "      <td>2.133539</td>\n",
       "      <td>2.075547</td>\n",
       "      <td>2.017033</td>\n",
       "      <td>2.071882</td>\n",
       "      <td>2.060698</td>\n",
       "      <td>2.100371</td>\n",
       "      <td>2.149219</td>\n",
       "      <td>2.130334</td>\n",
       "      <td>2.096910</td>\n",
       "    </tr>\n",
       "  </tbody>\n",
       "</table>\n",
       "</div>"
      ],
      "text/plain": [
       "        t-12      t-11      t-10       t-9       t-8       t-7       t-6  \\\n",
       "12  2.049218  2.071882  2.120574  2.110590  2.082785  2.130334  2.170262   \n",
       "13  2.071882  2.120574  2.110590  2.082785  2.130334  2.170262  2.170262   \n",
       "14  2.120574  2.110590  2.082785  2.130334  2.170262  2.170262  2.133539   \n",
       "15  2.110590  2.082785  2.130334  2.170262  2.170262  2.133539  2.075547   \n",
       "16  2.082785  2.130334  2.170262  2.170262  2.133539  2.075547  2.017033   \n",
       "\n",
       "         t-5       t-4       t-3       t-2       t-1         t  \n",
       "12  2.170262  2.133539  2.075547  2.017033  2.071882  2.060698  \n",
       "13  2.133539  2.075547  2.017033  2.071882  2.060698  2.100371  \n",
       "14  2.075547  2.017033  2.071882  2.060698  2.100371  2.149219  \n",
       "15  2.017033  2.071882  2.060698  2.100371  2.149219  2.130334  \n",
       "16  2.071882  2.060698  2.100371  2.149219  2.130334  2.096910  "
      ]
     },
     "execution_count": 10,
     "metadata": {},
     "output_type": "execute_result"
    }
   ],
   "source": [
    "ser_g_4 = ser_g_2[12:]\n",
    "\n",
    "ser_g_4.head()"
   ]
  },
  {
   "cell_type": "markdown",
   "metadata": {},
   "source": [
    "Навчальна таблиця даних готова. Тепер розділяємо предиктори та цілі"
   ]
  },
  {
   "cell_type": "code",
   "execution_count": 11,
   "metadata": {},
   "outputs": [],
   "source": [
    "# Цілі -  вектор y\n",
    "y = ser_g_4['t']\n",
    "# Предиктори - таблиця X\n",
    "X = ser_g_4.drop('t', axis=1)"
   ]
  },
  {
   "cell_type": "markdown",
   "metadata": {},
   "source": [
    "Розділяємо дані на навчальну і тестову множини. Тестова множина у випадку прогнозування часових рядів - останні спостереження. Оскільки нам важливо отримати точний прогноз саме для останнього періоду часу."
   ]
  },
  {
   "cell_type": "code",
   "execution_count": 12,
   "metadata": {},
   "outputs": [
    {
     "data": {
      "text/plain": [
       "(132, 13)"
      ]
     },
     "execution_count": 12,
     "metadata": {},
     "output_type": "execute_result"
    }
   ],
   "source": [
    "# Знадаємо, скільки рядків в навчальній таблиці\n",
    "ser_g_4.shape"
   ]
  },
  {
   "cell_type": "code",
   "execution_count": 13,
   "metadata": {},
   "outputs": [],
   "source": [
    "#  Візьмемо останні 12 спостережень в якості тестової вибірки\n",
    "X_train = X[:120]\n",
    "y_train = y[:120]\n",
    "X_test  = X[120:]\n",
    "y_test  = y[120:]"
   ]
  },
  {
   "cell_type": "code",
   "execution_count": 14,
   "metadata": {},
   "outputs": [
    {
     "name": "stdout",
     "output_type": "stream",
     "text": [
      "(132, 13)\n",
      "(120, 12)\n",
      "(120,)\n",
      "(12, 12)\n",
      "(12,)\n"
     ]
    }
   ],
   "source": [
    "#  Все добре?\n",
    "print(ser_g_4.shape)\n",
    "print(X_train.shape)\n",
    "print(y_train.shape)\n",
    "print(X_test.shape)\n",
    "print(y_test.shape)"
   ]
  },
  {
   "cell_type": "code",
   "execution_count": 15,
   "metadata": {},
   "outputs": [
    {
     "data": {
      "text/html": [
       "<div>\n",
       "<style scoped>\n",
       "    .dataframe tbody tr th:only-of-type {\n",
       "        vertical-align: middle;\n",
       "    }\n",
       "\n",
       "    .dataframe tbody tr th {\n",
       "        vertical-align: top;\n",
       "    }\n",
       "\n",
       "    .dataframe thead th {\n",
       "        text-align: right;\n",
       "    }\n",
       "</style>\n",
       "<table border=\"1\" class=\"dataframe\">\n",
       "  <thead>\n",
       "    <tr style=\"text-align: right;\">\n",
       "      <th></th>\n",
       "      <th>t-12</th>\n",
       "      <th>t-11</th>\n",
       "      <th>t-10</th>\n",
       "      <th>t-9</th>\n",
       "      <th>t-8</th>\n",
       "      <th>t-7</th>\n",
       "      <th>t-6</th>\n",
       "      <th>t-5</th>\n",
       "      <th>t-4</th>\n",
       "      <th>t-3</th>\n",
       "      <th>t-2</th>\n",
       "      <th>t-1</th>\n",
       "    </tr>\n",
       "  </thead>\n",
       "  <tbody>\n",
       "    <tr>\n",
       "      <th>12</th>\n",
       "      <td>2.049218</td>\n",
       "      <td>2.071882</td>\n",
       "      <td>2.120574</td>\n",
       "      <td>2.110590</td>\n",
       "      <td>2.082785</td>\n",
       "      <td>2.130334</td>\n",
       "      <td>2.170262</td>\n",
       "      <td>2.170262</td>\n",
       "      <td>2.133539</td>\n",
       "      <td>2.075547</td>\n",
       "      <td>2.017033</td>\n",
       "      <td>2.071882</td>\n",
       "    </tr>\n",
       "    <tr>\n",
       "      <th>13</th>\n",
       "      <td>2.071882</td>\n",
       "      <td>2.120574</td>\n",
       "      <td>2.110590</td>\n",
       "      <td>2.082785</td>\n",
       "      <td>2.130334</td>\n",
       "      <td>2.170262</td>\n",
       "      <td>2.170262</td>\n",
       "      <td>2.133539</td>\n",
       "      <td>2.075547</td>\n",
       "      <td>2.017033</td>\n",
       "      <td>2.071882</td>\n",
       "      <td>2.060698</td>\n",
       "    </tr>\n",
       "    <tr>\n",
       "      <th>14</th>\n",
       "      <td>2.120574</td>\n",
       "      <td>2.110590</td>\n",
       "      <td>2.082785</td>\n",
       "      <td>2.130334</td>\n",
       "      <td>2.170262</td>\n",
       "      <td>2.170262</td>\n",
       "      <td>2.133539</td>\n",
       "      <td>2.075547</td>\n",
       "      <td>2.017033</td>\n",
       "      <td>2.071882</td>\n",
       "      <td>2.060698</td>\n",
       "      <td>2.100371</td>\n",
       "    </tr>\n",
       "    <tr>\n",
       "      <th>15</th>\n",
       "      <td>2.110590</td>\n",
       "      <td>2.082785</td>\n",
       "      <td>2.130334</td>\n",
       "      <td>2.170262</td>\n",
       "      <td>2.170262</td>\n",
       "      <td>2.133539</td>\n",
       "      <td>2.075547</td>\n",
       "      <td>2.017033</td>\n",
       "      <td>2.071882</td>\n",
       "      <td>2.060698</td>\n",
       "      <td>2.100371</td>\n",
       "      <td>2.149219</td>\n",
       "    </tr>\n",
       "    <tr>\n",
       "      <th>16</th>\n",
       "      <td>2.082785</td>\n",
       "      <td>2.130334</td>\n",
       "      <td>2.170262</td>\n",
       "      <td>2.170262</td>\n",
       "      <td>2.133539</td>\n",
       "      <td>2.075547</td>\n",
       "      <td>2.017033</td>\n",
       "      <td>2.071882</td>\n",
       "      <td>2.060698</td>\n",
       "      <td>2.100371</td>\n",
       "      <td>2.149219</td>\n",
       "      <td>2.130334</td>\n",
       "    </tr>\n",
       "  </tbody>\n",
       "</table>\n",
       "</div>"
      ],
      "text/plain": [
       "        t-12      t-11      t-10       t-9       t-8       t-7       t-6  \\\n",
       "12  2.049218  2.071882  2.120574  2.110590  2.082785  2.130334  2.170262   \n",
       "13  2.071882  2.120574  2.110590  2.082785  2.130334  2.170262  2.170262   \n",
       "14  2.120574  2.110590  2.082785  2.130334  2.170262  2.170262  2.133539   \n",
       "15  2.110590  2.082785  2.130334  2.170262  2.170262  2.133539  2.075547   \n",
       "16  2.082785  2.130334  2.170262  2.170262  2.133539  2.075547  2.017033   \n",
       "\n",
       "         t-5       t-4       t-3       t-2       t-1  \n",
       "12  2.170262  2.133539  2.075547  2.017033  2.071882  \n",
       "13  2.133539  2.075547  2.017033  2.071882  2.060698  \n",
       "14  2.075547  2.017033  2.071882  2.060698  2.100371  \n",
       "15  2.017033  2.071882  2.060698  2.100371  2.149219  \n",
       "16  2.071882  2.060698  2.100371  2.149219  2.130334  "
      ]
     },
     "execution_count": 15,
     "metadata": {},
     "output_type": "execute_result"
    }
   ],
   "source": [
    "#  Все добре?\n",
    "X_train.head()"
   ]
  },
  {
   "cell_type": "markdown",
   "metadata": {},
   "source": [
    "Навчальні дані готові. Можемо створити і навчити нейронну мережу. В якості критерію якості використаємо *mean_squared_error*, метрика - *mean_absolute_percentage_error*. Активаційна функція вихідного нейрону - лінійна `activation='linear'`. Розділяти вибірку на батчі не будемо (даних і так мало) - `batch_size=None`"
   ]
  },
  {
   "cell_type": "code",
   "execution_count": 16,
   "metadata": {},
   "outputs": [],
   "source": [
    "from tensorflow.keras.models import Sequential\n",
    "from tensorflow.keras.layers import Dense\n"
   ]
  },
  {
   "cell_type": "code",
   "execution_count": 68,
   "metadata": {
    "scrolled": true
   },
   "outputs": [
    {
     "name": "stdout",
     "output_type": "stream",
     "text": [
      "Epoch 1/300\n",
      "1/4 [======>.......................] - ETA: 0s - loss: 16.1102 - mean_absolute_percentage_error: 168.7484WARNING:tensorflow:Callbacks method `on_train_batch_end` is slow compared to the batch time (batch time: 0.0000s vs `on_train_batch_end` time: 0.0100s). Check your callbacks.\n",
      "4/4 [==============================] - 0s 3ms/step - loss: 15.8941 - mean_absolute_percentage_error: 165.0730\n",
      "Epoch 2/300\n",
      "4/4 [==============================] - 0s 2ms/step - loss: 14.2706 - mean_absolute_percentage_error: 156.3631\n",
      "Epoch 3/300\n",
      "4/4 [==============================] - 0s 2ms/step - loss: 12.4993 - mean_absolute_percentage_error: 146.3124\n",
      "Epoch 4/300\n",
      "4/4 [==============================] - 0s 3ms/step - loss: 10.7878 - mean_absolute_percentage_error: 135.9245\n",
      "Epoch 5/300\n",
      "4/4 [==============================] - 0s 2ms/step - loss: 9.2152 - mean_absolute_percentage_error: 125.5731\n",
      "Epoch 6/300\n",
      "4/4 [==============================] - 0s 3ms/step - loss: 7.7806 - mean_absolute_percentage_error: 115.3880\n",
      "Epoch 7/300\n",
      "4/4 [==============================] - 0s 2ms/step - loss: 6.4992 - mean_absolute_percentage_error: 105.4709\n",
      "Epoch 8/300\n",
      "4/4 [==============================] - 0s 0s/step - loss: 5.3749 - mean_absolute_percentage_error: 95.8276\n",
      "Epoch 9/300\n",
      "4/4 [==============================] - 0s 2ms/step - loss: 4.3796 - mean_absolute_percentage_error: 86.5458\n",
      "Epoch 10/300\n",
      "4/4 [==============================] - 0s 3ms/step - loss: 3.5327 - mean_absolute_percentage_error: 77.6630\n",
      "Epoch 11/300\n",
      "4/4 [==============================] - 0s 2ms/step - loss: 2.8055 - mean_absolute_percentage_error: 69.2044\n",
      "Epoch 12/300\n",
      "4/4 [==============================] - 0s 2ms/step - loss: 2.2040 - mean_absolute_percentage_error: 61.3565\n",
      "Epoch 13/300\n",
      "4/4 [==============================] - 0s 2ms/step - loss: 1.7417 - mean_absolute_percentage_error: 54.4676\n",
      "Epoch 14/300\n",
      "4/4 [==============================] - 0s 2ms/step - loss: 1.3858 - mean_absolute_percentage_error: 48.5714\n",
      "Epoch 15/300\n",
      "4/4 [==============================] - 0s 0s/step - loss: 1.1012 - mean_absolute_percentage_error: 43.2222\n",
      "Epoch 16/300\n",
      "4/4 [==============================] - 0s 0s/step - loss: 0.8678 - mean_absolute_percentage_error: 38.3463\n",
      "Epoch 17/300\n",
      "4/4 [==============================] - 0s 0s/step - loss: 0.6794 - mean_absolute_percentage_error: 33.8753\n",
      "Epoch 18/300\n",
      "4/4 [==============================] - 0s 0s/step - loss: 0.5258 - mean_absolute_percentage_error: 29.7286\n",
      "Epoch 19/300\n",
      "4/4 [==============================] - 0s 2ms/step - loss: 0.4010 - mean_absolute_percentage_error: 25.9092\n",
      "Epoch 20/300\n",
      "4/4 [==============================] - 0s 2ms/step - loss: 0.3013 - mean_absolute_percentage_error: 22.4087\n",
      "Epoch 21/300\n",
      "4/4 [==============================] - 0s 2ms/step - loss: 0.2234 - mean_absolute_percentage_error: 19.2211\n",
      "Epoch 22/300\n",
      "4/4 [==============================] - 0s 2ms/step - loss: 0.1641 - mean_absolute_percentage_error: 16.3224\n",
      "Epoch 23/300\n",
      "4/4 [==============================] - 0s 2ms/step - loss: 0.1175 - mean_absolute_percentage_error: 13.7274\n",
      "Epoch 24/300\n",
      "4/4 [==============================] - 0s 0s/step - loss: 0.0834 - mean_absolute_percentage_error: 11.4178\n",
      "Epoch 25/300\n",
      "4/4 [==============================] - 0s 0s/step - loss: 0.0585 - mean_absolute_percentage_error: 9.3798\n",
      "Epoch 26/300\n",
      "4/4 [==============================] - 0s 0s/step - loss: 0.0407 - mean_absolute_percentage_error: 7.6148\n",
      "Epoch 27/300\n",
      "4/4 [==============================] - 0s 0s/step - loss: 0.0284 - mean_absolute_percentage_error: 6.1071\n",
      "Epoch 28/300\n",
      "4/4 [==============================] - 0s 2ms/step - loss: 0.0197 - mean_absolute_percentage_error: 4.8467\n",
      "Epoch 29/300\n",
      "4/4 [==============================] - 0s 2ms/step - loss: 0.0144 - mean_absolute_percentage_error: 3.8904\n",
      "Epoch 30/300\n",
      "4/4 [==============================] - 0s 2ms/step - loss: 0.0107 - mean_absolute_percentage_error: 3.1876\n",
      "Epoch 31/300\n",
      "4/4 [==============================] - 0s 2ms/step - loss: 0.0087 - mean_absolute_percentage_error: 2.7897\n",
      "Epoch 32/300\n",
      "4/4 [==============================] - 0s 2ms/step - loss: 0.0073 - mean_absolute_percentage_error: 2.5315\n",
      "Epoch 33/300\n",
      "4/4 [==============================] - 0s 2ms/step - loss: 0.0067 - mean_absolute_percentage_error: 2.4687\n",
      "Epoch 34/300\n",
      "4/4 [==============================] - 0s 0s/step - loss: 0.0063 - mean_absolute_percentage_error: 2.4651\n",
      "Epoch 35/300\n",
      "4/4 [==============================] - 0s 0s/step - loss: 0.0061 - mean_absolute_percentage_error: 2.4681\n",
      "Epoch 36/300\n",
      "4/4 [==============================] - 0s 0s/step - loss: 0.0060 - mean_absolute_percentage_error: 2.5004\n",
      "Epoch 37/300\n",
      "4/4 [==============================] - 0s 2ms/step - loss: 0.0061 - mean_absolute_percentage_error: 2.5500\n",
      "Epoch 38/300\n",
      "4/4 [==============================] - 0s 2ms/step - loss: 0.0061 - mean_absolute_percentage_error: 2.5734\n",
      "Epoch 39/300\n",
      "4/4 [==============================] - 0s 3ms/step - loss: 0.0061 - mean_absolute_percentage_error: 2.5900\n",
      "Epoch 40/300\n",
      "4/4 [==============================] - 0s 2ms/step - loss: 0.0061 - mean_absolute_percentage_error: 2.5997\n",
      "Epoch 41/300\n",
      "4/4 [==============================] - 0s 2ms/step - loss: 0.0061 - mean_absolute_percentage_error: 2.6028\n",
      "Epoch 42/300\n",
      "4/4 [==============================] - 0s 0s/step - loss: 0.0061 - mean_absolute_percentage_error: 2.6004\n",
      "Epoch 43/300\n",
      "4/4 [==============================] - 0s 0s/step - loss: 0.0061 - mean_absolute_percentage_error: 2.5956\n",
      "Epoch 44/300\n",
      "4/4 [==============================] - 0s 0s/step - loss: 0.0061 - mean_absolute_percentage_error: 2.5906\n",
      "Epoch 45/300\n",
      "4/4 [==============================] - 0s 2ms/step - loss: 0.0060 - mean_absolute_percentage_error: 2.5838\n",
      "Epoch 46/300\n",
      "4/4 [==============================] - 0s 3ms/step - loss: 0.0060 - mean_absolute_percentage_error: 2.5781\n",
      "Epoch 47/300\n",
      "4/4 [==============================] - 0s 2ms/step - loss: 0.0060 - mean_absolute_percentage_error: 2.5707\n",
      "Epoch 48/300\n",
      "4/4 [==============================] - 0s 2ms/step - loss: 0.0060 - mean_absolute_percentage_error: 2.5661\n",
      "Epoch 49/300\n",
      "4/4 [==============================] - 0s 3ms/step - loss: 0.0060 - mean_absolute_percentage_error: 2.5609\n",
      "Epoch 50/300\n",
      "4/4 [==============================] - 0s 2ms/step - loss: 0.0060 - mean_absolute_percentage_error: 2.5572\n",
      "Epoch 51/300\n",
      "4/4 [==============================] - 0s 2ms/step - loss: 0.0060 - mean_absolute_percentage_error: 2.5535\n",
      "Epoch 52/300\n",
      "4/4 [==============================] - 0s 0s/step - loss: 0.0060 - mean_absolute_percentage_error: 2.5529\n",
      "Epoch 53/300\n",
      "4/4 [==============================] - 0s 0s/step - loss: 0.0060 - mean_absolute_percentage_error: 2.5519\n",
      "Epoch 54/300\n",
      "4/4 [==============================] - 0s 0s/step - loss: 0.0060 - mean_absolute_percentage_error: 2.5504\n",
      "Epoch 55/300\n",
      "4/4 [==============================] - 0s 0s/step - loss: 0.0060 - mean_absolute_percentage_error: 2.5488\n",
      "Epoch 56/300\n",
      "4/4 [==============================] - 0s 2ms/step - loss: 0.0060 - mean_absolute_percentage_error: 2.5468\n",
      "Epoch 57/300\n",
      "4/4 [==============================] - 0s 2ms/step - loss: 0.0060 - mean_absolute_percentage_error: 2.5463\n",
      "Epoch 58/300\n",
      "4/4 [==============================] - 0s 2ms/step - loss: 0.0060 - mean_absolute_percentage_error: 2.5469\n",
      "Epoch 59/300\n",
      "4/4 [==============================] - 0s 2ms/step - loss: 0.0060 - mean_absolute_percentage_error: 2.5471\n",
      "Epoch 60/300\n",
      "4/4 [==============================] - 0s 2ms/step - loss: 0.0060 - mean_absolute_percentage_error: 2.5474\n",
      "Epoch 61/300\n",
      "4/4 [==============================] - 0s 2ms/step - loss: 0.0060 - mean_absolute_percentage_error: 2.5483\n",
      "Epoch 62/300\n",
      "4/4 [==============================] - 0s 2ms/step - loss: 0.0060 - mean_absolute_percentage_error: 2.5494\n",
      "Epoch 63/300\n",
      "4/4 [==============================] - 0s 2ms/step - loss: 0.0060 - mean_absolute_percentage_error: 2.5461\n",
      "Epoch 64/300\n",
      "4/4 [==============================] - 0s 2ms/step - loss: 0.0060 - mean_absolute_percentage_error: 2.5479\n",
      "Epoch 65/300\n",
      "4/4 [==============================] - 0s 0s/step - loss: 0.0060 - mean_absolute_percentage_error: 2.5490\n",
      "Epoch 66/300\n",
      "4/4 [==============================] - 0s 0s/step - loss: 0.0060 - mean_absolute_percentage_error: 2.5493\n",
      "Epoch 67/300\n",
      "4/4 [==============================] - 0s 0s/step - loss: 0.0060 - mean_absolute_percentage_error: 2.5515\n",
      "Epoch 68/300\n",
      "4/4 [==============================] - 0s 0s/step - loss: 0.0060 - mean_absolute_percentage_error: 2.5504\n",
      "Epoch 69/300\n",
      "4/4 [==============================] - 0s 2ms/step - loss: 0.0060 - mean_absolute_percentage_error: 2.5473\n",
      "Epoch 70/300\n",
      "4/4 [==============================] - 0s 2ms/step - loss: 0.0060 - mean_absolute_percentage_error: 2.5472\n",
      "Epoch 71/300\n",
      "4/4 [==============================] - 0s 2ms/step - loss: 0.0060 - mean_absolute_percentage_error: 2.5469\n",
      "Epoch 72/300\n",
      "4/4 [==============================] - 0s 2ms/step - loss: 0.0060 - mean_absolute_percentage_error: 2.5453\n",
      "Epoch 73/300\n",
      "4/4 [==============================] - 0s 2ms/step - loss: 0.0060 - mean_absolute_percentage_error: 2.5457\n",
      "Epoch 74/300\n",
      "4/4 [==============================] - 0s 0s/step - loss: 0.0060 - mean_absolute_percentage_error: 2.5473\n",
      "Epoch 75/300\n",
      "4/4 [==============================] - 0s 0s/step - loss: 0.0060 - mean_absolute_percentage_error: 2.5484\n",
      "Epoch 76/300\n",
      "4/4 [==============================] - 0s 0s/step - loss: 0.0060 - mean_absolute_percentage_error: 2.5479\n",
      "Epoch 77/300\n",
      "4/4 [==============================] - 0s 2ms/step - loss: 0.0060 - mean_absolute_percentage_error: 2.5467\n",
      "Epoch 78/300\n",
      "4/4 [==============================] - 0s 2ms/step - loss: 0.0060 - mean_absolute_percentage_error: 2.5456\n",
      "Epoch 79/300\n",
      "4/4 [==============================] - 0s 2ms/step - loss: 0.0060 - mean_absolute_percentage_error: 2.5433\n",
      "Epoch 80/300\n",
      "4/4 [==============================] - 0s 2ms/step - loss: 0.0060 - mean_absolute_percentage_error: 2.5424\n",
      "Epoch 81/300\n",
      "4/4 [==============================] - 0s 2ms/step - loss: 0.0060 - mean_absolute_percentage_error: 2.5442\n",
      "Epoch 82/300\n",
      "4/4 [==============================] - 0s 0s/step - loss: 0.0060 - mean_absolute_percentage_error: 2.5429\n",
      "Epoch 83/300\n",
      "4/4 [==============================] - 0s 0s/step - loss: 0.0060 - mean_absolute_percentage_error: 2.5419\n",
      "Epoch 84/300\n",
      "4/4 [==============================] - 0s 0s/step - loss: 0.0060 - mean_absolute_percentage_error: 2.5402\n",
      "Epoch 85/300\n",
      "4/4 [==============================] - 0s 0s/step - loss: 0.0060 - mean_absolute_percentage_error: 2.5377\n",
      "Epoch 86/300\n",
      "4/4 [==============================] - 0s 0s/step - loss: 0.0060 - mean_absolute_percentage_error: 2.5357\n",
      "Epoch 87/300\n",
      "4/4 [==============================] - 0s 2ms/step - loss: 0.0060 - mean_absolute_percentage_error: 2.5384\n",
      "Epoch 88/300\n",
      "4/4 [==============================] - 0s 2ms/step - loss: 0.0060 - mean_absolute_percentage_error: 2.5433\n",
      "Epoch 89/300\n",
      "4/4 [==============================] - 0s 2ms/step - loss: 0.0060 - mean_absolute_percentage_error: 2.5432\n",
      "Epoch 90/300\n",
      "4/4 [==============================] - 0s 2ms/step - loss: 0.0060 - mean_absolute_percentage_error: 2.5446\n",
      "Epoch 91/300\n",
      "4/4 [==============================] - 0s 2ms/step - loss: 0.0060 - mean_absolute_percentage_error: 2.5462\n",
      "Epoch 92/300\n",
      "4/4 [==============================] - 0s 0s/step - loss: 0.0060 - mean_absolute_percentage_error: 2.5498\n",
      "Epoch 93/300\n",
      "4/4 [==============================] - 0s 0s/step - loss: 0.0060 - mean_absolute_percentage_error: 2.5492\n",
      "Epoch 94/300\n",
      "4/4 [==============================] - 0s 0s/step - loss: 0.0060 - mean_absolute_percentage_error: 2.5470\n",
      "Epoch 95/300\n",
      "4/4 [==============================] - 0s 0s/step - loss: 0.0060 - mean_absolute_percentage_error: 2.5435\n",
      "Epoch 96/300\n",
      "4/4 [==============================] - 0s 2ms/step - loss: 0.0060 - mean_absolute_percentage_error: 2.5431\n",
      "Epoch 97/300\n",
      "4/4 [==============================] - 0s 2ms/step - loss: 0.0060 - mean_absolute_percentage_error: 2.5425\n",
      "Epoch 98/300\n",
      "4/4 [==============================] - 0s 2ms/step - loss: 0.0060 - mean_absolute_percentage_error: 2.5391\n",
      "Epoch 99/300\n",
      "4/4 [==============================] - 0s 2ms/step - loss: 0.0060 - mean_absolute_percentage_error: 2.5439\n",
      "Epoch 100/300\n",
      "4/4 [==============================] - 0s 2ms/step - loss: 0.0060 - mean_absolute_percentage_error: 2.5474\n",
      "Epoch 101/300\n",
      "4/4 [==============================] - 0s 2ms/step - loss: 0.0060 - mean_absolute_percentage_error: 2.5510\n",
      "Epoch 102/300\n",
      "4/4 [==============================] - 0s 2ms/step - loss: 0.0060 - mean_absolute_percentage_error: 2.5508\n",
      "Epoch 103/300\n",
      "4/4 [==============================] - 0s 2ms/step - loss: 0.0060 - mean_absolute_percentage_error: 2.5490\n",
      "Epoch 104/300\n",
      "4/4 [==============================] - 0s 2ms/step - loss: 0.0060 - mean_absolute_percentage_error: 2.5494\n",
      "Epoch 105/300\n",
      "4/4 [==============================] - 0s 0s/step - loss: 0.0060 - mean_absolute_percentage_error: 2.5476\n",
      "Epoch 106/300\n",
      "4/4 [==============================] - 0s 0s/step - loss: 0.0060 - mean_absolute_percentage_error: 2.5457\n",
      "Epoch 107/300\n",
      "4/4 [==============================] - 0s 0s/step - loss: 0.0060 - mean_absolute_percentage_error: 2.5504\n",
      "Epoch 108/300\n",
      "4/4 [==============================] - 0s 0s/step - loss: 0.0060 - mean_absolute_percentage_error: 2.5524\n",
      "Epoch 109/300\n",
      "4/4 [==============================] - 0s 0s/step - loss: 0.0060 - mean_absolute_percentage_error: 2.5506\n",
      "Epoch 110/300\n",
      "4/4 [==============================] - 0s 2ms/step - loss: 0.0060 - mean_absolute_percentage_error: 2.5483\n",
      "Epoch 111/300\n",
      "4/4 [==============================] - 0s 2ms/step - loss: 0.0060 - mean_absolute_percentage_error: 2.5482\n",
      "Epoch 112/300\n",
      "4/4 [==============================] - 0s 2ms/step - loss: 0.0060 - mean_absolute_percentage_error: 2.5471\n",
      "Epoch 113/300\n",
      "4/4 [==============================] - 0s 2ms/step - loss: 0.0060 - mean_absolute_percentage_error: 2.5458\n",
      "Epoch 114/300\n",
      "4/4 [==============================] - 0s 2ms/step - loss: 0.0060 - mean_absolute_percentage_error: 2.5453\n",
      "Epoch 115/300\n",
      "4/4 [==============================] - 0s 0s/step - loss: 0.0060 - mean_absolute_percentage_error: 2.5444\n",
      "Epoch 116/300\n",
      "4/4 [==============================] - 0s 0s/step - loss: 0.0060 - mean_absolute_percentage_error: 2.5433\n",
      "Epoch 117/300\n",
      "4/4 [==============================] - 0s 0s/step - loss: 0.0060 - mean_absolute_percentage_error: 2.5461\n",
      "Epoch 118/300\n",
      "4/4 [==============================] - 0s 2ms/step - loss: 0.0060 - mean_absolute_percentage_error: 2.5448\n",
      "Epoch 119/300\n",
      "4/4 [==============================] - 0s 2ms/step - loss: 0.0060 - mean_absolute_percentage_error: 2.5414\n",
      "Epoch 120/300\n",
      "4/4 [==============================] - 0s 2ms/step - loss: 0.0060 - mean_absolute_percentage_error: 2.5367\n",
      "Epoch 121/300\n",
      "4/4 [==============================] - 0s 2ms/step - loss: 0.0060 - mean_absolute_percentage_error: 2.5384\n",
      "Epoch 122/300\n",
      "4/4 [==============================] - 0s 2ms/step - loss: 0.0060 - mean_absolute_percentage_error: 2.5394\n",
      "Epoch 123/300\n",
      "4/4 [==============================] - 0s 2ms/step - loss: 0.0060 - mean_absolute_percentage_error: 2.5397\n",
      "Epoch 124/300\n",
      "4/4 [==============================] - 0s 2ms/step - loss: 0.0060 - mean_absolute_percentage_error: 2.5403\n",
      "Epoch 125/300\n",
      "4/4 [==============================] - 0s 2ms/step - loss: 0.0060 - mean_absolute_percentage_error: 2.5417\n",
      "Epoch 126/300\n",
      "4/4 [==============================] - 0s 0s/step - loss: 0.0060 - mean_absolute_percentage_error: 2.5471\n",
      "Epoch 127/300\n",
      "4/4 [==============================] - 0s 0s/step - loss: 0.0060 - mean_absolute_percentage_error: 2.5503\n",
      "Epoch 128/300\n",
      "4/4 [==============================] - 0s 0s/step - loss: 0.0060 - mean_absolute_percentage_error: 2.5512\n",
      "Epoch 129/300\n",
      "4/4 [==============================] - 0s 0s/step - loss: 0.0060 - mean_absolute_percentage_error: 2.5530\n",
      "Epoch 130/300\n",
      "4/4 [==============================] - 0s 2ms/step - loss: 0.0060 - mean_absolute_percentage_error: 2.5518\n",
      "Epoch 131/300\n",
      "4/4 [==============================] - 0s 2ms/step - loss: 0.0060 - mean_absolute_percentage_error: 2.5467\n",
      "Epoch 132/300\n",
      "4/4 [==============================] - 0s 2ms/step - loss: 0.0060 - mean_absolute_percentage_error: 2.5408\n",
      "Epoch 133/300\n",
      "4/4 [==============================] - 0s 2ms/step - loss: 0.0060 - mean_absolute_percentage_error: 2.5448\n",
      "Epoch 134/300\n",
      "4/4 [==============================] - 0s 2ms/step - loss: 0.0060 - mean_absolute_percentage_error: 2.5444\n",
      "Epoch 135/300\n",
      "4/4 [==============================] - 0s 0s/step - loss: 0.0060 - mean_absolute_percentage_error: 2.5409\n",
      "Epoch 136/300\n",
      "4/4 [==============================] - 0s 0s/step - loss: 0.0060 - mean_absolute_percentage_error: 2.5392\n",
      "Epoch 137/300\n",
      "4/4 [==============================] - 0s 0s/step - loss: 0.0060 - mean_absolute_percentage_error: 2.5409\n",
      "Epoch 138/300\n",
      "4/4 [==============================] - 0s 0s/step - loss: 0.0060 - mean_absolute_percentage_error: 2.5426\n",
      "Epoch 139/300\n",
      "4/4 [==============================] - 0s 0s/step - loss: 0.0060 - mean_absolute_percentage_error: 2.5422\n",
      "Epoch 140/300\n",
      "4/4 [==============================] - 0s 2ms/step - loss: 0.0060 - mean_absolute_percentage_error: 2.5417\n",
      "Epoch 141/300\n",
      "4/4 [==============================] - 0s 2ms/step - loss: 0.0060 - mean_absolute_percentage_error: 2.5418\n",
      "Epoch 142/300\n",
      "4/4 [==============================] - 0s 2ms/step - loss: 0.0060 - mean_absolute_percentage_error: 2.5444\n",
      "Epoch 143/300\n",
      "4/4 [==============================] - 0s 2ms/step - loss: 0.0060 - mean_absolute_percentage_error: 2.5451\n",
      "Epoch 144/300\n",
      "4/4 [==============================] - 0s 2ms/step - loss: 0.0060 - mean_absolute_percentage_error: 2.5429\n",
      "Epoch 145/300\n",
      "4/4 [==============================] - 0s 2ms/step - loss: 0.0060 - mean_absolute_percentage_error: 2.5442\n",
      "Epoch 146/300\n",
      "4/4 [==============================] - 0s 2ms/step - loss: 0.0060 - mean_absolute_percentage_error: 2.5478\n",
      "Epoch 147/300\n",
      "4/4 [==============================] - 0s 0s/step - loss: 0.0060 - mean_absolute_percentage_error: 2.5473\n",
      "Epoch 148/300\n",
      "4/4 [==============================] - 0s 3ms/step - loss: 0.0060 - mean_absolute_percentage_error: 2.5450\n",
      "Epoch 149/300\n",
      "4/4 [==============================] - 0s 0s/step - loss: 0.0060 - mean_absolute_percentage_error: 2.5440\n",
      "Epoch 150/300\n",
      "4/4 [==============================] - 0s 2ms/step - loss: 0.0060 - mean_absolute_percentage_error: 2.5417\n",
      "Epoch 151/300\n",
      "4/4 [==============================] - 0s 2ms/step - loss: 0.0060 - mean_absolute_percentage_error: 2.5410\n",
      "Epoch 152/300\n",
      "4/4 [==============================] - 0s 2ms/step - loss: 0.0060 - mean_absolute_percentage_error: 2.5395\n",
      "Epoch 153/300\n",
      "4/4 [==============================] - 0s 3ms/step - loss: 0.0060 - mean_absolute_percentage_error: 2.5351\n",
      "Epoch 154/300\n",
      "4/4 [==============================] - 0s 2ms/step - loss: 0.0060 - mean_absolute_percentage_error: 2.5321\n",
      "Epoch 155/300\n",
      "4/4 [==============================] - 0s 2ms/step - loss: 0.0060 - mean_absolute_percentage_error: 2.5325\n",
      "Epoch 156/300\n",
      "4/4 [==============================] - 0s 2ms/step - loss: 0.0060 - mean_absolute_percentage_error: 2.5360\n",
      "Epoch 157/300\n",
      "4/4 [==============================] - 0s 0s/step - loss: 0.0060 - mean_absolute_percentage_error: 2.5380\n",
      "Epoch 158/300\n",
      "4/4 [==============================] - 0s 3ms/step - loss: 0.0060 - mean_absolute_percentage_error: 2.5379\n",
      "Epoch 159/300\n",
      "4/4 [==============================] - 0s 0s/step - loss: 0.0060 - mean_absolute_percentage_error: 2.5393\n",
      "Epoch 160/300\n",
      "4/4 [==============================] - 0s 0s/step - loss: 0.0060 - mean_absolute_percentage_error: 2.5416\n",
      "Epoch 161/300\n",
      "4/4 [==============================] - 0s 0s/step - loss: 0.0060 - mean_absolute_percentage_error: 2.5452\n",
      "Epoch 162/300\n",
      "4/4 [==============================] - 0s 0s/step - loss: 0.0060 - mean_absolute_percentage_error: 2.5454\n",
      "Epoch 163/300\n",
      "4/4 [==============================] - 0s 0s/step - loss: 0.0060 - mean_absolute_percentage_error: 2.5438\n",
      "Epoch 164/300\n",
      "4/4 [==============================] - 0s 2ms/step - loss: 0.0060 - mean_absolute_percentage_error: 2.5420\n",
      "Epoch 165/300\n",
      "4/4 [==============================] - 0s 2ms/step - loss: 0.0060 - mean_absolute_percentage_error: 2.5409\n",
      "Epoch 166/300\n",
      "4/4 [==============================] - 0s 2ms/step - loss: 0.0060 - mean_absolute_percentage_error: 2.5372\n",
      "Epoch 167/300\n",
      "4/4 [==============================] - 0s 3ms/step - loss: 0.0060 - mean_absolute_percentage_error: 2.5341\n",
      "Epoch 168/300\n",
      "4/4 [==============================] - 0s 2ms/step - loss: 0.0060 - mean_absolute_percentage_error: 2.5382\n",
      "Epoch 169/300\n",
      "4/4 [==============================] - 0s 2ms/step - loss: 0.0060 - mean_absolute_percentage_error: 2.5363\n",
      "Epoch 170/300\n",
      "4/4 [==============================] - 0s 2ms/step - loss: 0.0060 - mean_absolute_percentage_error: 2.5344\n",
      "Epoch 171/300\n",
      "4/4 [==============================] - 0s 2ms/step - loss: 0.0060 - mean_absolute_percentage_error: 2.5372\n",
      "Epoch 172/300\n",
      "4/4 [==============================] - 0s 2ms/step - loss: 0.0060 - mean_absolute_percentage_error: 2.5405\n",
      "Epoch 173/300\n",
      "4/4 [==============================] - 0s 0s/step - loss: 0.0060 - mean_absolute_percentage_error: 2.5428\n",
      "Epoch 174/300\n",
      "4/4 [==============================] - 0s 0s/step - loss: 0.0060 - mean_absolute_percentage_error: 2.5421\n",
      "Epoch 175/300\n",
      "4/4 [==============================] - 0s 2ms/step - loss: 0.0060 - mean_absolute_percentage_error: 2.5420\n",
      "Epoch 176/300\n",
      "4/4 [==============================] - 0s 3ms/step - loss: 0.0060 - mean_absolute_percentage_error: 2.5397\n",
      "Epoch 177/300\n",
      "4/4 [==============================] - 0s 2ms/step - loss: 0.0060 - mean_absolute_percentage_error: 2.5429\n",
      "Epoch 178/300\n",
      "4/4 [==============================] - 0s 2ms/step - loss: 0.0060 - mean_absolute_percentage_error: 2.5420\n",
      "Epoch 179/300\n",
      "4/4 [==============================] - 0s 2ms/step - loss: 0.0060 - mean_absolute_percentage_error: 2.5374\n",
      "Epoch 180/300\n",
      "4/4 [==============================] - 0s 2ms/step - loss: 0.0060 - mean_absolute_percentage_error: 2.5369\n",
      "Epoch 181/300\n",
      "4/4 [==============================] - 0s 3ms/step - loss: 0.0060 - mean_absolute_percentage_error: 2.5393\n",
      "Epoch 182/300\n",
      "4/4 [==============================] - 0s 2ms/step - loss: 0.0060 - mean_absolute_percentage_error: 2.5402\n",
      "Epoch 183/300\n",
      "4/4 [==============================] - 0s 2ms/step - loss: 0.0060 - mean_absolute_percentage_error: 2.5403\n",
      "Epoch 184/300\n",
      "4/4 [==============================] - 0s 2ms/step - loss: 0.0060 - mean_absolute_percentage_error: 2.5382\n",
      "Epoch 185/300\n",
      "4/4 [==============================] - 0s 0s/step - loss: 0.0060 - mean_absolute_percentage_error: 2.5354\n",
      "Epoch 186/300\n",
      "4/4 [==============================] - 0s 2ms/step - loss: 0.0060 - mean_absolute_percentage_error: 2.5353\n",
      "Epoch 187/300\n",
      "4/4 [==============================] - 0s 2ms/step - loss: 0.0060 - mean_absolute_percentage_error: 2.5389\n",
      "Epoch 188/300\n",
      "4/4 [==============================] - 0s 0s/step - loss: 0.0060 - mean_absolute_percentage_error: 2.5478\n",
      "Epoch 189/300\n",
      "4/4 [==============================] - 0s 2ms/step - loss: 0.0060 - mean_absolute_percentage_error: 2.5516\n",
      "Epoch 190/300\n",
      "4/4 [==============================] - 0s 3ms/step - loss: 0.0060 - mean_absolute_percentage_error: 2.5509\n",
      "Epoch 191/300\n",
      "4/4 [==============================] - 0s 2ms/step - loss: 0.0060 - mean_absolute_percentage_error: 2.5485\n",
      "Epoch 192/300\n",
      "4/4 [==============================] - 0s 2ms/step - loss: 0.0060 - mean_absolute_percentage_error: 2.5453\n",
      "Epoch 193/300\n",
      "4/4 [==============================] - 0s 2ms/step - loss: 0.0060 - mean_absolute_percentage_error: 2.5464\n",
      "Epoch 194/300\n",
      "4/4 [==============================] - 0s 2ms/step - loss: 0.0060 - mean_absolute_percentage_error: 2.5412\n",
      "Epoch 195/300\n",
      "4/4 [==============================] - 0s 2ms/step - loss: 0.0060 - mean_absolute_percentage_error: 2.5333\n",
      "Epoch 196/300\n",
      "4/4 [==============================] - 0s 2ms/step - loss: 0.0060 - mean_absolute_percentage_error: 2.5288\n",
      "Epoch 197/300\n",
      "4/4 [==============================] - 0s 2ms/step - loss: 0.0060 - mean_absolute_percentage_error: 2.5278\n",
      "Epoch 198/300\n",
      "4/4 [==============================] - 0s 2ms/step - loss: 0.0060 - mean_absolute_percentage_error: 2.5310\n",
      "Epoch 199/300\n",
      "4/4 [==============================] - 0s 2ms/step - loss: 0.0060 - mean_absolute_percentage_error: 2.5327\n",
      "Epoch 200/300\n",
      "4/4 [==============================] - 0s 2ms/step - loss: 0.0060 - mean_absolute_percentage_error: 2.5369\n",
      "Epoch 201/300\n",
      "4/4 [==============================] - 0s 2ms/step - loss: 0.0060 - mean_absolute_percentage_error: 2.5348\n",
      "Epoch 202/300\n",
      "4/4 [==============================] - 0s 2ms/step - loss: 0.0060 - mean_absolute_percentage_error: 2.5317\n",
      "Epoch 203/300\n",
      "4/4 [==============================] - 0s 2ms/step - loss: 0.0060 - mean_absolute_percentage_error: 2.5306\n",
      "Epoch 204/300\n",
      "4/4 [==============================] - 0s 2ms/step - loss: 0.0060 - mean_absolute_percentage_error: 2.5300\n",
      "Epoch 205/300\n",
      "4/4 [==============================] - 0s 2ms/step - loss: 0.0060 - mean_absolute_percentage_error: 2.5292\n",
      "Epoch 206/300\n",
      "4/4 [==============================] - 0s 2ms/step - loss: 0.0060 - mean_absolute_percentage_error: 2.5315\n",
      "Epoch 207/300\n",
      "4/4 [==============================] - 0s 2ms/step - loss: 0.0060 - mean_absolute_percentage_error: 2.5330\n",
      "Epoch 208/300\n",
      "4/4 [==============================] - 0s 2ms/step - loss: 0.0060 - mean_absolute_percentage_error: 2.5391\n",
      "Epoch 209/300\n",
      "4/4 [==============================] - 0s 2ms/step - loss: 0.0060 - mean_absolute_percentage_error: 2.5389\n",
      "Epoch 210/300\n",
      "4/4 [==============================] - 0s 2ms/step - loss: 0.0060 - mean_absolute_percentage_error: 2.5406\n",
      "Epoch 211/300\n",
      "4/4 [==============================] - 0s 2ms/step - loss: 0.0060 - mean_absolute_percentage_error: 2.5425\n",
      "Epoch 212/300\n",
      "4/4 [==============================] - 0s 2ms/step - loss: 0.0060 - mean_absolute_percentage_error: 2.5441\n",
      "Epoch 213/300\n",
      "4/4 [==============================] - 0s 2ms/step - loss: 0.0060 - mean_absolute_percentage_error: 2.5424\n",
      "Epoch 214/300\n",
      "4/4 [==============================] - 0s 2ms/step - loss: 0.0060 - mean_absolute_percentage_error: 2.5418\n",
      "Epoch 215/300\n",
      "4/4 [==============================] - 0s 2ms/step - loss: 0.0060 - mean_absolute_percentage_error: 2.5367\n",
      "Epoch 216/300\n",
      "4/4 [==============================] - 0s 2ms/step - loss: 0.0060 - mean_absolute_percentage_error: 2.5341\n",
      "Epoch 217/300\n",
      "4/4 [==============================] - 0s 2ms/step - loss: 0.0060 - mean_absolute_percentage_error: 2.5383\n",
      "Epoch 218/300\n",
      "4/4 [==============================] - 0s 2ms/step - loss: 0.0060 - mean_absolute_percentage_error: 2.5401\n",
      "Epoch 219/300\n",
      "4/4 [==============================] - 0s 2ms/step - loss: 0.0060 - mean_absolute_percentage_error: 2.5386\n",
      "Epoch 220/300\n",
      "4/4 [==============================] - 0s 2ms/step - loss: 0.0060 - mean_absolute_percentage_error: 2.5367\n",
      "Epoch 221/300\n",
      "4/4 [==============================] - 0s 2ms/step - loss: 0.0060 - mean_absolute_percentage_error: 2.5309\n",
      "Epoch 222/300\n",
      "4/4 [==============================] - 0s 2ms/step - loss: 0.0060 - mean_absolute_percentage_error: 2.5236\n",
      "Epoch 223/300\n",
      "4/4 [==============================] - 0s 2ms/step - loss: 0.0060 - mean_absolute_percentage_error: 2.5229\n",
      "Epoch 224/300\n",
      "4/4 [==============================] - 0s 2ms/step - loss: 0.0060 - mean_absolute_percentage_error: 2.5274\n",
      "Epoch 225/300\n",
      "4/4 [==============================] - 0s 2ms/step - loss: 0.0060 - mean_absolute_percentage_error: 2.5347\n",
      "Epoch 226/300\n",
      "4/4 [==============================] - 0s 2ms/step - loss: 0.0060 - mean_absolute_percentage_error: 2.5364\n",
      "Epoch 227/300\n",
      "4/4 [==============================] - 0s 2ms/step - loss: 0.0060 - mean_absolute_percentage_error: 2.5424\n",
      "Epoch 228/300\n",
      "4/4 [==============================] - 0s 3ms/step - loss: 0.0060 - mean_absolute_percentage_error: 2.5435\n",
      "Epoch 229/300\n",
      "4/4 [==============================] - 0s 2ms/step - loss: 0.0060 - mean_absolute_percentage_error: 2.5393\n",
      "Epoch 230/300\n",
      "4/4 [==============================] - 0s 2ms/step - loss: 0.0060 - mean_absolute_percentage_error: 2.5364\n",
      "Epoch 231/300\n",
      "4/4 [==============================] - 0s 2ms/step - loss: 0.0060 - mean_absolute_percentage_error: 2.5320\n",
      "Epoch 232/300\n",
      "4/4 [==============================] - 0s 2ms/step - loss: 0.0060 - mean_absolute_percentage_error: 2.5328\n",
      "Epoch 233/300\n",
      "4/4 [==============================] - 0s 0s/step - loss: 0.0060 - mean_absolute_percentage_error: 2.5337\n",
      "Epoch 234/300\n",
      "4/4 [==============================] - 0s 0s/step - loss: 0.0060 - mean_absolute_percentage_error: 2.5333\n",
      "Epoch 235/300\n",
      "4/4 [==============================] - 0s 0s/step - loss: 0.0060 - mean_absolute_percentage_error: 2.5319\n",
      "Epoch 236/300\n",
      "4/4 [==============================] - 0s 2ms/step - loss: 0.0060 - mean_absolute_percentage_error: 2.5339\n",
      "Epoch 237/300\n",
      "4/4 [==============================] - 0s 2ms/step - loss: 0.0060 - mean_absolute_percentage_error: 2.5390\n",
      "Epoch 238/300\n",
      "4/4 [==============================] - 0s 3ms/step - loss: 0.0060 - mean_absolute_percentage_error: 2.5387\n",
      "Epoch 239/300\n",
      "4/4 [==============================] - 0s 2ms/step - loss: 0.0060 - mean_absolute_percentage_error: 2.5468\n",
      "Epoch 240/300\n",
      "4/4 [==============================] - 0s 2ms/step - loss: 0.0060 - mean_absolute_percentage_error: 2.5506\n",
      "Epoch 241/300\n",
      "4/4 [==============================] - 0s 2ms/step - loss: 0.0060 - mean_absolute_percentage_error: 2.5451\n",
      "Epoch 242/300\n",
      "4/4 [==============================] - 0s 0s/step - loss: 0.0060 - mean_absolute_percentage_error: 2.5364\n",
      "Epoch 243/300\n",
      "4/4 [==============================] - 0s 2ms/step - loss: 0.0060 - mean_absolute_percentage_error: 2.5306\n",
      "Epoch 244/300\n",
      "4/4 [==============================] - 0s 0s/step - loss: 0.0060 - mean_absolute_percentage_error: 2.5282\n",
      "Epoch 245/300\n",
      "4/4 [==============================] - 0s 2ms/step - loss: 0.0060 - mean_absolute_percentage_error: 2.5259\n",
      "Epoch 246/300\n",
      "4/4 [==============================] - 0s 0s/step - loss: 0.0060 - mean_absolute_percentage_error: 2.5197\n",
      "Epoch 247/300\n",
      "4/4 [==============================] - 0s 0s/step - loss: 0.0060 - mean_absolute_percentage_error: 2.5125\n",
      "Epoch 248/300\n",
      "4/4 [==============================] - 0s 0s/step - loss: 0.0060 - mean_absolute_percentage_error: 2.5119\n",
      "Epoch 249/300\n",
      "4/4 [==============================] - 0s 0s/step - loss: 0.0060 - mean_absolute_percentage_error: 2.5273\n",
      "Epoch 250/300\n",
      "4/4 [==============================] - 0s 0s/step - loss: 0.0060 - mean_absolute_percentage_error: 2.5331\n",
      "Epoch 251/300\n",
      "4/4 [==============================] - 0s 0s/step - loss: 0.0059 - mean_absolute_percentage_error: 2.5353\n",
      "Epoch 252/300\n",
      "4/4 [==============================] - 0s 0s/step - loss: 0.0059 - mean_absolute_percentage_error: 2.5310\n",
      "Epoch 253/300\n",
      "4/4 [==============================] - 0s 0s/step - loss: 0.0059 - mean_absolute_percentage_error: 2.5289\n",
      "Epoch 254/300\n",
      "4/4 [==============================] - 0s 0s/step - loss: 0.0059 - mean_absolute_percentage_error: 2.5282\n",
      "Epoch 255/300\n",
      "4/4 [==============================] - 0s 2ms/step - loss: 0.0059 - mean_absolute_percentage_error: 2.5268\n",
      "Epoch 256/300\n",
      "4/4 [==============================] - 0s 2ms/step - loss: 0.0059 - mean_absolute_percentage_error: 2.5271\n",
      "Epoch 257/300\n",
      "4/4 [==============================] - 0s 2ms/step - loss: 0.0060 - mean_absolute_percentage_error: 2.5258\n",
      "Epoch 258/300\n",
      "4/4 [==============================] - 0s 2ms/step - loss: 0.0060 - mean_absolute_percentage_error: 2.5289\n",
      "Epoch 259/300\n",
      "4/4 [==============================] - 0s 2ms/step - loss: 0.0059 - mean_absolute_percentage_error: 2.5289\n",
      "Epoch 260/300\n",
      "4/4 [==============================] - 0s 0s/step - loss: 0.0059 - mean_absolute_percentage_error: 2.5270\n",
      "Epoch 261/300\n",
      "4/4 [==============================] - 0s 0s/step - loss: 0.0059 - mean_absolute_percentage_error: 2.5282\n",
      "Epoch 262/300\n",
      "4/4 [==============================] - 0s 0s/step - loss: 0.0059 - mean_absolute_percentage_error: 2.5284\n",
      "Epoch 263/300\n",
      "4/4 [==============================] - 0s 0s/step - loss: 0.0059 - mean_absolute_percentage_error: 2.5292\n",
      "Epoch 264/300\n",
      "4/4 [==============================] - 0s 0s/step - loss: 0.0059 - mean_absolute_percentage_error: 2.5290\n",
      "Epoch 265/300\n",
      "4/4 [==============================] - 0s 2ms/step - loss: 0.0059 - mean_absolute_percentage_error: 2.5326\n",
      "Epoch 266/300\n",
      "4/4 [==============================] - 0s 2ms/step - loss: 0.0059 - mean_absolute_percentage_error: 2.5310\n",
      "Epoch 267/300\n",
      "4/4 [==============================] - 0s 2ms/step - loss: 0.0059 - mean_absolute_percentage_error: 2.5295\n",
      "Epoch 268/300\n",
      "4/4 [==============================] - 0s 2ms/step - loss: 0.0059 - mean_absolute_percentage_error: 2.5294\n",
      "Epoch 269/300\n",
      "4/4 [==============================] - 0s 2ms/step - loss: 0.0059 - mean_absolute_percentage_error: 2.5368\n",
      "Epoch 270/300\n",
      "4/4 [==============================] - 0s 2ms/step - loss: 0.0059 - mean_absolute_percentage_error: 2.5454\n",
      "Epoch 271/300\n",
      "4/4 [==============================] - 0s 0s/step - loss: 0.0059 - mean_absolute_percentage_error: 2.5431\n",
      "Epoch 272/300\n",
      "4/4 [==============================] - 0s 0s/step - loss: 0.0059 - mean_absolute_percentage_error: 2.5360\n",
      "Epoch 273/300\n",
      "4/4 [==============================] - 0s 0s/step - loss: 0.0059 - mean_absolute_percentage_error: 2.5315\n",
      "Epoch 274/300\n",
      "4/4 [==============================] - 0s 0s/step - loss: 0.0059 - mean_absolute_percentage_error: 2.5298\n",
      "Epoch 275/300\n",
      "4/4 [==============================] - 0s 2ms/step - loss: 0.0059 - mean_absolute_percentage_error: 2.5295\n",
      "Epoch 276/300\n",
      "4/4 [==============================] - 0s 2ms/step - loss: 0.0059 - mean_absolute_percentage_error: 2.5288\n",
      "Epoch 277/300\n",
      "4/4 [==============================] - 0s 2ms/step - loss: 0.0059 - mean_absolute_percentage_error: 2.5320\n",
      "Epoch 278/300\n",
      "4/4 [==============================] - 0s 2ms/step - loss: 0.0059 - mean_absolute_percentage_error: 2.5322\n",
      "Epoch 279/300\n",
      "4/4 [==============================] - 0s 2ms/step - loss: 0.0059 - mean_absolute_percentage_error: 2.5287\n",
      "Epoch 280/300\n",
      "4/4 [==============================] - 0s 0s/step - loss: 0.0059 - mean_absolute_percentage_error: 2.5266\n",
      "Epoch 281/300\n",
      "4/4 [==============================] - 0s 0s/step - loss: 0.0059 - mean_absolute_percentage_error: 2.5242\n",
      "Epoch 282/300\n",
      "4/4 [==============================] - 0s 0s/step - loss: 0.0059 - mean_absolute_percentage_error: 2.5264\n",
      "Epoch 283/300\n",
      "4/4 [==============================] - 0s 0s/step - loss: 0.0059 - mean_absolute_percentage_error: 2.5247\n",
      "Epoch 284/300\n",
      "4/4 [==============================] - 0s 2ms/step - loss: 0.0059 - mean_absolute_percentage_error: 2.5270\n",
      "Epoch 285/300\n",
      "4/4 [==============================] - 0s 2ms/step - loss: 0.0059 - mean_absolute_percentage_error: 2.5287\n",
      "Epoch 286/300\n",
      "4/4 [==============================] - 0s 2ms/step - loss: 0.0059 - mean_absolute_percentage_error: 2.5265\n",
      "Epoch 287/300\n",
      "4/4 [==============================] - 0s 2ms/step - loss: 0.0059 - mean_absolute_percentage_error: 2.5285\n",
      "Epoch 288/300\n",
      "4/4 [==============================] - 0s 2ms/step - loss: 0.0059 - mean_absolute_percentage_error: 2.5256\n",
      "Epoch 289/300\n",
      "4/4 [==============================] - 0s 2ms/step - loss: 0.0059 - mean_absolute_percentage_error: 2.5224\n",
      "Epoch 290/300\n",
      "4/4 [==============================] - 0s 2ms/step - loss: 0.0059 - mean_absolute_percentage_error: 2.5226\n",
      "Epoch 291/300\n",
      "4/4 [==============================] - 0s 2ms/step - loss: 0.0059 - mean_absolute_percentage_error: 2.5200\n",
      "Epoch 292/300\n",
      "4/4 [==============================] - 0s 2ms/step - loss: 0.0059 - mean_absolute_percentage_error: 2.5180\n",
      "Epoch 293/300\n",
      "4/4 [==============================] - 0s 2ms/step - loss: 0.0059 - mean_absolute_percentage_error: 2.5204\n",
      "Epoch 294/300\n",
      "4/4 [==============================] - 0s 2ms/step - loss: 0.0059 - mean_absolute_percentage_error: 2.5270\n",
      "Epoch 295/300\n",
      "4/4 [==============================] - 0s 2ms/step - loss: 0.0059 - mean_absolute_percentage_error: 2.5314\n",
      "Epoch 296/300\n",
      "4/4 [==============================] - 0s 2ms/step - loss: 0.0059 - mean_absolute_percentage_error: 2.5357\n",
      "Epoch 297/300\n",
      "4/4 [==============================] - 0s 2ms/step - loss: 0.0059 - mean_absolute_percentage_error: 2.5349\n",
      "Epoch 298/300\n",
      "4/4 [==============================] - 0s 2ms/step - loss: 0.0059 - mean_absolute_percentage_error: 2.5318\n",
      "Epoch 299/300\n",
      "4/4 [==============================] - 0s 0s/step - loss: 0.0059 - mean_absolute_percentage_error: 2.5295\n",
      "Epoch 300/300\n",
      "4/4 [==============================] - 0s 0s/step - loss: 0.0059 - mean_absolute_percentage_error: 2.5270\n"
     ]
    },
    {
     "data": {
      "text/plain": [
       "<tensorflow.python.keras.callbacks.History at 0x1ac8930d320>"
      ]
     },
     "execution_count": 68,
     "metadata": {},
     "output_type": "execute_result"
    }
   ],
   "source": [
    "# Створюємо модель\n",
    "model = Sequential()\n",
    "model.add(Dense(8, input_dim=12, activation='relu'))\n",
    "model.add(Dense(1, activation='linear'))\n",
    "\n",
    "# Компілюємо модель\n",
    "model.compile(loss='mean_squared_error', optimizer='adam', metrics=['mean_absolute_percentage_error'])\n",
    "\n",
    "# Навчаємо модель\n",
    "model.fit(X_train, y_train, epochs=300, batch_size=None)"
   ]
  },
  {
   "cell_type": "markdown",
   "metadata": {},
   "source": [
    "Виконаємо грубу оцінку якості моделі на тестових даних. Грубу - тому що таким способом ми уникаємо \"накопичення помилки\", оскільки використовуємо заздалегідь відомі значення всіх предикторів."
   ]
  },
  {
   "cell_type": "code",
   "execution_count": 65,
   "metadata": {},
   "outputs": [
    {
     "name": "stdout",
     "output_type": "stream",
     "text": [
      "1/1 [==============================] - 0s 0s/step - loss: 0.0041 - mean_absolute_percentage_error: 1.9710\n",
      "\n",
      " rude MAPE: 1.97%\n"
     ]
    }
   ],
   "source": [
    "scores = model.evaluate(X_test, y_test)\n",
    "print(\"\\n rude MAPE: %.2f%%\" % (scores[1]))"
   ]
  },
  {
   "cell_type": "markdown",
   "metadata": {},
   "source": [
    "Обчислюємо грубий прогноз на тестових даних."
   ]
  },
  {
   "cell_type": "code",
   "execution_count": 48,
   "metadata": {},
   "outputs": [],
   "source": [
    "false_predictions = model.predict(X_test)"
   ]
  },
  {
   "cell_type": "markdown",
   "metadata": {},
   "source": [
    "Для правильної оцінки якості роботи мережі на тесових даних необхідно реалізувати наступний алгоритм:\n",
    "- Взяти перший набір предикторів із тестових даних. В нашому випадку, це спостереження №109-№120. За їх значеннями спрогнозувати спостереження №121.\n",
    "- Взяти спостереження №110-№121 (спрогнозоване на попередньому кроці). За ними спрогнозувати спостереження №122.\n",
    "- Взяти спостереження №110-№122 (два останні - спрогнозовані на попередніх кроках). За ними спрогнозувати спостереження №123.\n",
    "- Повторювати ці дії стільки разів, скільки значень потрібно спрогнозувати. В нашому випадку - 12.\n",
    "- Лише після цього оцінити значення метрики, порахувавши помилки як різницю між реальними цілями *у* та спрогнозованими значеннями. Це треба зробити за власною формулою, а не стандартним методом `evaluate()`!"
   ]
  },
  {
   "cell_type": "markdown",
   "metadata": {},
   "source": [
    "Напишемо власну функцію для прогнозування за описаним алгоритмом."
   ]
  },
  {
   "cell_type": "code",
   "execution_count": 49,
   "metadata": {},
   "outputs": [],
   "source": [
    "def make_prediction(X_predict, nb_of_predictions):\n",
    "\n",
    "    predictions = numpy.array([])\n",
    "\n",
    "    for i in range (nb_of_predictions):\n",
    "\n",
    "        y_predicted = model.predict(X_predict)\n",
    "        predictions = numpy.append(predictions, y_predicted)\n",
    "    \n",
    "        X_predict = numpy.roll(X_predict, -1)\n",
    "        X_predict[0][-1] = y_predicted\n",
    "    \n",
    "    return predictions"
   ]
  },
  {
   "cell_type": "markdown",
   "metadata": {},
   "source": [
    "Проведемо оцінку якості моделі за метрикою MAPE."
   ]
  },
  {
   "cell_type": "code",
   "execution_count": 50,
   "metadata": {},
   "outputs": [],
   "source": [
    "# Перетворимо перший зразок із тестової вибірки на масив Numpy\n",
    "X_predict = numpy.array(X_test[:1])\n",
    "\n",
    "# Використаємо написану функцію для отримання правильного прогнозу\n",
    "predictions = make_prediction(X_predict, len(X_test))"
   ]
  },
  {
   "cell_type": "markdown",
   "metadata": {},
   "source": [
    "Отримаємо значення MAPE на тестових даних."
   ]
  },
  {
   "cell_type": "code",
   "execution_count": 51,
   "metadata": {},
   "outputs": [
    {
     "name": "stdout",
     "output_type": "stream",
     "text": [
      "\n",
      " MAPE: 1.12 %\n"
     ]
    }
   ],
   "source": [
    "y_test = numpy.array(y_test)\n",
    "\n",
    "MAPE = 100*sum(numpy.abs(y_test - predictions) / numpy.maximum(y_test, 1e-20))/len(y_test)\n",
    "print(f\"\\n MAPE: {MAPE:.2f} %\")"
   ]
  },
  {
   "cell_type": "markdown",
   "metadata": {},
   "source": [
    "Обчислюємо допасування (\"підгонку\") моделі. Підгонка показує, наскільки якісно модель робить прогнози на навчальній множині. Порівнявши результати роботи мережі з правильними значеннями Y, можна візуально (на графіку) оцінити, наскільки близькими є прогнози моделі до реальних даних, на яких вона навчалась."
   ]
  },
  {
   "cell_type": "code",
   "execution_count": 52,
   "metadata": {},
   "outputs": [],
   "source": [
    "predictions_train = model.predict(X_train)"
   ]
  },
  {
   "cell_type": "markdown",
   "metadata": {},
   "source": [
    "Згадуємо розміри таблиць і будуємо графіки."
   ]
  },
  {
   "cell_type": "code",
   "execution_count": 53,
   "metadata": {},
   "outputs": [
    {
     "name": "stdout",
     "output_type": "stream",
     "text": [
      "(120, 12)\n",
      "(120,)\n",
      "(12, 12)\n",
      "(12,)\n"
     ]
    }
   ],
   "source": [
    "print(X_train.shape)\n",
    "print(y_train.shape)\n",
    "print(X_test.shape)\n",
    "print(y_test.shape)"
   ]
  },
  {
   "cell_type": "markdown",
   "metadata": {},
   "source": [
    "- Було 144 спостереження\n",
    "- Відкинули 12, стало 132\n",
    "- train 120\n",
    "- test 12"
   ]
  },
  {
   "cell_type": "code",
   "execution_count": 54,
   "metadata": {},
   "outputs": [
    {
     "data": {
      "text/plain": [
       "[<matplotlib.lines.Line2D at 0x1ac8c3e4828>]"
      ]
     },
     "execution_count": 54,
     "metadata": {},
     "output_type": "execute_result"
    },
    {
     "data": {
      "image/png": "[encoded data removed]",
      "text/plain": [
       "<Figure size 1080x360 with 1 Axes>"
      ]
     },
     "metadata": {},
     "output_type": "display_data"
    }
   ],
   "source": [
    "# Графік з результатами\n",
    "\n",
    "plt.rcParams['figure.figsize'] = (15, 5)\n",
    "\n",
    "#   numpy.arange([start, ]stop, [step, ]dtype=None)\n",
    "\n",
    "x2 = numpy.arange(0, 120, 1)\n",
    "\n",
    "x3 = numpy.arange(120, 132, 1)\n",
    "\n",
    "# реальні дані (початковий ряд без відкинутих і тестових значень)\n",
    "plt.plot(x2, y_train, color='blue')\n",
    "\n",
    "# підгонка\n",
    "plt.plot(x2, predictions_train, color='green')\n",
    "\n",
    "# реальні дані на тестовій множині\n",
    "plt.plot(x3, y_test, color='blue')\n",
    "\n",
    "# грубий прогноз на тестовій множині\n",
    "plt.plot(x3, false_predictions, color='purple')\n",
    "\n",
    "# правильний прогноз на тестовій множині\n",
    "plt.plot(x3, predictions, color='red')"
   ]
  },
  {
   "cell_type": "markdown",
   "metadata": {},
   "source": [
    "Якщо результати роботи мережі нас задовольняють, можна використати навчену модель для створення реального прогнозу. Якщо ні - перенавчаємо. Реальний прогноз є продовженням початкового ряду на певну кількість спостережень. В нашому випадку - на 12 місяців вперед. Для створення прогнозу використаємо раніше написану нами функцію `make_prediction()`. Кількість предикторів X має відповідати кількості стовпців Х в таблиці даних, на якій навчалась мережа. В нашому випадку, в якості першого набору предикторів Х необхідно подати дані за останні 12 місяців з початкового ряду."
   ]
  },
  {
   "cell_type": "code",
   "execution_count": 55,
   "metadata": {},
   "outputs": [],
   "source": [
    "# Прогнозуємо на 12 місяців вперед\n",
    "nb_of_predictions = 12\n",
    "\n",
    "# Перетворюємо дані за останні 12 місяців в масиви Numpy\n",
    "X_real_prediction = numpy.array(ser_g_4.iloc[-X.shape[1]:,1])\n",
    "X_real_prediction = numpy.expand_dims(X_real_prediction, axis = 1)\n",
    "X_real_prediction = numpy.transpose(X_real_prediction)\n",
    "\n",
    "# Робимо прогноз\n",
    "real_predictions = make_prediction(X_real_prediction, nb_of_predictions)"
   ]
  },
  {
   "cell_type": "markdown",
   "metadata": {},
   "source": [
    "Побудуємо суміщений графік, на якому покажемо початковий ряд та прогноз на наступні 12 місяців."
   ]
  },
  {
   "cell_type": "code",
   "execution_count": 56,
   "metadata": {},
   "outputs": [
    {
     "data": {
      "text/plain": [
       "[<matplotlib.lines.Line2D at 0x1ac8c4c7898>]"
      ]
     },
     "execution_count": 56,
     "metadata": {},
     "output_type": "execute_result"
    },
    {
     "data": {
      "image/png": "[encoded data removed]",
      "text/plain": [
       "<Figure size 1080x360 with 1 Axes>"
      ]
     },
     "metadata": {},
     "output_type": "display_data"
    }
   ],
   "source": [
    "# Даня з початкового ряду\n",
    "x_past = numpy.arange(0, len(ser_g_4))\n",
    "y_past = ser_g_4.iloc[:,1]\n",
    "\n",
    "# Додаємо координати Х для прогнозу\n",
    "x_pred = numpy.arange(len(ser_g_4), len(ser_g_4) + nb_of_predictions)\n",
    "\n",
    "# Початковий ряд\n",
    "plt.plot(x_past, y_past, color='blue')\n",
    "\n",
    "# Прогноз\n",
    "plt.plot(x_pred, real_predictions, color='red')"
   ]
  },
  {
   "cell_type": "markdown",
   "metadata": {},
   "source": [
    "Оскільки ми навчили мережу прогнозувати логарифми даних, а не самі дані, необхідно виконати зворотне перетворення - піднесення до степеню. Логарифм був десятковим, тому для отримання реальних результатів (кількості осіб, а не її логарифмів) необхідно піднести 10 до відповідного ступеню."
   ]
  },
  {
   "cell_type": "code",
   "execution_count": 57,
   "metadata": {},
   "outputs": [],
   "source": [
    "# Перетворюємо з логарифмів до реальної величини\n",
    "non_log_predictions = 10**real_predictions"
   ]
  },
  {
   "cell_type": "markdown",
   "metadata": {},
   "source": [
    "Тепер побудуємо фінальний графік."
   ]
  },
  {
   "cell_type": "code",
   "execution_count": 58,
   "metadata": {},
   "outputs": [
    {
     "data": {
      "text/plain": [
       "[<matplotlib.lines.Line2D at 0x1ac8c2fa5f8>]"
      ]
     },
     "execution_count": 58,
     "metadata": {},
     "output_type": "execute_result"
    },
    {
     "data": {
      "image/png": "[encoded data removed]",
      "text/plain": [
       "<Figure size 1080x360 with 1 Axes>"
      ]
     },
     "metadata": {},
     "output_type": "display_data"
    }
   ],
   "source": [
    "x_past = numpy.arange(0, len(ser_g))\n",
    "y_past = ser_g.iloc[:,1]\n",
    "\n",
    "x_pred = numpy.arange(len(ser_g), len(ser_g) + nb_of_predictions)\n",
    "\n",
    "plt.plot(x_past, y_past, color='blue')\n",
    "plt.plot(x_pred, non_log_predictions, color='red')"
   ]
  },
  {
   "cell_type": "code",
   "execution_count": null,
   "metadata": {},
   "outputs": [],
   "source": []
  },
  {
   "cell_type": "code",
   "execution_count": null,
   "metadata": {},
   "outputs": [],
   "source": []
  }
 ],
 "metadata": {
  "kernelspec": {
   "display_name": "Python 3 (ipykernel)",
   "language": "python",
   "name": "python3"
  },
  "language_info": {
   "codemirror_mode": {
    "name": "ipython",
    "version": 3
   },
   "file_extension": ".py",
   "mimetype": "text/x-python",
   "name": "python",
   "nbconvert_exporter": "python",
   "pygments_lexer": "ipython3",
   "version": "3.7.0"
  }
 },
 "nbformat": 4,
 "nbformat_minor": 4
}
