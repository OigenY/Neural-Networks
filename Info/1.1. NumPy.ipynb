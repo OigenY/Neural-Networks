{
 "cells": [
  {
   "cell_type": "markdown",
   "metadata": {},
   "source": [
    "# <center>Тема 1.1\n",
    "## <center>Бібліотека NumPy"
   ]
  },
  {
   "cell_type": "markdown",
   "metadata": {},
   "source": [
    "- **NumPy** (Numeric Python) - це бібліотека мови Python, яка додає підтримку великих багатовимірних масивів і матриць, разом з бібліотекою високорівневих (і дуже швидкодіючих) математичних функцій для операцій з цими масивами."
   ]
  },
  {
   "cell_type": "markdown",
   "metadata": {},
   "source": [
    "Для початку роботи з NumPy його, як і будь-який модуль, потрібно імпортувати."
   ]
  },
  {
   "cell_type": "code",
   "execution_count": 2,
   "metadata": {},
   "outputs": [],
   "source": [
    "import numpy as np"
   ]
  },
  {
   "cell_type": "markdown",
   "metadata": {
    "tags": []
   },
   "source": [
    "### <center>Об'єкти ndarray"
   ]
  },
  {
   "cell_type": "markdown",
   "metadata": {},
   "source": [
    "**numpy.ndarray** - це однорідний багатовимірний масив елементів одного типу. Об'єкти **ndarray** є основними об'єктами NumPy."
   ]
  },
  {
   "cell_type": "markdown",
   "metadata": {},
   "source": [
    "Найбільш важливі атрибути об'єктів **ndarray**:\n",
    "- `ndarray.ndim` - розмірність масиву. Дуже часто один вимір масиву називають \"вісь\". Наприклад, одновимірний масив в термінології NumPy має одну вісь. Двовимірний - дві осі (стовпці та рядки), тривимірний - три осі тощо.\n",
    "\n",
    "- `ndarray.shape` - розміри масиву, його форма. Це кортеж натуральних чисел, який показує довжину масиву по кожній осі. Для матриці з **n** рядків і **m** стовпів, `shape` буде **(n, m)**. Число елементів кортежу `shape` дорівнює `ndim`.\n",
    "\n",
    "- `ndarray.size` - кількість елементів масиву. Очевидно, дорівнює добутку всіх елементів атрибута `shape`.\n",
    "\n",
    "- `ndarray.dtype` - об'єкт, що описує тип елементів масиву. Можна визначити `dtype`, використовуючи стандартні типи даних Python. NumPy тут надає величезну кількість  можливостей, як вбудованих, (наприклад: `bool_, character, int8, int16, int32, int64, float8, float16, float32, float64, complex64, object_,`) так і можливість визначити власні типи даних, навіть складені (комбіновані).\n",
    "\n",
    "- `ndarray.itemsize` - розмір кожного елемента масиву в байтах.\n",
    "\n",
    "- `ndarray.data` - буфер, який містить фактичні елементи масиву. Зазвичай не потрібно використовувати цей атрибут, так як звертатися до елементів масиву найпростіше за допомогою індексів."
   ]
  },
  {
   "cell_type": "markdown",
   "metadata": {},
   "source": [
    "### <center>Створення масивів"
   ]
  },
  {
   "cell_type": "markdown",
   "metadata": {},
   "source": [
    "У NumPy існує багато способів створити масив. Один з найбільш простих - створити масив зі звичайних списків або кортежів Python, використовуючи функцію `numpy.array()` (запам'ятайте: `array()` - функція, що створює об'єкт типу `ndarray`)."
   ]
  },
  {
   "cell_type": "code",
   "execution_count": 7,
   "metadata": {},
   "outputs": [
    {
     "name": "stdout",
     "output_type": "stream",
     "text": [
      "[1 2 3]\n",
      "<class 'numpy.ndarray'>\n"
     ]
    }
   ],
   "source": [
    "a = np.array([1, 2, 3])\n",
    "print(a)\n",
    "print(type(a))"
   ]
  },
  {
   "cell_type": "markdown",
   "metadata": {},
   "source": [
    "Функція `array()` трансформує вкладені послідовності в багатовимірні масиви. Тип елементів масиву залежить від типу елементів початкової послідовності (але можна і перевизначити його під час створення)."
   ]
  },
  {
   "cell_type": "code",
   "execution_count": 9,
   "metadata": {},
   "outputs": [
    {
     "name": "stdout",
     "output_type": "stream",
     "text": [
      "[[1.5 2.  3. ]\n",
      " [4.  5.  6. ]]\n"
     ]
    }
   ],
   "source": [
    "b = np.array([[1.5, 2, 3], [4, 5, 6]])\n",
    "print(b)"
   ]
  },
  {
   "cell_type": "code",
   "execution_count": 11,
   "metadata": {},
   "outputs": [
    {
     "name": "stdout",
     "output_type": "stream",
     "text": [
      "[[1 2 3]\n",
      " [4 5 6]]\n"
     ]
    }
   ],
   "source": [
    "b = np.array([[1.5, 2, 3], [4, 5, 6]], dtype=np.int)\n",
    "print(b)"
   ]
  },
  {
   "cell_type": "markdown",
   "metadata": {},
   "source": [
    "Функція `array()` - не єдина функція для створення масивів. Зазвичай елементи масиву на початку роботи невідомі, а масив, в якому вони будуть зберігатися, вже потрібен. Тому є кілька функцій для того, щоб створювати вже заповнені якимись даними масиви (за замовчуванням тип створюваного масиву - `float64`)."
   ]
  },
  {
   "cell_type": "markdown",
   "metadata": {},
   "source": [
    "Функція `zeros()` - створює масив з нулів, а функція `ones()` - масив з одиниць. Обидві функції приймають кортеж з розмірами `shape`, і необов'язковий аргумент `dtype`:\n",
    "- `zeros(shape [, dtype])`\n",
    "- `ones(shape [, dtype])`"
   ]
  },
  {
   "cell_type": "code",
   "execution_count": 13,
   "metadata": {},
   "outputs": [
    {
     "name": "stdout",
     "output_type": "stream",
     "text": [
      "[[0. 0. 0. 0. 0.]\n",
      " [0. 0. 0. 0. 0.]\n",
      " [0. 0. 0. 0. 0.]]\n"
     ]
    }
   ],
   "source": [
    "print(np.zeros((3, 5)))"
   ]
  },
  {
   "cell_type": "code",
   "execution_count": 14,
   "metadata": {},
   "outputs": [
    {
     "name": "stdout",
     "output_type": "stream",
     "text": [
      "[[[1. 1.]\n",
      "  [1. 1.]]\n",
      "\n",
      " [[1. 1.]\n",
      "  [1. 1.]]]\n"
     ]
    }
   ],
   "source": [
    "print(np.ones((2, 2, 2)))"
   ]
  },
  {
   "cell_type": "markdown",
   "metadata": {},
   "source": [
    "Функція `eye(n)` - створює одиничну матрицю (двовимірний масив)."
   ]
  },
  {
   "cell_type": "code",
   "execution_count": 15,
   "metadata": {},
   "outputs": [
    {
     "name": "stdout",
     "output_type": "stream",
     "text": [
      "[[1. 0. 0. 0. 0.]\n",
      " [0. 1. 0. 0. 0.]\n",
      " [0. 0. 1. 0. 0.]\n",
      " [0. 0. 0. 1. 0.]\n",
      " [0. 0. 0. 0. 1.]]\n"
     ]
    }
   ],
   "source": [
    "print(np.eye(5))"
   ]
  },
  {
   "cell_type": "markdown",
   "metadata": {},
   "source": [
    "Функція `empty(shape)` - створює масив без його заповнення. Початковий вміст є випадковим і залежить від стану пам'яті на момент створення масиву (тобто від того сміття, що в ній зберігається)."
   ]
  },
  {
   "cell_type": "code",
   "execution_count": 16,
   "metadata": {},
   "outputs": [
    {
     "name": "stdout",
     "output_type": "stream",
     "text": [
      "[[0.000e+000 0.000e+000 0.000e+000]\n",
      " [0.000e+000 0.000e+000 5.613e-321]\n",
      " [0.000e+000 0.000e+000 0.000e+000]]\n"
     ]
    }
   ],
   "source": [
    "print(np.empty((3, 3)))"
   ]
  },
  {
   "cell_type": "markdown",
   "metadata": {},
   "source": [
    "Функція `arange(i [, j, k])` - аналогічна вбудованій в Python функції `range()`, тільки замість списків вона повертає масиви, і приймає не лише цілі значення."
   ]
  },
  {
   "cell_type": "code",
   "execution_count": 18,
   "metadata": {},
   "outputs": [
    {
     "name": "stdout",
     "output_type": "stream",
     "text": [
      "[10 15 20 25]\n",
      "[0.  0.1 0.2 0.3 0.4 0.5 0.6 0.7 0.8 0.9]\n"
     ]
    }
   ],
   "source": [
    "print(np.arange(10, 30, 5))\n",
    "print(np.arange(0, 1, 0.1))"
   ]
  },
  {
   "cell_type": "markdown",
   "metadata": {},
   "source": [
    "**Увага!** Під час використання `arange()` з аргументами типу `float`, може виникнути невизначеність в тому, скільки елементів буде отримано (через обмеження точності чисел з плаваючою комою). Тому, в таких випадках зазвичай краще використовувати функцію `linspace()`, яка замість кроку в якості одного з аргументів приймає число, що дорівнює кількості потрібних елементів."
   ]
  },
  {
   "cell_type": "code",
   "execution_count": 20,
   "metadata": {},
   "outputs": [
    {
     "name": "stdout",
     "output_type": "stream",
     "text": [
      "[0.   0.25 0.5  0.75 1.   1.25 1.5  1.75 2.  ]\n"
     ]
    }
   ],
   "source": [
    "# 9 чисел від 0 до 2 включно\n",
    "print(np.linspace(0, 2, 9))"
   ]
  },
  {
   "cell_type": "markdown",
   "metadata": {},
   "source": [
    "Функція `fromfunction(f, i, j)` - застосовує деяку функцію **f** до всіх комбінацій індексів **i, j**."
   ]
  },
  {
   "cell_type": "code",
   "execution_count": 26,
   "metadata": {},
   "outputs": [],
   "source": [
    "def f1(i, j):\n",
    "    return 3 * i + j"
   ]
  },
  {
   "cell_type": "code",
   "execution_count": 27,
   "metadata": {},
   "outputs": [
    {
     "name": "stdout",
     "output_type": "stream",
     "text": [
      "[[0. 1. 2. 3.]\n",
      " [3. 4. 5. 6.]\n",
      " [6. 7. 8. 9.]]\n",
      "\n",
      "[[0. 1. 2.]\n",
      " [3. 4. 5.]\n",
      " [6. 7. 8.]]\n"
     ]
    }
   ],
   "source": [
    "print(np.fromfunction(f1, (3, 4)))\n",
    "print()\n",
    "print(np.fromfunction(f1, (3, 3)))"
   ]
  },
  {
   "cell_type": "markdown",
   "metadata": {},
   "source": [
    "### <center>Вивід масивів"
   ]
  },
  {
   "cell_type": "markdown",
   "metadata": {},
   "source": [
    "Якщо масив занадто великий, щоб його повністю показати, NumPy автоматично приховує центральну частину масиву і виводить тільки його кути."
   ]
  },
  {
   "cell_type": "code",
   "execution_count": 52,
   "metadata": {},
   "outputs": [
    {
     "name": "stdout",
     "output_type": "stream",
     "text": [
      "[   0    1    2 ... 2997 2998 2999]\n"
     ]
    }
   ],
   "source": [
    "print(np.arange(0, 3000, 1))"
   ]
  },
  {
   "cell_type": "markdown",
   "metadata": {},
   "source": [
    "Функція `set_printoptions()` дозволяє вивести більше елементів. Для цього потрібно вказати значення параметру `threshold`, яке і буде вказувати інтерпретатору на те, скільки можна виводити елементів масиву без скорочення запису."
   ]
  },
  {
   "cell_type": "code",
   "execution_count": 53,
   "metadata": {},
   "outputs": [
    {
     "name": "stdout",
     "output_type": "stream",
     "text": [
      "[ 0  1  2  3  4  5  6  7  8  9 10 11 12 13 14 15 16 17 18 19 20 21 22 23\n",
      " 24 25 26 27 28 29 30 31 32 33 34 35 36 37 38 39 40 41 42 43 44 45 46 47\n",
      " 48 49 50 51 52 53 54 55 56 57 58 59 60 61 62 63 64 65 66 67 68 69 70 71\n",
      " 72 73 74 75 76 77 78 79 80 81 82 83 84 85 86 87 88 89 90 91 92 93 94 95\n",
      " 96 97 98 99]\n"
     ]
    }
   ],
   "source": [
    "np.set_printoptions(threshold = 100)\n",
    "print(np.arange(0, 100, 1))"
   ]
  },
  {
   "cell_type": "markdown",
   "metadata": {},
   "source": [
    "### <center>Базові операції над масивами"
   ]
  },
  {
   "cell_type": "markdown",
   "metadata": {},
   "source": [
    "Математичні операції над масивами NumPy виконуються поелементно (масиви повінні мати однакові розміри). В результаті створюється новий масив, який заповнюється результатами операції."
   ]
  },
  {
   "cell_type": "code",
   "execution_count": 4,
   "metadata": {},
   "outputs": [],
   "source": [
    "a = np.array([20, 30, 40, 50])\n",
    "b = np.arange(4)"
   ]
  },
  {
   "cell_type": "code",
   "execution_count": 4,
   "metadata": {},
   "outputs": [
    {
     "name": "stdout",
     "output_type": "stream",
     "text": [
      "[20 31 42 53]\n"
     ]
    }
   ],
   "source": [
    "print(a + b)"
   ]
  },
  {
   "cell_type": "code",
   "execution_count": 5,
   "metadata": {},
   "outputs": [
    {
     "name": "stdout",
     "output_type": "stream",
     "text": [
      "[20 29 38 47]\n"
     ]
    }
   ],
   "source": [
    "print(a - b)"
   ]
  },
  {
   "cell_type": "code",
   "execution_count": 6,
   "metadata": {},
   "outputs": [
    {
     "name": "stdout",
     "output_type": "stream",
     "text": [
      "[  0  30  80 150]\n"
     ]
    }
   ],
   "source": [
    "print(a * b)"
   ]
  },
  {
   "cell_type": "code",
   "execution_count": 7,
   "metadata": {},
   "outputs": [
    {
     "name": "stdout",
     "output_type": "stream",
     "text": [
      "[        inf 30.         20.         16.66666667]\n"
     ]
    },
    {
     "name": "stderr",
     "output_type": "stream",
     "text": [
      "C:\\Users\\drewmt\\anaconda3\\lib\\site-packages\\ipykernel_launcher.py:1: RuntimeWarning: divide by zero encountered in true_divide\n",
      "  \"\"\"Entry point for launching an IPython kernel.\n"
     ]
    }
   ],
   "source": [
    "print(a / b)\n",
    "# У випадку ділення на нуль виникне попередження, а результатом буде константа inf - нескінченність"
   ]
  },
  {
   "cell_type": "code",
   "execution_count": 8,
   "metadata": {},
   "outputs": [
    {
     "name": "stdout",
     "output_type": "stream",
     "text": [
      "[     1     30   1600 125000]\n"
     ]
    }
   ],
   "source": [
    "print(a ** b)"
   ]
  },
  {
   "cell_type": "code",
   "execution_count": 9,
   "metadata": {},
   "outputs": [
    {
     "name": "stdout",
     "output_type": "stream",
     "text": [
      "[0 0 0 2]\n"
     ]
    },
    {
     "name": "stderr",
     "output_type": "stream",
     "text": [
      "C:\\Users\\drewmt\\anaconda3\\lib\\site-packages\\ipykernel_launcher.py:1: RuntimeWarning: divide by zero encountered in remainder\n",
      "  \"\"\"Entry point for launching an IPython kernel.\n"
     ]
    }
   ],
   "source": [
    "print(a % b)\n",
    "# остача від ділення на 0 буде дорівнювати 0"
   ]
  },
  {
   "cell_type": "markdown",
   "metadata": {},
   "source": [
    "Якщо розміри масивів будуть різними, виникне помилка."
   ]
  },
  {
   "cell_type": "code",
   "execution_count": 10,
   "metadata": {
    "tags": []
   },
   "outputs": [
    {
     "ename": "ValueError",
     "evalue": "operands could not be broadcast together with shapes (2,3) (3,2) ",
     "output_type": "error",
     "traceback": [
      "\u001b[1;31m---------------------------------------------------------------------------\u001b[0m",
      "\u001b[1;31mValueError\u001b[0m                                Traceback (most recent call last)",
      "\u001b[1;32m<ipython-input-10-05926d66d330>\u001b[0m in \u001b[0;36m<module>\u001b[1;34m\u001b[0m\n\u001b[0;32m      1\u001b[0m \u001b[0mc\u001b[0m \u001b[1;33m=\u001b[0m \u001b[0mnp\u001b[0m\u001b[1;33m.\u001b[0m\u001b[0marray\u001b[0m\u001b[1;33m(\u001b[0m\u001b[1;33m[\u001b[0m\u001b[1;33m[\u001b[0m\u001b[1;36m1\u001b[0m\u001b[1;33m,\u001b[0m \u001b[1;36m2\u001b[0m\u001b[1;33m,\u001b[0m \u001b[1;36m3\u001b[0m\u001b[1;33m]\u001b[0m\u001b[1;33m,\u001b[0m \u001b[1;33m[\u001b[0m\u001b[1;36m4\u001b[0m\u001b[1;33m,\u001b[0m \u001b[1;36m5\u001b[0m\u001b[1;33m,\u001b[0m \u001b[1;36m6\u001b[0m\u001b[1;33m]\u001b[0m\u001b[1;33m]\u001b[0m\u001b[1;33m)\u001b[0m\u001b[1;33m\u001b[0m\u001b[1;33m\u001b[0m\u001b[0m\n\u001b[0;32m      2\u001b[0m \u001b[0md\u001b[0m \u001b[1;33m=\u001b[0m \u001b[0mnp\u001b[0m\u001b[1;33m.\u001b[0m\u001b[0marray\u001b[0m\u001b[1;33m(\u001b[0m\u001b[1;33m[\u001b[0m\u001b[1;33m[\u001b[0m\u001b[1;36m1\u001b[0m\u001b[1;33m,\u001b[0m \u001b[1;36m2\u001b[0m\u001b[1;33m]\u001b[0m\u001b[1;33m,\u001b[0m \u001b[1;33m[\u001b[0m\u001b[1;36m3\u001b[0m\u001b[1;33m,\u001b[0m \u001b[1;36m4\u001b[0m\u001b[1;33m]\u001b[0m\u001b[1;33m,\u001b[0m \u001b[1;33m[\u001b[0m\u001b[1;36m5\u001b[0m\u001b[1;33m,\u001b[0m \u001b[1;36m6\u001b[0m\u001b[1;33m]\u001b[0m\u001b[1;33m]\u001b[0m\u001b[1;33m)\u001b[0m\u001b[1;33m\u001b[0m\u001b[1;33m\u001b[0m\u001b[0m\n\u001b[1;32m----> 3\u001b[1;33m \u001b[0mprint\u001b[0m\u001b[1;33m(\u001b[0m\u001b[0mc\u001b[0m \u001b[1;33m+\u001b[0m \u001b[0md\u001b[0m\u001b[1;33m)\u001b[0m\u001b[1;33m\u001b[0m\u001b[1;33m\u001b[0m\u001b[0m\n\u001b[0m",
      "\u001b[1;31mValueError\u001b[0m: operands could not be broadcast together with shapes (2,3) (3,2) "
     ]
    }
   ],
   "source": [
    "c = np.array([[1, 2, 3], [4, 5, 6]])\n",
    "d = np.array([[1, 2], [3, 4], [5, 6]])\n",
    "print(c + d)"
   ]
  },
  {
   "cell_type": "markdown",
   "metadata": {},
   "source": [
    "Можна виконувати поелементні операції із масивом та одним числом."
   ]
  },
  {
   "cell_type": "code",
   "execution_count": 12,
   "metadata": {},
   "outputs": [
    {
     "name": "stdout",
     "output_type": "stream",
     "text": [
      "[21 31 41 51]\n",
      "[  8000  27000  64000 125000]\n"
     ]
    }
   ],
   "source": [
    "print(a + 1)\n",
    "print(a ** 3)"
   ]
  },
  {
   "cell_type": "markdown",
   "metadata": {},
   "source": [
    "А також виконувати фільтрацію - результатом буде масив булевих значень."
   ]
  },
  {
   "cell_type": "code",
   "execution_count": 14,
   "metadata": {},
   "outputs": [
    {
     "name": "stdout",
     "output_type": "stream",
     "text": [
      "[ True  True False False]\n"
     ]
    }
   ],
   "source": [
    "print(a < 35)"
   ]
  },
  {
   "cell_type": "markdown",
   "metadata": {},
   "source": [
    "Доступна велика кількість математичних операцій для обробки масивів. Повний список за посиланням: https://docs.scipy.org/doc/numpy/reference/routines.math.html"
   ]
  },
  {
   "cell_type": "code",
   "execution_count": 16,
   "metadata": {},
   "outputs": [
    {
     "name": "stdout",
     "output_type": "stream",
     "text": [
      "[ 0.40808206  0.15425145 -0.66693806  0.96496603]\n"
     ]
    }
   ],
   "source": [
    "print(np.cos(a))"
   ]
  },
  {
   "cell_type": "code",
   "execution_count": 18,
   "metadata": {},
   "outputs": [
    {
     "name": "stdout",
     "output_type": "stream",
     "text": [
      "[ 2.23716094 -6.4053312  -1.11721493 -0.27190061]\n"
     ]
    }
   ],
   "source": [
    "print(np.tan(a))"
   ]
  },
  {
   "cell_type": "code",
   "execution_count": 19,
   "metadata": {},
   "outputs": [
    {
     "name": "stdout",
     "output_type": "stream",
     "text": [
      "[4.85165195e+08 1.06864746e+13 2.35385267e+17 5.18470553e+21]\n"
     ]
    }
   ],
   "source": [
    "print(np.exp(a))"
   ]
  },
  {
   "cell_type": "code",
   "execution_count": 5,
   "metadata": {},
   "outputs": [
    {
     "name": "stdout",
     "output_type": "stream",
     "text": [
      "[4.47213595 5.47722558 6.32455532 7.07106781]\n"
     ]
    }
   ],
   "source": [
    "print(np.sqrt(a))"
   ]
  },
  {
   "cell_type": "markdown",
   "metadata": {},
   "source": [
    "Доступні операції округлення:"
   ]
  },
  {
   "cell_type": "code",
   "execution_count": 29,
   "metadata": {},
   "outputs": [
    {
     "name": "stdout",
     "output_type": "stream",
     "text": [
      "[2. 1. 2.]\n",
      "[1. 1. 1.]\n",
      "[2. 2. 2.]\n"
     ]
    }
   ],
   "source": [
    "c = np.array([1.5, 1.33, 1.66])\n",
    "print(np.round_(c))\n",
    "print(np.floor(c))\n",
    "print(np.ceil(c))"
   ]
  },
  {
   "cell_type": "markdown",
   "metadata": {},
   "source": [
    "Багато операцій, таких як, наприклад, обчислення суми всіх елементів масиву, представлені також і у вигляді методів класу **ndarray**."
   ]
  },
  {
   "cell_type": "code",
   "execution_count": 30,
   "metadata": {},
   "outputs": [],
   "source": [
    "a = np.array([[1, 2, 3], [4, 5, 6]])"
   ]
  },
  {
   "cell_type": "code",
   "execution_count": 33,
   "metadata": {},
   "outputs": [
    {
     "name": "stdout",
     "output_type": "stream",
     "text": [
      "21\n",
      "21\n"
     ]
    }
   ],
   "source": [
    "print(np.sum(a))\n",
    "# Можна записати у вигляді виклику методу класу\n",
    "print(a.sum())"
   ]
  },
  {
   "cell_type": "code",
   "execution_count": 35,
   "metadata": {},
   "outputs": [
    {
     "name": "stdout",
     "output_type": "stream",
     "text": [
      "1\n",
      "6\n"
     ]
    }
   ],
   "source": [
    "# Знаходження мінімального та максимального елемента\n",
    "print(a.min())\n",
    "print(a.max())"
   ]
  },
  {
   "cell_type": "markdown",
   "metadata": {},
   "source": [
    "За замовчуванням, ці операції застосовуються до всього масиву, незалежно від його форми. Однак, вказавши параметр `axis`, можна застосувати операцію для зазначеної вісі масиву."
   ]
  },
  {
   "cell_type": "code",
   "execution_count": 37,
   "metadata": {},
   "outputs": [
    {
     "name": "stdout",
     "output_type": "stream",
     "text": [
      "[1 2 3]\n",
      "[1 4]\n"
     ]
    }
   ],
   "source": [
    "# Мінімальне число в кожному стовпці\n",
    "print(a.min(axis=0))\n",
    "# Мінімальне число в кожному рядку\n",
    "print(a.min(axis=1))"
   ]
  },
  {
   "cell_type": "markdown",
   "metadata": {
    "tags": []
   },
   "source": [
    "### <center>Індекси та зрізи"
   ]
  },
  {
   "cell_type": "markdown",
   "metadata": {},
   "source": [
    "В NumPy робота з індексами та зрізами масивів виконується так само, як і зі звичайними послідовностями у Python."
   ]
  },
  {
   "cell_type": "code",
   "execution_count": 6,
   "metadata": {},
   "outputs": [
    {
     "name": "stdout",
     "output_type": "stream",
     "text": [
      "[  0   1   8  27  64 125 216 343 512 729]\n"
     ]
    }
   ],
   "source": [
    "a = np.arange(10) ** 3\n",
    "print(a)"
   ]
  },
  {
   "cell_type": "code",
   "execution_count": 8,
   "metadata": {},
   "outputs": [
    {
     "name": "stdout",
     "output_type": "stream",
     "text": [
      "1\n",
      "[ 27  64 125 216]\n"
     ]
    }
   ],
   "source": [
    "print(a[1])\n",
    "print(a[3:7])"
   ]
  },
  {
   "cell_type": "code",
   "execution_count": 9,
   "metadata": {},
   "outputs": [
    {
     "name": "stdout",
     "output_type": "stream",
     "text": [
      "[  0   1   8   8   8   8   8 343 512 729]\n"
     ]
    }
   ],
   "source": [
    "a[3:7] = 8\n",
    "print(a)"
   ]
  },
  {
   "cell_type": "code",
   "execution_count": 10,
   "metadata": {},
   "outputs": [
    {
     "name": "stdout",
     "output_type": "stream",
     "text": [
      "[729 512 343   8   8   8   8   8   1   0]\n"
     ]
    }
   ],
   "source": [
    "print(a[::-1])"
   ]
  },
  {
   "cell_type": "markdown",
   "metadata": {},
   "source": [
    "Обхід масивів в циклах відбувається так само, як і для звичайних послідовностей у Python."
   ]
  },
  {
   "cell_type": "code",
   "execution_count": 12,
   "metadata": {},
   "outputs": [
    {
     "name": "stdout",
     "output_type": "stream",
     "text": [
      "0\n",
      "1\n",
      "64\n",
      "64\n",
      "64\n",
      "64\n",
      "64\n",
      "117649\n",
      "262144\n",
      "531441\n"
     ]
    }
   ],
   "source": [
    "for i in a:\n",
    "    print(i ** 2)"
   ]
  },
  {
   "cell_type": "markdown",
   "metadata": {},
   "source": [
    "У багатовимірних масивах кожній осі відповідає один індекс. Індекси передаються у вигляді послідовності чисел, розділених комами (тобто, кортежами)."
   ]
  },
  {
   "cell_type": "code",
   "execution_count": 13,
   "metadata": {},
   "outputs": [],
   "source": [
    "b = np.array([[  0, 1, 2, 3],\n",
    "            [10, 11, 12, 13],\n",
    "            [20, 21, 22, 23],\n",
    "            [30, 31, 32, 33],\n",
    "            [40, 41, 42, 43]])"
   ]
  },
  {
   "cell_type": "code",
   "execution_count": 15,
   "metadata": {},
   "outputs": [
    {
     "name": "stdout",
     "output_type": "stream",
     "text": [
      "23\n",
      "23\n"
     ]
    }
   ],
   "source": [
    "# Вивід елемента, який знаходиться у рядку з індексом 2 та стовпці з індексом 3 (пам'ятаємо, що нумерація починається з 0)\n",
    "print(b[2,3])\n",
    "# або у іншій формі запису\n",
    "print(b[2][3])"
   ]
  },
  {
   "cell_type": "code",
   "execution_count": 23,
   "metadata": {},
   "outputs": [
    {
     "name": "stdout",
     "output_type": "stream",
     "text": [
      "[ 2 12 22 32 42]\n"
     ]
    }
   ],
   "source": [
    "# Вивід стовпця з індексом 2\n",
    "print(b[:,2])"
   ]
  },
  {
   "cell_type": "code",
   "execution_count": 24,
   "metadata": {},
   "outputs": [
    {
     "name": "stdout",
     "output_type": "stream",
     "text": [
      "[[ 0  1  2  3]\n",
      " [10 11 12 13]]\n"
     ]
    }
   ],
   "source": [
    "# Вивід перших двох рядків\n",
    "print(b[:2])"
   ]
  },
  {
   "cell_type": "code",
   "execution_count": 25,
   "metadata": {},
   "outputs": [
    {
     "name": "stdout",
     "output_type": "stream",
     "text": [
      "[[10 11 12 13]\n",
      " [20 21 22 23]]\n"
     ]
    }
   ],
   "source": [
    "# Вивід рядків з індексами 1 та 2\n",
    "print(b[1:3, : : ])"
   ]
  },
  {
   "cell_type": "code",
   "execution_count": 26,
   "metadata": {},
   "outputs": [
    {
     "name": "stdout",
     "output_type": "stream",
     "text": [
      "[40 41 42 43]\n"
     ]
    }
   ],
   "source": [
    "# Вивід останнього рядка\n",
    "print(b[-1])"
   ]
  },
  {
   "cell_type": "markdown",
   "metadata": {},
   "source": [
    "`b[i]` можна читати як `b[i, <стільки символів ':', скільки потрібно>]`. В NumPy це також можна записати за допомогою крапок, у вигляді `b[i, ...]`."
   ]
  },
  {
   "cell_type": "markdown",
   "metadata": {},
   "source": [
    "Наприклад, якщо `x` має ранг 5 (тобто у нього 5 осей), тоді:\n",
    "\n",
    "- `x[1, 2, ...]` еквівалентно `x[1, 2, :, :, :]`,\n",
    "- `x[... , 3]` те саме, що `x[:, :, :, :, 3]`,\n",
    "- `x[4, ... , 5, :]` це `x[4, :, :, 5, :]`."
   ]
  },
  {
   "cell_type": "code",
   "execution_count": 27,
   "metadata": {},
   "outputs": [
    {
     "name": "stdout",
     "output_type": "stream",
     "text": [
      "[[[  0   1   2]\n",
      "  [ 10  12  13]]\n",
      "\n",
      " [[100 101 102]\n",
      "  [110 112 113]]]\n",
      "(2, 2, 3)\n"
     ]
    }
   ],
   "source": [
    "a = np.array(([[0, 1, 2], [10, 12, 13]], [[100, 101, 102], [110, 112, 113]]))\n",
    "print(a)\n",
    "print(a.shape)"
   ]
  },
  {
   "cell_type": "code",
   "execution_count": 30,
   "metadata": {},
   "outputs": [
    {
     "name": "stdout",
     "output_type": "stream",
     "text": [
      "[[100 101 102]\n",
      " [110 112 113]]\n"
     ]
    }
   ],
   "source": [
    "print(a[1, ...]) # те саме, що a[1, : , :] або a[1]"
   ]
  },
  {
   "cell_type": "markdown",
   "metadata": {},
   "source": [
    "Ітерування багатовимірних масивів починається з першої осі."
   ]
  },
  {
   "cell_type": "code",
   "execution_count": 31,
   "metadata": {},
   "outputs": [
    {
     "name": "stdout",
     "output_type": "stream",
     "text": [
      "[[ 0  1  2]\n",
      " [10 12 13]]\n",
      "[[100 101 102]\n",
      " [110 112 113]]\n"
     ]
    }
   ],
   "source": [
    "for row in a:\n",
    "    print(row)"
   ]
  },
  {
   "cell_type": "markdown",
   "metadata": {},
   "source": [
    "Однак, якщо потрібно перебрати поелементно весь масив, ніби він є одновимірним, для цього можна використовувати атрибут `flat`:"
   ]
  },
  {
   "cell_type": "code",
   "execution_count": 32,
   "metadata": {},
   "outputs": [
    {
     "name": "stdout",
     "output_type": "stream",
     "text": [
      "0\n",
      "1\n",
      "2\n",
      "10\n",
      "12\n",
      "13\n",
      "100\n",
      "101\n",
      "102\n",
      "110\n",
      "112\n",
      "113\n"
     ]
    }
   ],
   "source": [
    "for el in a.flat:\n",
    "    print(el)"
   ]
  },
  {
   "cell_type": "markdown",
   "metadata": {},
   "source": [
    "### <center>Операції з формою масивів"
   ]
  },
  {
   "cell_type": "markdown",
   "metadata": {},
   "source": [
    "Як вже було сказано, масив має форму (`shape`), яка визначається числом елементів вздовж кожної осі."
   ]
  },
  {
   "cell_type": "code",
   "execution_count": 33,
   "metadata": {},
   "outputs": [
    {
     "name": "stdout",
     "output_type": "stream",
     "text": [
      "[[[  0   1   2]\n",
      "  [ 10  12  13]]\n",
      "\n",
      " [[100 101 102]\n",
      "  [110 112 113]]]\n",
      "(2, 2, 3)\n"
     ]
    }
   ],
   "source": [
    "print(a)\n",
    "print(a.shape)"
   ]
  },
  {
   "cell_type": "markdown",
   "metadata": {},
   "source": [
    "Форма масиву може бути змінена за допомогою різних команд."
   ]
  },
  {
   "cell_type": "code",
   "execution_count": 35,
   "metadata": {},
   "outputs": [
    {
     "name": "stdout",
     "output_type": "stream",
     "text": [
      "[  0   1   2  10  12  13 100 101 102 110 112 113]\n"
     ]
    }
   ],
   "source": [
    "# Зробити масив плоским\n",
    "print(a.ravel())"
   ]
  },
  {
   "cell_type": "code",
   "execution_count": 36,
   "metadata": {},
   "outputs": [
    {
     "name": "stdout",
     "output_type": "stream",
     "text": [
      "[[  0   1]\n",
      " [  2  10]\n",
      " [ 12  13]\n",
      " [100 101]\n",
      " [102 110]\n",
      " [112 113]]\n"
     ]
    }
   ],
   "source": [
    "# Змінити форму масиву (початковий масив змінюється)\n",
    "a.shape = (6, 2)\n",
    "print(a)"
   ]
  },
  {
   "cell_type": "code",
   "execution_count": 42,
   "metadata": {},
   "outputs": [
    {
     "name": "stdout",
     "output_type": "stream",
     "text": [
      "[[  0   2  12 100 102 112]\n",
      " [  1  10  13 101 110 113]]\n"
     ]
    }
   ],
   "source": [
    "# Транспонування\n",
    "print(a.T)"
   ]
  },
  {
   "cell_type": "code",
   "execution_count": 46,
   "metadata": {},
   "outputs": [
    {
     "name": "stdout",
     "output_type": "stream",
     "text": [
      "[[  0   1   2  10]\n",
      " [ 12  13 100 101]\n",
      " [102 110 112 113]]\n"
     ]
    }
   ],
   "source": [
    "# Зміна форми (початковий масив не змінєються)\n",
    "print(a.reshape((3, 4)))"
   ]
  },
  {
   "cell_type": "code",
   "execution_count": 49,
   "metadata": {},
   "outputs": [
    {
     "name": "stdout",
     "output_type": "stream",
     "text": [
      "[[  0   1   2  10  12  13]\n",
      " [100 101 102 110 112 113]]\n"
     ]
    }
   ],
   "source": [
    "# Зміна форми (початковий масив змінюється)\n",
    "a.resize((2, 6))\n",
    "print(a)"
   ]
  },
  {
   "cell_type": "markdown",
   "metadata": {},
   "source": [
    "### <center>Об'єднання масивів"
   ]
  },
  {
   "cell_type": "markdown",
   "metadata": {},
   "source": [
    "Декілька масивів можуть бути об'єднані в один уздовж різних осей за допомогою функцій `hstack()` і `vstack()`.\n",
    "- `hstack()` об'єднує масиви за першими осями, `vstack()` - за останніми."
   ]
  },
  {
   "cell_type": "code",
   "execution_count": 54,
   "metadata": {},
   "outputs": [
    {
     "name": "stdout",
     "output_type": "stream",
     "text": [
      "[[1 2]\n",
      " [3 4]]\n",
      "\n",
      "[[5 6]\n",
      " [7 8]]\n"
     ]
    }
   ],
   "source": [
    "a = np.array([[1, 2], [3, 4]])\n",
    "b = np.array([[5, 6], [7, 8]])\n",
    "\n",
    "print(a)\n",
    "print()\n",
    "print(b)"
   ]
  },
  {
   "cell_type": "code",
   "execution_count": 52,
   "metadata": {},
   "outputs": [
    {
     "name": "stdout",
     "output_type": "stream",
     "text": [
      "[[1 2]\n",
      " [3 4]\n",
      " [5 6]\n",
      " [7 8]]\n"
     ]
    }
   ],
   "source": [
    "print(np.vstack((a, b)))"
   ]
  },
  {
   "cell_type": "code",
   "execution_count": 51,
   "metadata": {},
   "outputs": [
    {
     "name": "stdout",
     "output_type": "stream",
     "text": [
      "[[1 2 5 6]\n",
      " [3 4 7 8]]\n"
     ]
    }
   ],
   "source": [
    "print(np.hstack((a, b)))"
   ]
  },
  {
   "cell_type": "markdown",
   "metadata": {},
   "source": [
    "Функція `column_stack()` об'єднує одномірні масиви як стовпці двовимірного масиву. Для рядкыв аналогічна функція -  `row_stack()`."
   ]
  },
  {
   "cell_type": "code",
   "execution_count": 55,
   "metadata": {},
   "outputs": [
    {
     "name": "stdout",
     "output_type": "stream",
     "text": [
      "[[1 2 5 6]\n",
      " [3 4 7 8]]\n"
     ]
    }
   ],
   "source": [
    "print(np.column_stack((a, b)))"
   ]
  },
  {
   "cell_type": "code",
   "execution_count": 56,
   "metadata": {},
   "outputs": [
    {
     "name": "stdout",
     "output_type": "stream",
     "text": [
      "[[1 2]\n",
      " [3 4]\n",
      " [5 6]\n",
      " [7 8]]\n"
     ]
    }
   ],
   "source": [
    "print(np.row_stack((a, b)))"
   ]
  },
  {
   "cell_type": "markdown",
   "metadata": {},
   "source": [
    "### <center>Розбиття масивів"
   ]
  },
  {
   "cell_type": "markdown",
   "metadata": {},
   "source": [
    "Для розбиття масивів на частини використовуються функції:\n",
    "- `hsplit()` - розбити масив вздовж горизонтальної вісі, вказавши або число необхідних масивів однакової форми, або номери стовпців, після яких масив розрізається;\n",
    "- `vsplit()` - те саме, але за вертикальною віссю;\n",
    "- `array_split()` - те саме, але можна вказати вісі, за якими виконуватиметься розбиття."
   ]
  },
  {
   "cell_type": "code",
   "execution_count": 58,
   "metadata": {},
   "outputs": [
    {
     "name": "stdout",
     "output_type": "stream",
     "text": [
      "[[ 0  1  2  3  4  5]\n",
      " [ 6  7  8  9 10 11]]\n"
     ]
    }
   ],
   "source": [
    "a = np.arange(12).reshape((2, 6))\n",
    "print(a)"
   ]
  },
  {
   "cell_type": "code",
   "execution_count": 59,
   "metadata": {},
   "outputs": [
    {
     "name": "stdout",
     "output_type": "stream",
     "text": [
      "[array([[0, 1],\n",
      "       [6, 7]]), array([[2, 3],\n",
      "       [8, 9]]), array([[ 4,  5],\n",
      "       [10, 11]])]\n"
     ]
    }
   ],
   "source": [
    "# Розбити масив на 3 однакові частини за горизонтальною віссю\n",
    "print(np.hsplit(a, 3))"
   ]
  },
  {
   "cell_type": "code",
   "execution_count": 60,
   "metadata": {},
   "outputs": [
    {
     "name": "stdout",
     "output_type": "stream",
     "text": [
      "[array([[0, 1, 2],\n",
      "       [6, 7, 8]]), array([[3],\n",
      "       [9]]), array([[ 4,  5],\n",
      "       [10, 11]])]\n"
     ]
    }
   ],
   "source": [
    "# Розрізати масив після 3 та 4 стовпця\n",
    "print(np.hsplit(a, (3, 4)))"
   ]
  },
  {
   "cell_type": "markdown",
   "metadata": {},
   "source": [
    "### <center>Копії масивів"
   ]
  },
  {
   "cell_type": "markdown",
   "metadata": {},
   "source": [
    "Під час роботи з масивами, їх дані іноді необхідно копіювати в інший масив, а іноді непотрібно. Це часто є джерелом плутанини. Можливо 3 випадки:"
   ]
  },
  {
   "cell_type": "markdown",
   "metadata": {},
   "source": [
    "- Не створювати копій - просте присвоювання не створює ні копії масиву, ні копії його даних. Python передає змінювані об'єкти як посилання, тому виклики функцій також не створюють копій."
   ]
  },
  {
   "cell_type": "code",
   "execution_count": 75,
   "metadata": {},
   "outputs": [
    {
     "name": "stdout",
     "output_type": "stream",
     "text": [
      "True\n"
     ]
    }
   ],
   "source": [
    "a = np.arange(12)\n",
    "b = a\n",
    "# Новий об'єкт не створено, a и b це два імені для одного и того самого об'єкта ndarray\n",
    "print(b is a)"
   ]
  },
  {
   "cell_type": "code",
   "execution_count": 76,
   "metadata": {},
   "outputs": [
    {
     "name": "stdout",
     "output_type": "stream",
     "text": [
      "(3, 4)\n"
     ]
    }
   ],
   "source": [
    "# Операції над b будуть змінювати a\n",
    "b.shape = (3,4)\n",
    "print(a.shape)"
   ]
  },
  {
   "cell_type": "markdown",
   "metadata": {},
   "source": [
    "- Поверхнева копія - різні об'єкти масивів можуть використовувати одні і ті ж дані."
   ]
  },
  {
   "cell_type": "code",
   "execution_count": 78,
   "metadata": {},
   "outputs": [
    {
     "name": "stdout",
     "output_type": "stream",
     "text": [
      "(3, 4)\n"
     ]
    }
   ],
   "source": [
    "c = a[:]\n",
    "c.shape = (2,6)\n",
    "# Форма а не зміниться\n",
    "print(a.shape)"
   ]
  },
  {
   "cell_type": "code",
   "execution_count": 81,
   "metadata": {},
   "outputs": [
    {
     "name": "stdout",
     "output_type": "stream",
     "text": [
      "[[   0    1    2    3]\n",
      " [1234    5    6    7]\n",
      " [   8    9   10   11]]\n"
     ]
    }
   ],
   "source": [
    "c[0,4] = 1234\n",
    "# Але дані а зміняться, оскільки об'єкт а та об'єкт с використовують одні і ті самі дані\n",
    "print(a)"
   ]
  },
  {
   "cell_type": "markdown",
   "metadata": {},
   "source": [
    "- Глибока копія - метод `copy()` створить справжню копію масиву і його даних."
   ]
  },
  {
   "cell_type": "code",
   "execution_count": 90,
   "metadata": {},
   "outputs": [
    {
     "name": "stdout",
     "output_type": "stream",
     "text": [
      "False\n",
      "[[   0    1    2    3]\n",
      " [1234    5    6    7]\n",
      " [   8    9   10   11]]\n",
      "\n",
      "[[9999    1    2    3]\n",
      " [1234    5    6    7]\n",
      " [   8    9   10   11]]\n"
     ]
    }
   ],
   "source": [
    "d = a.copy()\n",
    "# Створуюється новий об'єкт масиву з новими даними\n",
    "print(d is a)\n",
    "\n",
    "d[0, 0] = 9999\n",
    "print(a, end=\"\\n\\n\")\n",
    "print(d)"
   ]
  },
  {
   "cell_type": "markdown",
   "metadata": {},
   "source": [
    "### <center>Випадкові числа в NumPy"
   ]
  },
  {
   "cell_type": "markdown",
   "metadata": {},
   "source": [
    "Для створення масивів з випадковими елементами слугує модуль **numpy.random**."
   ]
  },
  {
   "cell_type": "markdown",
   "metadata": {},
   "source": [
    "Найпростіший спосіб створити масив з випадковими елементами - використати функцію `sample()` (або `random()`, або `random_sample()`, або `ranf()` - це все одна і та сама функція). Без аргументів функція повертає просто число в проміжку [0, 1), з одним цілим числом - одновимірний масив, з кортежем - масив з розмірами, зазначеними в кортежі (всі числа - з проміжку [0, 1))."
   ]
  },
  {
   "cell_type": "code",
   "execution_count": 93,
   "metadata": {},
   "outputs": [
    {
     "name": "stdout",
     "output_type": "stream",
     "text": [
      "0.796677505574175\n"
     ]
    }
   ],
   "source": [
    "print(np.random.sample())"
   ]
  },
  {
   "cell_type": "code",
   "execution_count": 95,
   "metadata": {},
   "outputs": [
    {
     "name": "stdout",
     "output_type": "stream",
     "text": [
      "[0.75806689 0.34536049 0.39875985]\n"
     ]
    }
   ],
   "source": [
    "print(np.random.sample(3))"
   ]
  },
  {
   "cell_type": "code",
   "execution_count": 98,
   "metadata": {},
   "outputs": [
    {
     "name": "stdout",
     "output_type": "stream",
     "text": [
      "[[0.23356935 0.02325331 0.26080774]\n",
      " [0.63107246 0.19727944 0.6451033 ]]\n"
     ]
    }
   ],
   "source": [
    "print(np.random.sample((2, 3)))"
   ]
  },
  {
   "cell_type": "markdown",
   "metadata": {},
   "source": [
    "За допомогою функції `randint()` можна створити масив з цілих чисел. Аргументи: `low, high, size`: від якого, до якого числа (не включно) і розміри масиву."
   ]
  },
  {
   "cell_type": "code",
   "execution_count": 103,
   "metadata": {},
   "outputs": [
    {
     "name": "stdout",
     "output_type": "stream",
     "text": [
      "[2 0 0 1 0 2 2 0 2 0]\n"
     ]
    }
   ],
   "source": [
    "print(np.random.randint(0, 3, 10))"
   ]
  },
  {
   "cell_type": "code",
   "execution_count": 104,
   "metadata": {},
   "outputs": [
    {
     "name": "stdout",
     "output_type": "stream",
     "text": [
      "[[1 1 1 1 2 1 2 0 0 1]\n",
      " [1 0 2 2 0 2 2 0 0 0]]\n"
     ]
    }
   ],
   "source": [
    "print(np.random.randint(0, 3, (2, 10)))"
   ]
  },
  {
   "cell_type": "markdown",
   "metadata": {},
   "source": [
    "Функція `shuffle()` - перемішати масив."
   ]
  },
  {
   "cell_type": "code",
   "execution_count": 108,
   "metadata": {},
   "outputs": [
    {
     "name": "stdout",
     "output_type": "stream",
     "text": [
      "[0 1 2 3 4 5 6 7 8 9]\n",
      "[4 3 1 5 9 6 0 8 2 7]\n"
     ]
    }
   ],
   "source": [
    "a = np.arange(10)\n",
    "print(a)\n",
    "np.random.shuffle(a)\n",
    "print(a)"
   ]
  },
  {
   "cell_type": "markdown",
   "metadata": {},
   "source": [
    "Функція `choice()` - зробити випадкову вибірку елементів з масиву. Повний синтаксис: `numpy.random.choice(a, size=None, replace=True, p=None)`.\n",
    "- `a`: одновимірний масив або число. Якщо це масив, буде здійснюватися вибірка з нього. Якщо число, то вибірка буде робитись з `np.arange(a)`.\n",
    "- `size`: розмірність масиву. Якщо `None`, повертається одне значення.\n",
    "- `replace`: якщо `True`, то одне значення може вибиратися більш ніж один раз.\n",
    "- `p`: ймовірності. Це означає, що елементи можна вибирати з нерівним шансом. Якщо не задані, використовується рівномірний розподіл."
   ]
  },
  {
   "cell_type": "code",
   "execution_count": 114,
   "metadata": {},
   "outputs": [
    {
     "name": "stdout",
     "output_type": "stream",
     "text": [
      "[0 1 2 3 4]\n",
      "[2 0 0 0 0]\n"
     ]
    }
   ],
   "source": [
    "a = np.arange(5)\n",
    "print(a)\n",
    "\n",
    "print(np.random.choice(a, 5, p=[0.5, 0.25, 0.25, 0, 0]))"
   ]
  },
  {
   "cell_type": "code",
   "execution_count": 125,
   "metadata": {},
   "outputs": [
    {
     "name": "stdout",
     "output_type": "stream",
     "text": [
      "[1]\n"
     ]
    }
   ],
   "source": [
    "# Рандомне ціле число (0 або 1). Ймовірність, що випаде 0 становить 75%, що випаде 1 - 25%\n",
    "print(np.random.choice(2, 1, p=[0.75, 0.25]))"
   ]
  },
  {
   "cell_type": "markdown",
   "metadata": {},
   "source": [
    "### <center>Операції лінійної алгебри"
   ]
  },
  {
   "cell_type": "markdown",
   "metadata": {},
   "source": [
    "Перелік деяких функцій, які реалізують корисні операції лінійної алгебри. Повний список у документації - https://numpy.org/doc/stable/reference/routines.linalg.html"
   ]
  },
  {
   "cell_type": "markdown",
   "metadata": {},
   "source": [
    "- `linalg.matrix_power(M, n)` - підносить матрицю до степені n.\n",
    "- `linalg.det(a)` - визначник матриці.\n",
    "- `linalg.solve(a, b)` - вирішує систему лінійних рівнянь Ax = b.\n",
    "- `linalg.inv(a)` - зворотня матрица."
   ]
  },
  {
   "cell_type": "markdown",
   "metadata": {},
   "source": [
    "### <center>Задачі"
   ]
  },
  {
   "cell_type": "markdown",
   "metadata": {},
   "source": [
    "<u>**Задача 1**</u><br>\n",
    "Створити вектор розміром 10 елементів, заповнений нулями, але п'ятий елемент дорівнює 1."
   ]
  },
  {
   "cell_type": "code",
   "execution_count": 4,
   "metadata": {},
   "outputs": [
    {
     "name": "stdout",
     "output_type": "stream",
     "text": [
      "[0. 0. 0. 0. 1. 0. 0. 0. 0. 0.]\n"
     ]
    }
   ],
   "source": [
    "a = np.zeros(10)\n",
    "a[4] = 1\n",
    "print(a)"
   ]
  },
  {
   "cell_type": "markdown",
   "metadata": {},
   "source": [
    "<u>**Задача 2**</u><br>\n",
    "Створити вектор з 50 елементів та перегорнути його навпаки (останній елемент стає першим)."
   ]
  },
  {
   "cell_type": "code",
   "execution_count": 5,
   "metadata": {},
   "outputs": [],
   "source": [
    "a = np.arange(50)\n",
    "a = a[::-1]"
   ]
  },
  {
   "cell_type": "markdown",
   "metadata": {},
   "source": [
    "<u>**Задача 3**</u><br>\n",
    "Створити одиничну матрицю розміром 3х3."
   ]
  },
  {
   "cell_type": "code",
   "execution_count": 6,
   "metadata": {},
   "outputs": [
    {
     "name": "stdout",
     "output_type": "stream",
     "text": [
      "[[1. 0. 0.]\n",
      " [0. 1. 0.]\n",
      " [0. 0. 1.]]\n"
     ]
    }
   ],
   "source": [
    "A = np.eye(3)\n",
    "print(A)"
   ]
  },
  {
   "cell_type": "markdown",
   "metadata": {},
   "source": [
    "<u>**Задача 4**</u><br>\n",
    "З довільного вектора-рядка створити прямокутну матрицю."
   ]
  },
  {
   "cell_type": "code",
   "execution_count": 8,
   "metadata": {},
   "outputs": [
    {
     "name": "stdout",
     "output_type": "stream",
     "text": [
      "[[ 0  1  2  3  4]\n",
      " [ 5  6  7  8  9]\n",
      " [10 11 12 13 14]]\n"
     ]
    }
   ],
   "source": [
    "B=np.arange(15).reshape((3, 5))\n",
    "print(B)"
   ]
  },
  {
   "cell_type": "markdown",
   "metadata": {},
   "source": [
    "<u>**Задача 5**</u><br>\n",
    "Створити масив 10x10 з випадковими значеннями, знайти мінімум і максимум."
   ]
  },
  {
   "cell_type": "code",
   "execution_count": 9,
   "metadata": {},
   "outputs": [
    {
     "name": "stdout",
     "output_type": "stream",
     "text": [
      "0.00533382667282023 0.9940312484980904\n"
     ]
    }
   ],
   "source": [
    "A = np.random.random((10,10))\n",
    "Amin, Amax = A.min(), A.max()\n",
    "print(Amin, Amax)"
   ]
  },
  {
   "cell_type": "markdown",
   "metadata": {},
   "source": [
    "<u>**Задача 6**</u><br>\n",
    "Створити матрицю з 0 всередині, і 1 на границях."
   ]
  },
  {
   "cell_type": "code",
   "execution_count": 12,
   "metadata": {},
   "outputs": [
    {
     "name": "stdout",
     "output_type": "stream",
     "text": [
      "[[1. 1. 1. 1. 1.]\n",
      " [1. 0. 0. 0. 1.]\n",
      " [1. 0. 0. 0. 1.]\n",
      " [1. 0. 0. 0. 1.]\n",
      " [1. 1. 1. 1. 1.]]\n"
     ]
    }
   ],
   "source": [
    "A = np.ones((5,5))\n",
    "A[1:-1,1:-1] = 0\n",
    "print(A)"
   ]
  },
  {
   "cell_type": "markdown",
   "metadata": {},
   "source": [
    "<u>**Задача 7**</u><br>\n",
    "Створити вектор розміром 10 елементів зі значеннями від 0 до 1 (не включаючи ні 0, ні 1)"
   ]
  },
  {
   "cell_type": "code",
   "execution_count": 14,
   "metadata": {},
   "outputs": [
    {
     "name": "stdout",
     "output_type": "stream",
     "text": [
      "[0.09090909 0.18181818 0.27272727 0.36363636 0.45454545 0.54545455\n",
      " 0.63636364 0.72727273 0.81818182 0.90909091]\n"
     ]
    }
   ],
   "source": [
    "A = np.linspace(0,1,12)[1:-1]\n",
    "print(A)"
   ]
  },
  {
   "cell_type": "markdown",
   "metadata": {},
   "source": [
    "<u>**Задача 8**</u><br>\n",
    "Відсортувати довільний вектор за зростанням."
   ]
  },
  {
   "cell_type": "code",
   "execution_count": 16,
   "metadata": {},
   "outputs": [
    {
     "name": "stdout",
     "output_type": "stream",
     "text": [
      "[0.01936862 0.09203894 0.10342925 0.21492276 0.29684408 0.35378089\n",
      " 0.57060986 0.67603771 0.69376457 0.99818305]\n"
     ]
    }
   ],
   "source": [
    "A = np.random.random(10)\n",
    "A.sort()\n",
    "print(A)"
   ]
  },
  {
   "cell_type": "markdown",
   "metadata": {},
   "source": [
    "<u>**Задача 9**</u><br>\n",
    "Створити програму для введення двовимірного масиву з клавіатури."
   ]
  },
  {
   "cell_type": "code",
   "execution_count": 18,
   "metadata": {
    "tags": []
   },
   "outputs": [
    {
     "name": "stdin",
     "output_type": "stream",
     "text": [
      "Кількість рядків:  3\n",
      "Кількість стовпців:  3\n"
     ]
    },
    {
     "name": "stdout",
     "output_type": "stream",
     "text": [
      "Елемент матриці [ 0 ][ 0 ]\n"
     ]
    },
    {
     "name": "stdin",
     "output_type": "stream",
     "text": [
      "Введіть елемент:  1\n"
     ]
    },
    {
     "name": "stdout",
     "output_type": "stream",
     "text": [
      "Елемент матриці [ 0 ][ 1 ]\n"
     ]
    },
    {
     "name": "stdin",
     "output_type": "stream",
     "text": [
      "Введіть елемент:  2\n"
     ]
    },
    {
     "name": "stdout",
     "output_type": "stream",
     "text": [
      "Елемент матриці [ 0 ][ 2 ]\n"
     ]
    },
    {
     "name": "stdin",
     "output_type": "stream",
     "text": [
      "Введіть елемент:  3\n"
     ]
    },
    {
     "name": "stdout",
     "output_type": "stream",
     "text": [
      "Елемент матриці [ 1 ][ 0 ]\n"
     ]
    },
    {
     "name": "stdin",
     "output_type": "stream",
     "text": [
      "Введіть елемент:  4\n"
     ]
    },
    {
     "name": "stdout",
     "output_type": "stream",
     "text": [
      "Елемент матриці [ 1 ][ 1 ]\n"
     ]
    },
    {
     "name": "stdin",
     "output_type": "stream",
     "text": [
      "Введіть елемент:  5\n"
     ]
    },
    {
     "name": "stdout",
     "output_type": "stream",
     "text": [
      "Елемент матриці [ 1 ][ 2 ]\n"
     ]
    },
    {
     "name": "stdin",
     "output_type": "stream",
     "text": [
      "Введіть елемент:  6\n"
     ]
    },
    {
     "name": "stdout",
     "output_type": "stream",
     "text": [
      "Елемент матриці [ 2 ][ 0 ]\n"
     ]
    },
    {
     "name": "stdin",
     "output_type": "stream",
     "text": [
      "Введіть елемент:  7\n"
     ]
    },
    {
     "name": "stdout",
     "output_type": "stream",
     "text": [
      "Елемент матриці [ 2 ][ 1 ]\n"
     ]
    },
    {
     "name": "stdin",
     "output_type": "stream",
     "text": [
      "Введіть елемент:  8\n"
     ]
    },
    {
     "name": "stdout",
     "output_type": "stream",
     "text": [
      "Елемент матриці [ 2 ][ 2 ]\n"
     ]
    },
    {
     "name": "stdin",
     "output_type": "stream",
     "text": [
      "Введіть елемент:  9\n"
     ]
    },
    {
     "name": "stdout",
     "output_type": "stream",
     "text": [
      "\n",
      "Введена така матриця:\n",
      "[[1. 2. 3.]\n",
      " [4. 5. 6.]\n",
      " [7. 8. 9.]]\n"
     ]
    }
   ],
   "source": [
    "n = int(input('Кількість рядків: '))\n",
    "m = int(input('Кількість стовпців: '))\n",
    "# Створюємо нульову матрицю\n",
    "a = np.zeros([n,m])  \n",
    "# Заповнюємо матрицю\n",
    "for i in range(n):\n",
    "    for j in range(m):\n",
    "        print ('Елемент матриці [',i,'][',j,']')\n",
    "        a[i,j] = input('Введіть елемент: ')\n",
    "print()\n",
    "# Виводимо матрицю\n",
    "print ('Введена така матриця:')\n",
    "print(a)"
   ]
  },
  {
   "cell_type": "markdown",
   "metadata": {},
   "source": [
    "<u>**Задача 10**</u><br>\n",
    "Необхідно знайти середнє арифметичне елементів масиву А, розмірністю N рядків і М стовпців."
   ]
  },
  {
   "cell_type": "code",
   "execution_count": 20,
   "metadata": {
    "tags": []
   },
   "outputs": [
    {
     "name": "stdin",
     "output_type": "stream",
     "text": [
      "Кількість рядків:  2\n",
      "Кількість стовпців:  2\n"
     ]
    },
    {
     "name": "stdout",
     "output_type": "stream",
     "text": [
      "Елемент матриці [ 0 ][ 0 ]\n"
     ]
    },
    {
     "name": "stdin",
     "output_type": "stream",
     "text": [
      "Введіть елемент:  1\n"
     ]
    },
    {
     "name": "stdout",
     "output_type": "stream",
     "text": [
      "Елемент матриці [ 0 ][ 1 ]\n"
     ]
    },
    {
     "name": "stdin",
     "output_type": "stream",
     "text": [
      "Введіть елемент:  2\n"
     ]
    },
    {
     "name": "stdout",
     "output_type": "stream",
     "text": [
      "Елемент матриці [ 1 ][ 0 ]\n"
     ]
    },
    {
     "name": "stdin",
     "output_type": "stream",
     "text": [
      "Введіть елемент:  3\n"
     ]
    },
    {
     "name": "stdout",
     "output_type": "stream",
     "text": [
      "Елемент матриці [ 1 ][ 1 ]\n"
     ]
    },
    {
     "name": "stdin",
     "output_type": "stream",
     "text": [
      "Введіть елемент:  4\n"
     ]
    },
    {
     "name": "stdout",
     "output_type": "stream",
     "text": [
      "\n",
      "Введена така матриця:\n",
      "[[1. 2.]\n",
      " [3. 4.]]\n",
      "\n",
      "Середнє значення елементів матриці: 2.5\n"
     ]
    }
   ],
   "source": [
    "n = int(input('Кількість рядків: '))\n",
    "m = int(input('Кількість стовпців: '))\n",
    "S = 0.0\n",
    "a = np.zeros([n,m])\n",
    "for i in range(n):\n",
    "    for j in range(m):\n",
    "        print ('Елемент матриці [',i,'][',j,']')\n",
    "        a[i,j] = input('Введіть елемент: ')\n",
    "        S += a[i,j]\n",
    "K = n * m\n",
    "C = S / K\n",
    "print()\n",
    "print ('Введена така матриця:')\n",
    "print(a)\n",
    "print()\n",
    "print ('Середнє значення елементів матриці:',C)"
   ]
  },
  {
   "cell_type": "markdown",
   "metadata": {},
   "source": [
    "<u>**Задача 11**</u><br>\n",
    "З двох масивів зробити матрицю Коші C та знайти її визначник. (Cij = 1 / (xi - yj))"
   ]
  },
  {
   "cell_type": "code",
   "execution_count": 22,
   "metadata": {},
   "outputs": [
    {
     "name": "stdout",
     "output_type": "stream",
     "text": [
      "3638.1636371179666\n"
     ]
    }
   ],
   "source": [
    "X = np.arange(8)\n",
    "Y = X + 0.5\n",
    "C = 1.0 / np.subtract.outer(X, Y)\n",
    "print(np.linalg.det(C))"
   ]
  },
  {
   "cell_type": "markdown",
   "metadata": {},
   "source": [
    "<u>**Задача 12**</u><br>\n",
    "Знайти найближче до заданого значення число в заданому масиві."
   ]
  },
  {
   "cell_type": "code",
   "execution_count": 31,
   "metadata": {},
   "outputs": [
    {
     "name": "stdout",
     "output_type": "stream",
     "text": [
      "11\n"
     ]
    }
   ],
   "source": [
    "A = np.arange(50)\n",
    "v = 10.6\n",
    "index = (np.abs(A-v)).argmin()\n",
    "print(A[index])"
   ]
  },
  {
   "cell_type": "markdown",
   "metadata": {},
   "source": [
    "<u>**Задача 13**</u><br>\n",
    "Відняти середнє з кожного рядка в матриці."
   ]
  },
  {
   "cell_type": "code",
   "execution_count": 38,
   "metadata": {},
   "outputs": [
    {
     "name": "stdout",
     "output_type": "stream",
     "text": [
      "[[0.31664045 0.13126718 0.63687495]\n",
      " [0.52153737 0.08639389 0.60031557]]\n",
      "\n",
      "[[-0.04495375 -0.23032701  0.27528076]\n",
      " [ 0.11878843 -0.31635505  0.19756663]]\n"
     ]
    }
   ],
   "source": [
    "X = np.random.rand(2, 3)\n",
    "print(X, end = \"\\n\\n\")\n",
    "Y = X - X.mean(axis=1, keepdims=True)\n",
    "print(Y)"
   ]
  },
  {
   "cell_type": "markdown",
   "metadata": {},
   "source": [
    "<u>**Задача 14**</u><br>\n",
    "Дано чотиривимірний масив, порахувати суму за останніми двома осями."
   ]
  },
  {
   "cell_type": "code",
   "execution_count": 39,
   "metadata": {},
   "outputs": [
    {
     "name": "stdout",
     "output_type": "stream",
     "text": [
      "[[66 50 46 49]\n",
      " [46 44 47 67]\n",
      " [51 60 66 39]]\n"
     ]
    }
   ],
   "source": [
    "A = np.random.randint(0,10, (3,4,3,4))\n",
    "sum = A.reshape(A.shape[:-2] + (-1,)).sum(axis=-1)\n",
    "print(sum)"
   ]
  }
 ],
 "metadata": {
  "kernelspec": {
   "display_name": "Python 3 (ipykernel)",
   "language": "python",
   "name": "python3"
  },
  "language_info": {
   "codemirror_mode": {
    "name": "ipython",
    "version": 3
   },
   "file_extension": ".py",
   "mimetype": "text/x-python",
   "name": "python",
   "nbconvert_exporter": "python",
   "pygments_lexer": "ipython3",
   "version": "3.7.0"
  }
 },
 "nbformat": 4,
 "nbformat_minor": 4
}
