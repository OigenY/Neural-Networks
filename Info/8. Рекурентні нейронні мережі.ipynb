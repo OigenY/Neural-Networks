{
 "cells": [
  {
   "cell_type": "markdown",
   "metadata": {},
   "source": [
    "# <center>Тема 8\n",
    "## <center>Рекурентні нейронні мережі"
   ]
  },
  {
   "cell_type": "markdown",
   "metadata": {},
   "source": [
    "### <center>Загальні відомості"
   ]
  },
  {
   "cell_type": "markdown",
   "metadata": {},
   "source": [
    "Нейронні мережі прямого розповсюдження є досить ефективними моделями в завданнях аналізу часових послідовностей. Однак, суттєвим недоліком є те, що в такому випадку кожен елемент послідовності аналізується мережею окремо. Іншими словами, нейронна мережа приймає рішення на основі аналізу сукупності вхідних елементів, які ніяк між собою не пов'язані. Це призводить до втрати взаємозв'язків між елементами послідовностей, що є неприпустими у ряді випадків. Наприклад, найпростішою часовою послідовністю є текст. У тексті всі слова пов'язані між собою певним семантичним змістом. Кожне речення є не просто невпорядкованим набором слів, а складає певну цілісну змістовну конструкцію, яка дозволяє нам зрозуміти думку, що передає цей текст. Тому виникає необхідність у застосуванні таких архітектур нейронних мереж, які будуть враховувати порядок слідування елементів у послідовності. Це дозволяє зберегти характер взаємозв'язків між вхідними даними і значно покращує результат аналізу часових послідовностей.\n",
    "\n",
    "Найбільш ефективною на сьогоднішній день архітектурою нейронних мереж для аналізу послідовностей є рекурентні нейронні мережі (Recurrent Neural Networks, RNN). Це мережі, які містять зворотні зв'язки та мають внутрішню пам'ять, що дозволяє зберігати інформацію про попередні вхідні зразки. Однією з привабливих ідей RNN є те, що вони потенційно вміють пов'язувати попередню інформацію з поточним завданням. Так, наприклад, знання про попередній кадр відео можуть допомогти в розумінні поточного кадру. За останні кілька років RNN з неймовірним успіхом застосували до цілого ряду завдань: розпізнавання мови, мовне моделювання, переклад, розпізнавання зображень тощо.\n",
    "\n",
    "Однак, класичні RNN мають ряд недоліків. Основним із них є те, що такі мережі здатні пам'ятати інформацію лише про 5-10 попередніх елементів. Але, наприклад, текст зазвичай складається із більшої кількості слів. Для вирішення цієї проблеми застововуються більш складні рекурентні архітектури. Чимала роль в досягненнях RNN належить LSTM - незвичайній модифікації рекуррентної нейронної мережі, яка на багатьох задачах значно перевершує стандартну версію. Майже всі вражаючі результати RNN досягнуті саме за допомогою LSTM.\n",
    "\n",
    "Довга короткострокова пам'ять (Long short-term memory, LSTM) - особливий різновид архітектури рекурентних нейронних мереж, здатний до вивчення довготривалих залежностей. Вони прекрасно вирішують цілий ряд різноманітних завдань і в даний час широко використовуються. Однак, мережі LSTM є досить складними, тому під час їх навчання виникають деякі проблеми. Існує більш спрощений варіант даної архітектури під назвою Gated recurrent unit (GRU) - керований рекурентний нейрон.\n",
    "\n",
    "- [Дуже хороша стаття по рекурентним нейронним мережам та їх модифікаціям](https://habr.com/ru/company/wunderfund/blog/331310/)\n",
    "- [Рекурентні прошарки в Keras](https://keras.io/api/layers/recurrent_layers/)"
   ]
  },
  {
   "cell_type": "markdown",
   "metadata": {},
   "source": [
    "### <center>Підготовка набору даних"
   ]
  },
  {
   "cell_type": "markdown",
   "metadata": {},
   "source": [
    "Набір даних AG - це колекція з понад 1 мільйона текстів новин. Новини були зібрані з більш ніж 2000 джерел компанією ComeToMyHead за більш ніж 1 рік діяльності. ComeToMyHead - це академічна пошукова система новин, яка працює з липня 2004 року. Отримати додаткову інформацію можна за [посиланням](http://www.di.unipi.it/~gulli/AG_corpus_of_news_articles.html).\n",
    "\n",
    "Набір для класифікації новин за темами складається з заголовків новин, які відносяться до 4 класів (Світ/Спорт/Бізнес/Технології). Кожен клас містить 31900 навчальних зразків. Загальна кількість навчальних зразків - 127 600.\n",
    "\n",
    "- [Набір даних AG news у форматі .csv](https://github.com/mhjabreel/CharCnn_Keras/tree/master/data/ag_news_csv)"
   ]
  },
  {
   "cell_type": "markdown",
   "metadata": {},
   "source": [
    "Для початку роботи, імпортуємо необхідні модулі."
   ]
  },
  {
   "cell_type": "code",
   "execution_count": 1,
   "metadata": {},
   "outputs": [],
   "source": [
    "from tensorflow.keras.models import Sequential\n",
    "from tensorflow.keras.layers import Dense, Embedding, LSTM, GRU\n",
    "from tensorflow.keras import utils\n",
    "from tensorflow.keras.preprocessing.sequence import pad_sequences\n",
    "from tensorflow.keras.preprocessing.text import Tokenizer\n",
    "from tensorflow.keras.callbacks import ModelCheckpoint\n",
    "from tensorflow.keras import utils\n",
    "from sklearn.model_selection import train_test_split\n",
    "import pandas as pd\n",
    "import numpy as np\n",
    "import matplotlib.pyplot as plt\n",
    "import tensorflow as tf\n",
    "np.warnings.filterwarnings('ignore', category=np.VisibleDeprecationWarning) \n",
    "# Оптимізація відеокарт\n",
    "physical_devices = tf.config.list_physical_devices('GPU') \n",
    "tf.config.experimental.set_memory_growth(physical_devices[0], True)"
   ]
  },
  {
   "cell_type": "markdown",
   "metadata": {},
   "source": [
    "Задамо деякі початкові налаштування."
   ]
  },
  {
   "cell_type": "code",
   "execution_count": 2,
   "metadata": {},
   "outputs": [],
   "source": [
    "# Максимальна кількість слів \n",
    "num_words = 10000\n",
    "# Максимальна довжина новини\n",
    "max_news_len = 30\n",
    "# Кількість класів новин\n",
    "nb_classes = 4\n",
    "# Зерно датчика випадкових чисел для відтворюваності результатів\n",
    "np.random.seed(123)"
   ]
  },
  {
   "cell_type": "markdown",
   "metadata": {},
   "source": [
    "Імпортуємо набір даних."
   ]
  },
  {
   "cell_type": "code",
   "execution_count": 3,
   "metadata": {},
   "outputs": [
    {
     "data": {
      "text/html": [
       "<div>\n",
       "<style scoped>\n",
       "    .dataframe tbody tr th:only-of-type {\n",
       "        vertical-align: middle;\n",
       "    }\n",
       "\n",
       "    .dataframe tbody tr th {\n",
       "        vertical-align: top;\n",
       "    }\n",
       "\n",
       "    .dataframe thead th {\n",
       "        text-align: right;\n",
       "    }\n",
       "</style>\n",
       "<table border=\"1\" class=\"dataframe\">\n",
       "  <thead>\n",
       "    <tr style=\"text-align: right;\">\n",
       "      <th></th>\n",
       "      <th>class</th>\n",
       "      <th>title</th>\n",
       "      <th>text</th>\n",
       "    </tr>\n",
       "  </thead>\n",
       "  <tbody>\n",
       "    <tr>\n",
       "      <th>0</th>\n",
       "      <td>3</td>\n",
       "      <td>Wall St. Bears Claw Back Into the Black (Reuters)</td>\n",
       "      <td>Reuters - Short-sellers, Wall Street's dwindli...</td>\n",
       "    </tr>\n",
       "    <tr>\n",
       "      <th>1</th>\n",
       "      <td>3</td>\n",
       "      <td>Carlyle Looks Toward Commercial Aerospace (Reu...</td>\n",
       "      <td>Reuters - Private investment firm Carlyle Grou...</td>\n",
       "    </tr>\n",
       "    <tr>\n",
       "      <th>2</th>\n",
       "      <td>3</td>\n",
       "      <td>Oil and Economy Cloud Stocks' Outlook (Reuters)</td>\n",
       "      <td>Reuters - Soaring crude prices plus worries\\ab...</td>\n",
       "    </tr>\n",
       "    <tr>\n",
       "      <th>3</th>\n",
       "      <td>3</td>\n",
       "      <td>Iraq Halts Oil Exports from Main Southern Pipe...</td>\n",
       "      <td>Reuters - Authorities have halted oil export\\f...</td>\n",
       "    </tr>\n",
       "    <tr>\n",
       "      <th>4</th>\n",
       "      <td>3</td>\n",
       "      <td>Oil prices soar to all-time record, posing new...</td>\n",
       "      <td>AFP - Tearaway world oil prices, toppling reco...</td>\n",
       "    </tr>\n",
       "  </tbody>\n",
       "</table>\n",
       "</div>"
      ],
      "text/plain": [
       "   class                                              title  \\\n",
       "0      3  Wall St. Bears Claw Back Into the Black (Reuters)   \n",
       "1      3  Carlyle Looks Toward Commercial Aerospace (Reu...   \n",
       "2      3    Oil and Economy Cloud Stocks' Outlook (Reuters)   \n",
       "3      3  Iraq Halts Oil Exports from Main Southern Pipe...   \n",
       "4      3  Oil prices soar to all-time record, posing new...   \n",
       "\n",
       "                                                text  \n",
       "0  Reuters - Short-sellers, Wall Street's dwindli...  \n",
       "1  Reuters - Private investment firm Carlyle Grou...  \n",
       "2  Reuters - Soaring crude prices plus worries\\ab...  \n",
       "3  Reuters - Authorities have halted oil export\\f...  \n",
       "4  AFP - Tearaway world oil prices, toppling reco...  "
      ]
     },
     "execution_count": 3,
     "metadata": {},
     "output_type": "execute_result"
    }
   ],
   "source": [
    "df = pd.read_csv(\"D:/Drive/ІІС/Datasets/Texts/AG_news.csv\", sep=\",\")\n",
    "df.head()"
   ]
  },
  {
   "cell_type": "markdown",
   "metadata": {},
   "source": [
    "Виділяємо стовпець із текстом новин для формування векторів предикторів."
   ]
  },
  {
   "cell_type": "code",
   "execution_count": 4,
   "metadata": {},
   "outputs": [
    {
     "data": {
      "text/plain": [
       "0    Reuters - Short-sellers, Wall Street's dwindli...\n",
       "1    Reuters - Private investment firm Carlyle Grou...\n",
       "2    Reuters - Soaring crude prices plus worries\\ab...\n",
       "3    Reuters - Authorities have halted oil export\\f...\n",
       "4    AFP - Tearaway world oil prices, toppling reco...\n",
       "Name: text, dtype: object"
      ]
     },
     "execution_count": 4,
     "metadata": {},
     "output_type": "execute_result"
    }
   ],
   "source": [
    "news = df['text']\n",
    "news.head()"
   ]
  },
  {
   "cell_type": "markdown",
   "metadata": {},
   "source": [
    "Виділяємо стовпець із номерами класів для формування векторів цілей."
   ]
  },
  {
   "cell_type": "code",
   "execution_count": 5,
   "metadata": {},
   "outputs": [
    {
     "data": {
      "text/plain": [
       "0    3\n",
       "1    3\n",
       "2    3\n",
       "3    3\n",
       "4    3\n",
       "Name: class, dtype: int64"
      ]
     },
     "execution_count": 5,
     "metadata": {},
     "output_type": "execute_result"
    }
   ],
   "source": [
    "classes = df['class']\n",
    "classes.head()"
   ]
  },
  {
   "cell_type": "markdown",
   "metadata": {},
   "source": [
    "Перетворюємо номери класів до формату one hot encoding."
   ]
  },
  {
   "cell_type": "code",
   "execution_count": 6,
   "metadata": {},
   "outputs": [
    {
     "data": {
      "text/html": [
       "<div>\n",
       "<style scoped>\n",
       "    .dataframe tbody tr th:only-of-type {\n",
       "        vertical-align: middle;\n",
       "    }\n",
       "\n",
       "    .dataframe tbody tr th {\n",
       "        vertical-align: top;\n",
       "    }\n",
       "\n",
       "    .dataframe thead th {\n",
       "        text-align: right;\n",
       "    }\n",
       "</style>\n",
       "<table border=\"1\" class=\"dataframe\">\n",
       "  <thead>\n",
       "    <tr style=\"text-align: right;\">\n",
       "      <th></th>\n",
       "      <th>Class_1</th>\n",
       "      <th>Class_2</th>\n",
       "      <th>Class_3</th>\n",
       "      <th>Class_4</th>\n",
       "    </tr>\n",
       "  </thead>\n",
       "  <tbody>\n",
       "    <tr>\n",
       "      <th>0</th>\n",
       "      <td>0</td>\n",
       "      <td>0</td>\n",
       "      <td>1</td>\n",
       "      <td>0</td>\n",
       "    </tr>\n",
       "    <tr>\n",
       "      <th>1</th>\n",
       "      <td>0</td>\n",
       "      <td>0</td>\n",
       "      <td>1</td>\n",
       "      <td>0</td>\n",
       "    </tr>\n",
       "    <tr>\n",
       "      <th>2</th>\n",
       "      <td>0</td>\n",
       "      <td>0</td>\n",
       "      <td>1</td>\n",
       "      <td>0</td>\n",
       "    </tr>\n",
       "    <tr>\n",
       "      <th>3</th>\n",
       "      <td>0</td>\n",
       "      <td>0</td>\n",
       "      <td>1</td>\n",
       "      <td>0</td>\n",
       "    </tr>\n",
       "    <tr>\n",
       "      <th>4</th>\n",
       "      <td>0</td>\n",
       "      <td>0</td>\n",
       "      <td>1</td>\n",
       "      <td>0</td>\n",
       "    </tr>\n",
       "  </tbody>\n",
       "</table>\n",
       "</div>"
      ],
      "text/plain": [
       "   Class_1  Class_2  Class_3  Class_4\n",
       "0        0        0        1        0\n",
       "1        0        0        1        0\n",
       "2        0        0        1        0\n",
       "3        0        0        1        0\n",
       "4        0        0        1        0"
      ]
     },
     "execution_count": 6,
     "metadata": {},
     "output_type": "execute_result"
    }
   ],
   "source": [
    "classes = pd.get_dummies(classes, prefix='Class')\n",
    "classes.head()"
   ]
  },
  {
   "cell_type": "markdown",
   "metadata": {},
   "source": [
    "Переводимо створені набори даних до формати масивів numpy."
   ]
  },
  {
   "cell_type": "code",
   "execution_count": 7,
   "metadata": {},
   "outputs": [],
   "source": [
    "news = news.values\n",
    "classes = classes.values"
   ]
  },
  {
   "cell_type": "markdown",
   "metadata": {},
   "source": [
    "Розділяємо отримані набори на навчальну та тестову вибірки."
   ]
  },
  {
   "cell_type": "code",
   "execution_count": 8,
   "metadata": {},
   "outputs": [],
   "source": [
    "news_train, news_test, y_train, y_test = train_test_split(news, classes, test_size=0.1)"
   ]
  },
  {
   "cell_type": "markdown",
   "metadata": {},
   "source": [
    "Створюємо токенізатор Keras для подання тексту у форматі частотного кодування. Для цього використовується спеціальний клас *Tokenizer*, який дозволяє автоматично створити словник частотного подання слів. В якості параметру під час створення токенізатора вказується максимальна кількість слів `num_words` - до словника буде входити лише вказана кількість слів. Слова, які зустрічаються дуже рідко не увійдуть до словника і будуть видалені із тексту під час формування його векторного подання.\n",
    "- [Детальніше про токенізатор в Keras](https://www.tensorflow.org/api_docs/python/tf/keras/preprocessing/text/Tokenizer)"
   ]
  },
  {
   "cell_type": "code",
   "execution_count": 9,
   "metadata": {},
   "outputs": [],
   "source": [
    "tokenizer = Tokenizer(num_words=num_words)"
   ]
  },
  {
   "cell_type": "markdown",
   "metadata": {},
   "source": [
    "Навчаємо токенізатор на текстах новин."
   ]
  },
  {
   "cell_type": "code",
   "execution_count": 10,
   "metadata": {},
   "outputs": [],
   "source": [
    "tokenizer.fit_on_texts(news_train)"
   ]
  },
  {
   "cell_type": "markdown",
   "metadata": {},
   "source": [
    "Переглядаємо сформований словник токенізатора."
   ]
  },
  {
   "cell_type": "code",
   "execution_count": 11,
   "metadata": {
    "scrolled": true
   },
   "outputs": [
    {
     "data": {
      "text/plain": [
       "{'the': 1,\n",
       " 'a': 2,\n",
       " 'to': 3,\n",
       " 'of': 4,\n",
       " 'in': 5,\n",
       " 'and': 6,\n",
       " 'on': 7,\n",
       " 'for': 8,\n",
       " '39': 9,\n",
       " 's': 10,\n",
       " 'that': 11,\n",
       " 'with': 12,\n",
       " 'as': 13,\n",
       " 'its': 14,\n",
       " 'at': 15,\n",
       " 'is': 16,\n",
       " 'said': 17,\n",
       " 'by': 18,\n",
       " 'it': 19,\n",
       " 'has': 20,\n",
       " 'new': 21,\n",
       " 'an': 22,\n",
       " 'from': 23,\n",
       " 'reuters': 24,\n",
       " 'his': 25,\n",
       " 'will': 26,\n",
       " 'was': 27,\n",
       " 'after': 28,\n",
       " 'have': 29,\n",
       " 'be': 30,\n",
       " 'their': 31,\n",
       " 'two': 32,\n",
       " 'are': 33,\n",
       " 'us': 34,\n",
       " 'over': 35,\n",
       " 'quot': 36,\n",
       " 'year': 37,\n",
       " 'first': 38,\n",
       " 'ap': 39,\n",
       " 'but': 40,\n",
       " 'he': 41,\n",
       " 'gt': 42,\n",
       " 'lt': 43,\n",
       " 'this': 44,\n",
       " 'more': 45,\n",
       " 'monday': 46,\n",
       " 'tuesday': 47,\n",
       " 'up': 48,\n",
       " 'wednesday': 49,\n",
       " 'one': 50,\n",
       " 'thursday': 51,\n",
       " 'inc': 52,\n",
       " 'company': 53,\n",
       " 'friday': 54,\n",
       " 'world': 55,\n",
       " 'than': 56,\n",
       " 'u': 57,\n",
       " 'last': 58,\n",
       " '1': 59,\n",
       " 'they': 60,\n",
       " 'york': 61,\n",
       " 'yesterday': 62,\n",
       " 'against': 63,\n",
       " 'who': 64,\n",
       " 'about': 65,\n",
       " 'not': 66,\n",
       " 'were': 67,\n",
       " 'into': 68,\n",
       " 'out': 69,\n",
       " 'been': 70,\n",
       " 'three': 71,\n",
       " 'president': 72,\n",
       " '2': 73,\n",
       " 'had': 74,\n",
       " 'million': 75,\n",
       " 'oil': 76,\n",
       " 'corp': 77,\n",
       " 'when': 78,\n",
       " 'week': 79,\n",
       " 'time': 80,\n",
       " 'would': 81,\n",
       " 'sunday': 82,\n",
       " 'united': 83,\n",
       " 'which': 84,\n",
       " 'game': 85,\n",
       " 'government': 86,\n",
       " 'people': 87,\n",
       " 'years': 88,\n",
       " 'today': 89,\n",
       " 'could': 90,\n",
       " 'no': 91,\n",
       " 'second': 92,\n",
       " 'group': 93,\n",
       " 'n': 94,\n",
       " 'com': 95,\n",
       " 'percent': 96,\n",
       " 'next': 97,\n",
       " 'software': 98,\n",
       " 'saturday': 99,\n",
       " 'all': 100,\n",
       " 'season': 101,\n",
       " 'third': 102,\n",
       " 'night': 103,\n",
       " 'prices': 104,\n",
       " 'or': 105,\n",
       " 'iraq': 106,\n",
       " 'day': 107,\n",
       " 'security': 108,\n",
       " 'fullquote': 109,\n",
       " '3': 110,\n",
       " 'off': 111,\n",
       " 'quarter': 112,\n",
       " 'stocks': 113,\n",
       " '6': 114,\n",
       " 'microsoft': 115,\n",
       " 'announced': 116,\n",
       " 'internet': 117,\n",
       " 'minister': 118,\n",
       " 'some': 119,\n",
       " 'team': 120,\n",
       " 'four': 121,\n",
       " 'state': 122,\n",
       " 'back': 123,\n",
       " 'high': 124,\n",
       " 'international': 125,\n",
       " 'may': 126,\n",
       " '2004': 127,\n",
       " 'billion': 128,\n",
       " 'washington': 129,\n",
       " 'most': 130,\n",
       " 'market': 131,\n",
       " 'news': 132,\n",
       " 'former': 133,\n",
       " 'officials': 134,\n",
       " '4': 135,\n",
       " '10': 136,\n",
       " 'can': 137,\n",
       " 'top': 138,\n",
       " 'business': 139,\n",
       " 'says': 140,\n",
       " 'other': 141,\n",
       " 'win': 142,\n",
       " 'states': 143,\n",
       " 'if': 144,\n",
       " '5': 145,\n",
       " 'month': 146,\n",
       " 'record': 147,\n",
       " 'end': 148,\n",
       " 'city': 149,\n",
       " 'victory': 150,\n",
       " 'european': 151,\n",
       " 'before': 152,\n",
       " 'largest': 153,\n",
       " 'just': 154,\n",
       " 'co': 155,\n",
       " 'open': 156,\n",
       " 't': 157,\n",
       " 'technology': 158,\n",
       " 'afp': 159,\n",
       " 'service': 160,\n",
       " 'reported': 161,\n",
       " 'american': 162,\n",
       " 'league': 163,\n",
       " 'you': 164,\n",
       " '7': 165,\n",
       " 'computer': 166,\n",
       " 'sales': 167,\n",
       " 'down': 168,\n",
       " '000': 169,\n",
       " 'federal': 170,\n",
       " 'killed': 171,\n",
       " 'home': 172,\n",
       " 'five': 173,\n",
       " 'prime': 174,\n",
       " 'according': 175,\n",
       " 'national': 176,\n",
       " 'what': 177,\n",
       " 'expected': 178,\n",
       " 'plans': 179,\n",
       " 'made': 180,\n",
       " 'major': 181,\n",
       " 'ticker': 182,\n",
       " 'while': 183,\n",
       " 'court': 184,\n",
       " 'now': 185,\n",
       " 'network': 186,\n",
       " '0': 187,\n",
       " 'during': 188,\n",
       " 'target': 189,\n",
       " 'research': 190,\n",
       " 'least': 191,\n",
       " 'between': 192,\n",
       " 'chief': 193,\n",
       " 'online': 194,\n",
       " 'http': 195,\n",
       " 'companies': 196,\n",
       " 'maker': 197,\n",
       " 'country': 198,\n",
       " 'london': 199,\n",
       " 'long': 200,\n",
       " 'them': 201,\n",
       " 'british': 202,\n",
       " 'san': 203,\n",
       " 'under': 204,\n",
       " 'www': 205,\n",
       " 'set': 206,\n",
       " 'there': 207,\n",
       " 'china': 208,\n",
       " 'bush': 209,\n",
       " 'cup': 210,\n",
       " 'lead': 211,\n",
       " 'series': 212,\n",
       " 'final': 213,\n",
       " 'href': 214,\n",
       " 'another': 215,\n",
       " 'deal': 216,\n",
       " 'based': 217,\n",
       " 'make': 218,\n",
       " 'bank': 219,\n",
       " 'since': 220,\n",
       " 'search': 221,\n",
       " 'report': 222,\n",
       " 'police': 223,\n",
       " 'won': 224,\n",
       " 'south': 225,\n",
       " 'take': 226,\n",
       " 'her': 227,\n",
       " 'investor': 228,\n",
       " 'old': 229,\n",
       " 'space': 230,\n",
       " 'giant': 231,\n",
       " 'industry': 232,\n",
       " 'help': 233,\n",
       " 'games': 234,\n",
       " 'john': 235,\n",
       " 'coach': 236,\n",
       " 'sports': 237,\n",
       " 'through': 238,\n",
       " 'left': 239,\n",
       " 'shares': 240,\n",
       " 'leader': 241,\n",
       " 'services': 242,\n",
       " 'election': 243,\n",
       " 'him': 244,\n",
       " 'way': 245,\n",
       " 'being': 246,\n",
       " 'say': 247,\n",
       " 'so': 248,\n",
       " 'run': 249,\n",
       " 'agreed': 250,\n",
       " 'music': 251,\n",
       " 'only': 252,\n",
       " 'red': 253,\n",
       " 'web': 254,\n",
       " 'iraqi': 255,\n",
       " 'because': 256,\n",
       " 'system': 257,\n",
       " 'hit': 258,\n",
       " 'early': 259,\n",
       " 'aspx': 260,\n",
       " 'quickinfo': 261,\n",
       " 'six': 262,\n",
       " 'military': 263,\n",
       " 'mobile': 264,\n",
       " 'profit': 265,\n",
       " 'general': 266,\n",
       " 'days': 267,\n",
       " 'north': 268,\n",
       " 'baghdad': 269,\n",
       " 'months': 270,\n",
       " 'o': 271,\n",
       " 'like': 272,\n",
       " 'i': 273,\n",
       " 'al': 274,\n",
       " 'including': 275,\n",
       " 'war': 276,\n",
       " 'get': 277,\n",
       " 'p': 278,\n",
       " 'many': 279,\n",
       " 'rose': 280,\n",
       " 'ago': 281,\n",
       " 'union': 282,\n",
       " 'still': 283,\n",
       " 'executive': 284,\n",
       " 'even': 285,\n",
       " 'biggest': 286,\n",
       " 'half': 287,\n",
       " 'talks': 288,\n",
       " 'wireless': 289,\n",
       " 'trade': 290,\n",
       " 'data': 291,\n",
       " 'plan': 292,\n",
       " 'palestinian': 293,\n",
       " 'india': 294,\n",
       " 'big': 295,\n",
       " 'players': 296,\n",
       " 'strong': 297,\n",
       " '8': 298,\n",
       " 'phone': 299,\n",
       " 'round': 300,\n",
       " 'much': 301,\n",
       " 'latest': 302,\n",
       " 'official': 303,\n",
       " 'higher': 304,\n",
       " 'bid': 305,\n",
       " 'released': 306,\n",
       " 'move': 307,\n",
       " 'stock': 308,\n",
       " 'points': 309,\n",
       " 'start': 310,\n",
       " 'olympic': 311,\n",
       " 'held': 312,\n",
       " 'growth': 313,\n",
       " 'earnings': 314,\n",
       " 'part': 315,\n",
       " 'athens': 316,\n",
       " 'google': 317,\n",
       " 'nuclear': 318,\n",
       " 'test': 319,\n",
       " 'how': 320,\n",
       " 'boston': 321,\n",
       " '11': 322,\n",
       " 'dollar': 323,\n",
       " 'global': 324,\n",
       " '20': 325,\n",
       " 'west': 326,\n",
       " 'where': 327,\n",
       " 'called': 328,\n",
       " 'investors': 329,\n",
       " 'fourth': 330,\n",
       " 'play': 331,\n",
       " 'england': 332,\n",
       " 'israeli': 333,\n",
       " 'nearly': 334,\n",
       " 'face': 335,\n",
       " 'head': 336,\n",
       " 'economic': 337,\n",
       " 'presidential': 338,\n",
       " 'weeks': 339,\n",
       " 'japan': 340,\n",
       " 'australia': 341,\n",
       " 'nations': 342,\n",
       " 'seven': 343,\n",
       " 'football': 344,\n",
       " 'air': 345,\n",
       " 'public': 346,\n",
       " 'users': 347,\n",
       " 'cut': 348,\n",
       " 'found': 349,\n",
       " 'windows': 350,\n",
       " 'gold': 351,\n",
       " 'financial': 352,\n",
       " 'francisco': 353,\n",
       " 'took': 354,\n",
       " 'free': 355,\n",
       " 'ahead': 356,\n",
       " 'ibm': 357,\n",
       " 'foreign': 358,\n",
       " '12': 359,\n",
       " 'fell': 360,\n",
       " 'man': 361,\n",
       " 'amp': 362,\n",
       " 'despite': 363,\n",
       " 'go': 364,\n",
       " 'around': 365,\n",
       " 'systems': 366,\n",
       " 'championship': 367,\n",
       " 'should': 368,\n",
       " 'firm': 369,\n",
       " '9': 370,\n",
       " 'number': 371,\n",
       " 'street': 372,\n",
       " 'near': 373,\n",
       " 'past': 374,\n",
       " 'any': 375,\n",
       " 'also': 376,\n",
       " 'reports': 377,\n",
       " 'leading': 378,\n",
       " 'buy': 379,\n",
       " 'forces': 380,\n",
       " 'russian': 381,\n",
       " 'loss': 382,\n",
       " 'key': 383,\n",
       " 'right': 384,\n",
       " 'following': 385,\n",
       " 'used': 386,\n",
       " 'use': 387,\n",
       " 'do': 388,\n",
       " 'troops': 389,\n",
       " '30': 390,\n",
       " 'work': 391,\n",
       " 'quote': 392,\n",
       " 'pay': 393,\n",
       " 'release': 394,\n",
       " 'led': 395,\n",
       " 'chicago': 396,\n",
       " 'economy': 397,\n",
       " 'attack': 398,\n",
       " 'sox': 399,\n",
       " 'video': 400,\n",
       " 'drug': 401,\n",
       " 'gaza': 402,\n",
       " 'agency': 403,\n",
       " 'per': 404,\n",
       " '36': 405,\n",
       " 'both': 406,\n",
       " 'share': 407,\n",
       " 'october': 408,\n",
       " 'car': 409,\n",
       " 'profile': 410,\n",
       " 'media': 411,\n",
       " 'commission': 412,\n",
       " '15': 413,\n",
       " 'version': 414,\n",
       " 'beat': 415,\n",
       " 'september': 416,\n",
       " 'price': 417,\n",
       " 'late': 418,\n",
       " 'your': 419,\n",
       " 'press': 420,\n",
       " 'rival': 421,\n",
       " 'america': 422,\n",
       " 'player': 423,\n",
       " '2005': 424,\n",
       " 'killing': 425,\n",
       " 'best': 426,\n",
       " 'tokyo': 427,\n",
       " 'products': 428,\n",
       " 'here': 429,\n",
       " 'put': 430,\n",
       " 'well': 431,\n",
       " 'contract': 432,\n",
       " 'source': 433,\n",
       " 'capital': 434,\n",
       " 'wall': 435,\n",
       " 'apple': 436,\n",
       " 'agreement': 437,\n",
       " 'several': 438,\n",
       " 'uk': 439,\n",
       " 'close': 440,\n",
       " 'again': 441,\n",
       " 'power': 442,\n",
       " 'workers': 443,\n",
       " 'leaders': 444,\n",
       " 'offer': 445,\n",
       " 'making': 446,\n",
       " 'e': 447,\n",
       " 'region': 448,\n",
       " 'recent': 449,\n",
       " 'australian': 450,\n",
       " 'might': 451,\n",
       " 'program': 452,\n",
       " 'french': 453,\n",
       " 'scientists': 454,\n",
       " 'such': 455,\n",
       " 'support': 456,\n",
       " 'demand': 457,\n",
       " '17': 458,\n",
       " 'title': 459,\n",
       " 'whether': 460,\n",
       " 'crude': 461,\n",
       " 'b': 462,\n",
       " 'conference': 463,\n",
       " 'scored': 464,\n",
       " 'digital': 465,\n",
       " 'eight': 466,\n",
       " 'un': 467,\n",
       " 'lower': 468,\n",
       " 'consumer': 469,\n",
       " 'customers': 470,\n",
       " 'michael': 471,\n",
       " 'jobs': 472,\n",
       " '14': 473,\n",
       " 'party': 474,\n",
       " 'attacks': 475,\n",
       " 'department': 476,\n",
       " 'champion': 477,\n",
       " 'manager': 478,\n",
       " '18': 479,\n",
       " 'energy': 480,\n",
       " 'line': 481,\n",
       " 'europe': 482,\n",
       " 'los': 483,\n",
       " 'little': 484,\n",
       " 'she': 485,\n",
       " 'st': 486,\n",
       " 'northern': 487,\n",
       " 'low': 488,\n",
       " 'life': 489,\n",
       " 'japanese': 490,\n",
       " 'told': 491,\n",
       " 'meeting': 492,\n",
       " 'house': 493,\n",
       " 'running': 494,\n",
       " 'nation': 495,\n",
       " 'saying': 496,\n",
       " 'southern': 497,\n",
       " 'november': 498,\n",
       " 'management': 499,\n",
       " 'due': 500,\n",
       " 'political': 501,\n",
       " 'winning': 502,\n",
       " 'field': 503,\n",
       " 'russia': 504,\n",
       " 'place': 505,\n",
       " 'away': 506,\n",
       " 'decision': 507,\n",
       " 'peace': 508,\n",
       " 'campaign': 509,\n",
       " 'angeles': 510,\n",
       " 'canadian': 511,\n",
       " 'central': 512,\n",
       " 'champions': 513,\n",
       " 'taking': 514,\n",
       " 'hurricane': 515,\n",
       " 'race': 516,\n",
       " 'center': 517,\n",
       " 'across': 518,\n",
       " 'good': 519,\n",
       " 'university': 520,\n",
       " '25': 521,\n",
       " 'launched': 522,\n",
       " 'without': 523,\n",
       " 'results': 524,\n",
       " '13': 525,\n",
       " 'oracle': 526,\n",
       " 'using': 527,\n",
       " 'star': 528,\n",
       " 'office': 529,\n",
       " 'intel': 530,\n",
       " 'florida': 531,\n",
       " '16': 532,\n",
       " 'school': 533,\n",
       " 'give': 534,\n",
       " 'army': 535,\n",
       " 'board': 536,\n",
       " 'pakistan': 537,\n",
       " 'men': 538,\n",
       " 'match': 539,\n",
       " 'information': 540,\n",
       " 'chairman': 541,\n",
       " 'morning': 542,\n",
       " 'we': 543,\n",
       " 'quarterly': 544,\n",
       " 'launch': 545,\n",
       " 'defense': 546,\n",
       " \"world's\": 547,\n",
       " 'future': 548,\n",
       " 'become': 549,\n",
       " 'shot': 550,\n",
       " 'interest': 551,\n",
       " 'net': 552,\n",
       " 'communications': 553,\n",
       " '100': 554,\n",
       " 'linux': 555,\n",
       " 'bomb': 556,\n",
       " 'weekend': 557,\n",
       " 'site': 558,\n",
       " 'case': 559,\n",
       " 'california': 560,\n",
       " 'straight': 561,\n",
       " 'secretary': 562,\n",
       " 'charges': 563,\n",
       " 'houston': 564,\n",
       " '50': 565,\n",
       " 'costs': 566,\n",
       " 'times': 567,\n",
       " 'among': 568,\n",
       " 'operating': 569,\n",
       " 'showed': 570,\n",
       " 'oct': 571,\n",
       " 'did': 572,\n",
       " 'posted': 573,\n",
       " 'few': 574,\n",
       " 'better': 575,\n",
       " 'keep': 576,\n",
       " 'history': 577,\n",
       " 'elections': 578,\n",
       " 'sun': 579,\n",
       " 'death': 580,\n",
       " 'warned': 581,\n",
       " 'return': 582,\n",
       " 'lost': 583,\n",
       " 'health': 584,\n",
       " 'own': 585,\n",
       " 'television': 586,\n",
       " 'almost': 587,\n",
       " 'signed': 588,\n",
       " 'cost': 589,\n",
       " 'increase': 590,\n",
       " 'money': 591,\n",
       " 'force': 592,\n",
       " 'come': 593,\n",
       " 'stores': 594,\n",
       " 'earlier': 595,\n",
       " 'club': 596,\n",
       " 'ever': 597,\n",
       " 'militants': 598,\n",
       " '24': 599,\n",
       " 'same': 600,\n",
       " 'senior': 601,\n",
       " 'mark': 602,\n",
       " 'small': 603,\n",
       " 'show': 604,\n",
       " 'france': 605,\n",
       " 'east': 606,\n",
       " 'bill': 607,\n",
       " 'those': 608,\n",
       " 'grand': 609,\n",
       " 'trading': 610,\n",
       " 'peoplesoft': 611,\n",
       " 'job': 612,\n",
       " 'david': 613,\n",
       " 'rise': 614,\n",
       " 'font': 615,\n",
       " 'exchange': 616,\n",
       " 'nine': 617,\n",
       " 'pc': 618,\n",
       " 'accused': 619,\n",
       " 'yankees': 620,\n",
       " 'began': 621,\n",
       " 'chip': 622,\n",
       " 'stadium': 623,\n",
       " 'ltd': 624,\n",
       " 'going': 625,\n",
       " 'fans': 626,\n",
       " 'baseball': 627,\n",
       " 'mail': 628,\n",
       " 'nov': 629,\n",
       " '19': 630,\n",
       " 'association': 631,\n",
       " 'opening': 632,\n",
       " 'less': 633,\n",
       " 'behind': 634,\n",
       " 'came': 635,\n",
       " 'real': 636,\n",
       " 'likely': 637,\n",
       " 'nasa': 638,\n",
       " 'reserve': 639,\n",
       " 'growing': 640,\n",
       " 'toronto': 641,\n",
       " 'already': 642,\n",
       " 'barrel': 643,\n",
       " 'texas': 644,\n",
       " 'israel': 645,\n",
       " 'britain': 646,\n",
       " 'helped': 647,\n",
       " 'action': 648,\n",
       " 'ended': 649,\n",
       " 'thousands': 650,\n",
       " 'iran': 651,\n",
       " 'got': 652,\n",
       " 'amid': 653,\n",
       " 'post': 654,\n",
       " 'offering': 655,\n",
       " 'm': 656,\n",
       " 'battle': 657,\n",
       " 'korea': 658,\n",
       " 'died': 659,\n",
       " 'anti': 660,\n",
       " 'full': 661,\n",
       " '21': 662,\n",
       " 'point': 663,\n",
       " 'judge': 664,\n",
       " 'sell': 665,\n",
       " 'august': 666,\n",
       " 'trial': 667,\n",
       " 'division': 668,\n",
       " 'hopes': 669,\n",
       " 'medal': 670,\n",
       " 'rate': 671,\n",
       " 'possible': 672,\n",
       " 'members': 673,\n",
       " 'control': 674,\n",
       " 'too': 675,\n",
       " 'cash': 676,\n",
       " 'bankruptcy': 677,\n",
       " 'darfur': 678,\n",
       " 'yet': 679,\n",
       " 'tax': 680,\n",
       " 'kerry': 681,\n",
       " 'performance': 682,\n",
       " 'networks': 683,\n",
       " 'countries': 684,\n",
       " 'food': 685,\n",
       " 'revenue': 686,\n",
       " 'far': 687,\n",
       " 'white': 688,\n",
       " 'access': 689,\n",
       " 'career': 690,\n",
       " 'once': 691,\n",
       " 'gave': 692,\n",
       " 'paris': 693,\n",
       " 'within': 694,\n",
       " 'women': 695,\n",
       " 'study': 696,\n",
       " 'airlines': 697,\n",
       " 'sept': 698,\n",
       " 'administration': 699,\n",
       " 'injured': 700,\n",
       " 'efforts': 701,\n",
       " 'see': 702,\n",
       " 'computers': 703,\n",
       " 'chinese': 704,\n",
       " 'hours': 705,\n",
       " 'hard': 706,\n",
       " 'authorities': 707,\n",
       " 'yards': 708,\n",
       " 'trying': 709,\n",
       " '151': 710,\n",
       " 'term': 711,\n",
       " 'production': 712,\n",
       " 'western': 713,\n",
       " 'fall': 714,\n",
       " 'server': 715,\n",
       " 'violence': 716,\n",
       " 'rates': 717,\n",
       " 'soon': 718,\n",
       " 'product': 719,\n",
       " 'corporate': 720,\n",
       " 'step': 721,\n",
       " 'soldiers': 722,\n",
       " 'williams': 723,\n",
       " 'personal': 724,\n",
       " 'local': 725,\n",
       " 'german': 726,\n",
       " 'human': 727,\n",
       " 'arafat': 728,\n",
       " 'look': 729,\n",
       " 'afghanistan': 730,\n",
       " 'main': 731,\n",
       " 'investment': 732,\n",
       " 'starting': 733,\n",
       " 'george': 734,\n",
       " 'germany': 735,\n",
       " 'speed': 736,\n",
       " 'reached': 737,\n",
       " 'takeover': 738,\n",
       " 'engine': 739,\n",
       " 'radio': 740,\n",
       " 'change': 741,\n",
       " 'store': 742,\n",
       " 'size': 743,\n",
       " 'opposition': 744,\n",
       " 'hostage': 745,\n",
       " 'fire': 746,\n",
       " 'fund': 747,\n",
       " 'yasser': 748,\n",
       " 'popular': 749,\n",
       " 'canada': 750,\n",
       " 'markets': 751,\n",
       " 'law': 752,\n",
       " 'outside': 753,\n",
       " 'short': 754,\n",
       " 'aimed': 755,\n",
       " 'competition': 756,\n",
       " 'paul': 757,\n",
       " 'devices': 758,\n",
       " 'phones': 759,\n",
       " 'until': 760,\n",
       " 'enough': 761,\n",
       " 'quarterback': 762,\n",
       " 'retailer': 763,\n",
       " 'failed': 764,\n",
       " 'continued': 765,\n",
       " 'filed': 766,\n",
       " 'strike': 767,\n",
       " 'each': 768,\n",
       " 'african': 769,\n",
       " 'gas': 770,\n",
       " 'analysts': 771,\n",
       " 'taken': 772,\n",
       " 'tour': 773,\n",
       " 'development': 774,\n",
       " 'concerns': 775,\n",
       " 'fight': 776,\n",
       " 'giants': 777,\n",
       " 'known': 778,\n",
       " 'profits': 779,\n",
       " 'then': 780,\n",
       " 'jones': 781,\n",
       " 'begin': 782,\n",
       " 'insurance': 783,\n",
       " 'vote': 784,\n",
       " 'looking': 785,\n",
       " 'sony': 786,\n",
       " 'selling': 787,\n",
       " 'weapons': 788,\n",
       " 'stop': 789,\n",
       " 'others': 790,\n",
       " 'designed': 791,\n",
       " 'manchester': 792,\n",
       " 'electronics': 793,\n",
       " 'dead': 794,\n",
       " 'find': 795,\n",
       " 'teams': 796,\n",
       " 'americans': 797,\n",
       " 'large': 798,\n",
       " 'miami': 799,\n",
       " 'airline': 800,\n",
       " 'tech': 801,\n",
       " 'desktop': 802,\n",
       " 'great': 803,\n",
       " 'executives': 804,\n",
       " 'went': 805,\n",
       " 'beijing': 806,\n",
       " 'indian': 807,\n",
       " 'raised': 808,\n",
       " 'reach': 809,\n",
       " 'olympics': 810,\n",
       " 'rebel': 811,\n",
       " 'bay': 812,\n",
       " 'tony': 813,\n",
       " \"it's\": 814,\n",
       " 'fighting': 815,\n",
       " 'unit': 816,\n",
       " 'cell': 817,\n",
       " 'operations': 818,\n",
       " 'madrid': 819,\n",
       " '500': 820,\n",
       " 're': 821,\n",
       " 'finally': 822,\n",
       " 'council': 823,\n",
       " 'further': 824,\n",
       " 'effort': 825,\n",
       " 'hold': 826,\n",
       " 'level': 827,\n",
       " 'coming': 828,\n",
       " 'green': 829,\n",
       " 'spending': 830,\n",
       " 'fuel': 831,\n",
       " 'seattle': 832,\n",
       " 'side': 833,\n",
       " 'meet': 834,\n",
       " 'atlanta': 835,\n",
       " 'rally': 836,\n",
       " 'consumers': 837,\n",
       " 'file': 838,\n",
       " 'toward': 839,\n",
       " 'legal': 840,\n",
       " 'researchers': 841,\n",
       " 'rights': 842,\n",
       " 'getting': 843,\n",
       " 'fired': 844,\n",
       " 'moscow': 845,\n",
       " 'cp': 846,\n",
       " 'need': 847,\n",
       " 'claims': 848,\n",
       " 'coast': 849,\n",
       " 'private': 850,\n",
       " 'annual': 851,\n",
       " 'family': 852,\n",
       " 'working': 853,\n",
       " 'never': 854,\n",
       " 'continue': 855,\n",
       " 'call': 856,\n",
       " 'goal': 857,\n",
       " 'forecast': 858,\n",
       " 'boost': 859,\n",
       " 'station': 860,\n",
       " 'euro': 861,\n",
       " 'powerful': 862,\n",
       " 'securities': 863,\n",
       " '23': 864,\n",
       " 'allow': 865,\n",
       " 'area': 866,\n",
       " 'blue': 867,\n",
       " 'provide': 868,\n",
       " 'must': 869,\n",
       " \"'s\": 870,\n",
       " 'drive': 871,\n",
       " 'yahoo': 872,\n",
       " 'tv': 873,\n",
       " 'arrested': 874,\n",
       " 'businesses': 875,\n",
       " 'children': 876,\n",
       " 'list': 877,\n",
       " 'bowl': 878,\n",
       " 'labor': 879,\n",
       " 'basketball': 880,\n",
       " 'visit': 881,\n",
       " 'every': 882,\n",
       " 'planned': 883,\n",
       " 'italian': 884,\n",
       " 'heart': 885,\n",
       " 'cbs': 886,\n",
       " 'named': 887,\n",
       " 'democratic': 888,\n",
       " 'pressure': 889,\n",
       " 'policy': 890,\n",
       " 'drop': 891,\n",
       " 'charged': 892,\n",
       " 'sent': 893,\n",
       " 'spain': 894,\n",
       " 'current': 895,\n",
       " 'december': 896,\n",
       " 'rebels': 897,\n",
       " 'hundreds': 898,\n",
       " '27': 899,\n",
       " 'park': 900,\n",
       " 'problems': 901,\n",
       " 'expectations': 902,\n",
       " 'calif': 903,\n",
       " 'officer': 904,\n",
       " '22': 905,\n",
       " 'regulators': 906,\n",
       " 'holiday': 907,\n",
       " 'asked': 908,\n",
       " 'dollars': 909,\n",
       " 'available': 910,\n",
       " 'africa': 911,\n",
       " 'attempt': 912,\n",
       " 'name': 913,\n",
       " 'supply': 914,\n",
       " 'muslim': 915,\n",
       " 'worth': 916,\n",
       " 'detroit': 917,\n",
       " 'investigation': 918,\n",
       " 'sudan': 919,\n",
       " 'eu': 920,\n",
       " 'gains': 921,\n",
       " 'aid': 922,\n",
       " 'confirmed': 923,\n",
       " 'rising': 924,\n",
       " '28': 925,\n",
       " 'sale': 926,\n",
       " 'survey': 927,\n",
       " 'employees': 928,\n",
       " 'ceo': 929,\n",
       " 'sold': 930,\n",
       " 'college': 931,\n",
       " 'ruling': 932,\n",
       " 'louis': 933,\n",
       " 'nasdaq': 934,\n",
       " 'technologies': 935,\n",
       " 'rivals': 936,\n",
       " 'decided': 937,\n",
       " 'injury': 938,\n",
       " 'tournament': 939,\n",
       " 'equipment': 940,\n",
       " 'suspected': 941,\n",
       " 'strip': 942,\n",
       " 'unveiled': 943,\n",
       " 'approved': 944,\n",
       " 'turned': 945,\n",
       " 'seen': 946,\n",
       " 'color': 947,\n",
       " 'nfl': 948,\n",
       " 'islamic': 949,\n",
       " 'holding': 950,\n",
       " 'winter': 951,\n",
       " 'retail': 952,\n",
       " '40': 953,\n",
       " 'threat': 954,\n",
       " 'flight': 955,\n",
       " 'later': 956,\n",
       " 'mike': 957,\n",
       " 'order': 958,\n",
       " 'ipod': 959,\n",
       " 'double': 960,\n",
       " 'opened': 961,\n",
       " 'want': 962,\n",
       " 'town': 963,\n",
       " 'increased': 964,\n",
       " 'stake': 965,\n",
       " 'try': 966,\n",
       " 'staff': 967,\n",
       " 'philadelphia': 968,\n",
       " 'sign': 969,\n",
       " 'crisis': 970,\n",
       " '2006': 971,\n",
       " 'giving': 972,\n",
       " 'generation': 973,\n",
       " 'runs': 974,\n",
       " 'arsenal': 975,\n",
       " 'cent': 976,\n",
       " 'fifth': 977,\n",
       " 'w': 978,\n",
       " 'spokesman': 979,\n",
       " 'captain': 980,\n",
       " 'above': 981,\n",
       " 'ranked': 982,\n",
       " 'moved': 983,\n",
       " 'though': 984,\n",
       " 'guard': 985,\n",
       " 'terrorism': 986,\n",
       " 'claimed': 987,\n",
       " 'steve': 988,\n",
       " 'enterprise': 989,\n",
       " 'young': 990,\n",
       " 'lines': 991,\n",
       " 'fresh': 992,\n",
       " 'given': 993,\n",
       " 'island': 994,\n",
       " 'advanced': 995,\n",
       " 'wants': 996,\n",
       " 'does': 997,\n",
       " 'average': 998,\n",
       " 'chance': 999,\n",
       " 'experts': 1000,\n",
       " ...}"
      ]
     },
     "execution_count": 11,
     "metadata": {},
     "output_type": "execute_result"
    }
   ],
   "source": [
    "tokenizer.word_index"
   ]
  },
  {
   "cell_type": "markdown",
   "metadata": {},
   "source": [
    "Як бачимо, найчастіше в текстах новин зустрічаються артиклі (\"the\", \"a\", \"to\" тощо). Цим словам буде привласнено найменші відповідні числові значення. Слова, які зустрічаються в тексті більш рідко, будуть кодуватись більшими числами. Наприклад, слову \"monday\" у векторі частотного подання буде відповідати код 46.\n",
    "\n",
    "Перетворимо новини до числового подання."
   ]
  },
  {
   "cell_type": "code",
   "execution_count": 12,
   "metadata": {},
   "outputs": [],
   "source": [
    "sequences = tokenizer.texts_to_sequences(news_train)"
   ]
  },
  {
   "cell_type": "markdown",
   "metadata": {},
   "source": [
    "Для перевірки результату можна переглянути текст деякої новини та відповідний їй вектор у частотному кодуванні."
   ]
  },
  {
   "cell_type": "code",
   "execution_count": 13,
   "metadata": {},
   "outputs": [
    {
     "name": "stdout",
     "output_type": "stream",
     "text": [
      "As the Olympic Games headed into the home straight, Argentina won their first Olympic gold medal in more than half a century when their soccer team beat Paraguay Saturday.\n",
      "[13, 1, 311, 234, 1835, 68, 1, 172, 561, 2681, 224, 31, 38, 311, 351, 670, 5, 45, 56, 287, 2, 1510, 78, 31, 1086, 120, 415, 99]\n"
     ]
    }
   ],
   "source": [
    "# Індекс новини для перегляду\n",
    "index = 3\n",
    "# Текст новини із початкового набору даних\n",
    "print(news_train[index])\n",
    "# Текст тієї ж новини у вигляді вектору частотного подання\n",
    "print(sequences[index])"
   ]
  },
  {
   "cell_type": "markdown",
   "metadata": {},
   "source": [
    "Переглянемо код із словника токенізатора для слова \"Games\" із розглянутої новини."
   ]
  },
  {
   "cell_type": "code",
   "execution_count": 14,
   "metadata": {},
   "outputs": [
    {
     "data": {
      "text/plain": [
       "234"
      ]
     },
     "execution_count": 14,
     "metadata": {},
     "output_type": "execute_result"
    }
   ],
   "source": [
    "tokenizer.word_index['games']"
   ]
  },
  {
   "cell_type": "markdown",
   "metadata": {},
   "source": [
    "Всі вхідні вектори для нейронної мережі мають бути однакової довжини. Однак, тексти кожної з новин мають різну кількість слів. Відповідно, вектори їх частотного подання також містять різну кількість елементів. Щоб виправити цю ситуацію, скористаємось функцією `pad_sequences()`. Ця функція буде доповнювати нулями вектори, які мають довжину меншу, ніж вказану у параметрі `maxlen`. А вектори, які є довшмими за `maxlen`, будуть обрізані."
   ]
  },
  {
   "cell_type": "code",
   "execution_count": 15,
   "metadata": {},
   "outputs": [],
   "source": [
    "x_train = pad_sequences(sequences, maxlen=max_news_len)"
   ]
  },
  {
   "cell_type": "markdown",
   "metadata": {},
   "source": [
    "Переглянемо перші 5 записів із навчального набору даних."
   ]
  },
  {
   "cell_type": "code",
   "execution_count": 16,
   "metadata": {},
   "outputs": [
    {
     "data": {
      "text/plain": [
       "array([[ 698, 1055,  159,    2, 7407,   64,   27,  550,  794,    5,    1,\n",
       "        2441,  149,    4, 7779,  259,   82,   16,    1,  302, 4330,    5,\n",
       "           2,  212,    4, 1075,  475,    5, 1808, 3059],\n",
       "       [   0,    0,    0,    0,    0,    0,    0,    0,    0,    0,    0,\n",
       "           0,    0,    0,    0,    0,    0,   39,    1,  129, 2588,  588,\n",
       "           7,   99,    3, 1622,  700, 6363,  235, 2324],\n",
       "       [  69,    4, 1364, 1408,    9, 2038,    1,   55,   59,    6,   73,\n",
       "        1572,    2, 1239,    4,   18, 6701,  486, 9757,    9,  229, 1112,\n",
       "          12,    2,  147,  136,  204, 3138,    7,   51],\n",
       "       [   0,    0,   13,    1,  311,  234, 1835,   68,    1,  172,  561,\n",
       "        2681,  224,   31,   38,  311,  351,  670,    5,   45,   56,  287,\n",
       "           2, 1510,   78,   31, 1086,  120,  415,   99],\n",
       "       [8043, 7639, 7640, 5420,    8,  322,  339,   18,    2, 1388, 3499,\n",
       "          68,    1,  102,  300,    4,    1,  311, 1368,  939,   89,   12,\n",
       "           2,  561, 2325,  142,   35, 2617,    4, 3324]])"
      ]
     },
     "execution_count": 16,
     "metadata": {},
     "output_type": "execute_result"
    }
   ],
   "source": [
    "x_train[:5]"
   ]
  },
  {
   "cell_type": "markdown",
   "metadata": {},
   "source": [
    "Тепер дані готові до їх аналізу нейронними мережами."
   ]
  },
  {
   "cell_type": "markdown",
   "metadata": {},
   "source": [
    "### <center>Класифікація текстів мережею LSTM"
   ]
  },
  {
   "cell_type": "markdown",
   "metadata": {},
   "source": [
    "Прошарки мережі LSTM складаються зі специфічних складних рекурентних модулів, які називаються комірками. Кожна комірка LSTM містить чотири спеціалізованих прошарки нейронів. Кількість нейронів у цих прошарках є зовнішнім параметром та задається аналітиком. На вхід прошарку LSTM обов'язково має бути подана послідовність. Зі скалярними величинами LSTM не працює. У зв'язку з цим, якщо мережа LSTM планується глибинною, то усі LSTM-прошарки, окрім останнього, повинні мати параметр `return_sequences=True`. Також можна задати різні активаційні функції, активувати дропаут для регуляризації, визначити метод ініціалізації ваг тощо. \n",
    "- З усіма доступними параметрами прошарків LSTM в Keras можна ознайомитись в [документації](https://keras.io/api/layers/recurrent_layers/lstm/)."
   ]
  },
  {
   "cell_type": "markdown",
   "metadata": {},
   "source": [
    "Створимо мережу LSTM для класифікації новин за темами. Мережа буде мати наступну архітектуру:\n",
    "- Прошарок *Embedding* для перетворення вхідних даних до формату щільних векторів. В параметрах прошарку вказуємо кількість слів у словнику щільного подання, розмірніть щільного вектора та довжину вхідного вектора.\n",
    "- Прошарок *LSTM*, який містить 16 нейронів.\n",
    "- Повнозв'язний вихідний прошарок для класифікації. Кількість нейронів має відповідати кількості класів у задачі категоріальної класифікації, або дорівнювати 1 у задачі бінарної класифікації."
   ]
  },
  {
   "cell_type": "code",
   "execution_count": 17,
   "metadata": {},
   "outputs": [],
   "source": [
    "model_lstm = Sequential()\n",
    "\n",
    "model_lstm.add(Embedding(num_words, 32, input_length=max_news_len))\n",
    "model_lstm.add(LSTM(16))\n",
    "model_lstm.add(Dense(4, activation='softmax'))"
   ]
  },
  {
   "cell_type": "markdown",
   "metadata": {},
   "source": [
    "Компілюємо модель. Вказуємо оптимізатор *adam*, критерій якості - *categorical_crossentropy* (для задачі категоріальної класифікації), метрику - *accuracy*."
   ]
  },
  {
   "cell_type": "code",
   "execution_count": 18,
   "metadata": {},
   "outputs": [],
   "source": [
    "model_lstm.compile(optimizer='adam', \n",
    "              loss='categorical_crossentropy', \n",
    "              metrics=['accuracy'])"
   ]
  },
  {
   "cell_type": "markdown",
   "metadata": {},
   "source": [
    "Переглянемо інформацію про створену модель."
   ]
  },
  {
   "cell_type": "code",
   "execution_count": 19,
   "metadata": {},
   "outputs": [
    {
     "name": "stdout",
     "output_type": "stream",
     "text": [
      "Model: \"sequential\"\n",
      "_________________________________________________________________\n",
      "Layer (type)                 Output Shape              Param #   \n",
      "=================================================================\n",
      "embedding (Embedding)        (None, 30, 32)            320000    \n",
      "_________________________________________________________________\n",
      "lstm (LSTM)                  (None, 16)                3136      \n",
      "_________________________________________________________________\n",
      "dense (Dense)                (None, 4)                 68        \n",
      "=================================================================\n",
      "Total params: 323,204\n",
      "Trainable params: 323,204\n",
      "Non-trainable params: 0\n",
      "_________________________________________________________________\n"
     ]
    }
   ],
   "source": [
    "model_lstm.summary()"
   ]
  },
  {
   "cell_type": "markdown",
   "metadata": {},
   "source": [
    "Створюємо callback у вигляді класу ModelCheckpoint для збереження нейронної мережі на кожній епосі, якщо якість роботи на валідаційному наборі даних покращилась. Найкраща мережа автоматично зберігається до файлу *best_model_lstm.h5*. В якості параметру для моніторингу вказуємо долю правильних відповідей на валідаційній множині *val_accuracy*. Будемо зберігати лише найкращу модель (`save_best_only=True`).\n",
    "\n",
    "- Детальніше про роботу даної функції зворотного виклику можна прочитати в [документації](https://keras.io/api/callbacks/model_checkpoint)."
   ]
  },
  {
   "cell_type": "code",
   "execution_count": 20,
   "metadata": {},
   "outputs": [],
   "source": [
    "model_lstm_save_path = 'best_model_lstm.h5'\n",
    "checkpoint_callback_lstm = ModelCheckpoint(model_lstm_save_path, \n",
    "                                      monitor='val_accuracy',\n",
    "                                      save_best_only=True,\n",
    "                                      verbose=1)"
   ]
  },
  {
   "cell_type": "markdown",
   "metadata": {},
   "source": [
    "Навчаємо мережу. В якості функції зворотного виклику вказуємо щойно створений об'єкт *checkpoint_callback_lstm*."
   ]
  },
  {
   "cell_type": "code",
   "execution_count": 21,
   "metadata": {
    "scrolled": true
   },
   "outputs": [
    {
     "name": "stdout",
     "output_type": "stream",
     "text": [
      "Epoch 1/5\n",
      "802/808 [============================>.] - ETA: 0s - loss: 0.5397 - accuracy: 0.7979\n",
      "Epoch 00001: val_accuracy improved from -inf to 0.89307, saving model to best_model_lstm.h5\n",
      "808/808 [==============================] - 6s 7ms/step - loss: 0.5384 - accuracy: 0.7985 - val_loss: 0.3294 - val_accuracy: 0.8931\n",
      "Epoch 2/5\n",
      "799/808 [============================>.] - ETA: 0s - loss: 0.2844 - accuracy: 0.9094\n",
      "Epoch 00002: val_accuracy improved from 0.89307 to 0.89507, saving model to best_model_lstm.h5\n",
      "808/808 [==============================] - 5s 6ms/step - loss: 0.2843 - accuracy: 0.9094 - val_loss: 0.3132 - val_accuracy: 0.8951\n",
      "Epoch 3/5\n",
      "801/808 [============================>.] - ETA: 0s - loss: 0.2443 - accuracy: 0.9224\n",
      "Epoch 00003: val_accuracy did not improve from 0.89507\n",
      "808/808 [==============================] - 5s 6ms/step - loss: 0.2441 - accuracy: 0.9224 - val_loss: 0.3144 - val_accuracy: 0.8917\n",
      "Epoch 4/5\n",
      "808/808 [==============================] - ETA: 0s - loss: 0.2190 - accuracy: 0.9298\n",
      "Epoch 00004: val_accuracy did not improve from 0.89507\n",
      "808/808 [==============================] - 5s 6ms/step - loss: 0.2190 - accuracy: 0.9298 - val_loss: 0.3273 - val_accuracy: 0.8892\n",
      "Epoch 5/5\n",
      "804/808 [============================>.] - ETA: 0s - loss: 0.1981 - accuracy: 0.9363\n",
      "Epoch 00005: val_accuracy did not improve from 0.89507\n",
      "808/808 [==============================] - 5s 6ms/step - loss: 0.1983 - accuracy: 0.9362 - val_loss: 0.3363 - val_accuracy: 0.8886\n"
     ]
    }
   ],
   "source": [
    "history_lstm = model_lstm.fit(x_train, \n",
    "                              y_train, \n",
    "                              epochs=5,\n",
    "                              batch_size=128,\n",
    "                              validation_split=0.1,\n",
    "                              callbacks=[checkpoint_callback_lstm])"
   ]
  },
  {
   "cell_type": "markdown",
   "metadata": {},
   "source": [
    "Як видно з історії, найкращий результат на валідаційній множині мережа показувала на другій епосі. Саме ця модель була збережена до файлу *best_model_lstm.h5*. \n",
    "\n",
    "Переглянемо графік навчання."
   ]
  },
  {
   "cell_type": "code",
   "execution_count": 22,
   "metadata": {},
   "outputs": [
    {
     "data": {
      "image/png": "[encoded data removed]",
      "text/plain": [
       "<Figure size 432x288 with 1 Axes>"
      ]
     },
     "metadata": {
      "needs_background": "light"
     },
     "output_type": "display_data"
    }
   ],
   "source": [
    "plt.plot(history_lstm.history['accuracy'])\n",
    "plt.plot(history_lstm.history['val_accuracy'])\n",
    "plt.title('Model accuracy')\n",
    "plt.ylabel('accuracy')\n",
    "plt.xlabel('Epoch')\n",
    "plt.legend(['Train', 'Val'], loc='upper left')\n",
    "plt.show()"
   ]
  },
  {
   "cell_type": "markdown",
   "metadata": {},
   "source": [
    "Дійсно, з графіку видно, що після другої епохи виникає перенавчання. Callback спрацював коректно."
   ]
  },
  {
   "cell_type": "markdown",
   "metadata": {},
   "source": [
    "### <center>Класифікація текстів мережею GRU"
   ]
  },
  {
   "cell_type": "markdown",
   "metadata": {},
   "source": [
    "Робота з мережами GRU є повністю аналогічною роботі з LSTM, оскільки GRU по суті є спрощеною версією LSTM. Рекурентні модулі в прошарках GRU називаються юнітами. Практично всі параметри прошарків GRU є ідентичними до параметрів LSTM.\n",
    "\n",
    "- [Повний опис прошарків GRU в Keras](https://keras.io/api/layers/recurrent_layers/gru/)"
   ]
  },
  {
   "cell_type": "markdown",
   "metadata": {},
   "source": [
    "Створимо мережу GRU для класифікації новин за темами. Архітектура цієї мережі буде повністю аналогічною до попередньо розглянутої LSTM. Лише замінимо прошарок LSTM на прошарок GRU."
   ]
  },
  {
   "cell_type": "code",
   "execution_count": 23,
   "metadata": {},
   "outputs": [],
   "source": [
    "model_gru = Sequential()\n",
    "\n",
    "model_gru.add(Embedding(num_words, 32, input_length=max_news_len))\n",
    "model_gru.add(GRU(16))\n",
    "model_gru.add(Dense(4, activation='softmax'))"
   ]
  },
  {
   "cell_type": "markdown",
   "metadata": {},
   "source": [
    "Компілюємо модель."
   ]
  },
  {
   "cell_type": "code",
   "execution_count": 24,
   "metadata": {},
   "outputs": [],
   "source": [
    "model_gru.compile(optimizer='adam', \n",
    "              loss='categorical_crossentropy', \n",
    "              metrics=['accuracy'])"
   ]
  },
  {
   "cell_type": "code",
   "execution_count": 25,
   "metadata": {},
   "outputs": [
    {
     "name": "stdout",
     "output_type": "stream",
     "text": [
      "Model: \"sequential_1\"\n",
      "_________________________________________________________________\n",
      "Layer (type)                 Output Shape              Param #   \n",
      "=================================================================\n",
      "embedding_1 (Embedding)      (None, 30, 32)            320000    \n",
      "_________________________________________________________________\n",
      "gru (GRU)                    (None, 16)                2400      \n",
      "_________________________________________________________________\n",
      "dense_1 (Dense)              (None, 4)                 68        \n",
      "=================================================================\n",
      "Total params: 322,468\n",
      "Trainable params: 322,468\n",
      "Non-trainable params: 0\n",
      "_________________________________________________________________\n"
     ]
    }
   ],
   "source": [
    "model_gru.summary()"
   ]
  },
  {
   "cell_type": "markdown",
   "metadata": {},
   "source": [
    "Створюємо callback для збереження нейронної мережі на кожній епосі, якщо якість роботи на валідаційному наборі даних покращилась. Найкраща мережа зберігається до файлу *best_model_gru.h5*."
   ]
  },
  {
   "cell_type": "code",
   "execution_count": 26,
   "metadata": {},
   "outputs": [],
   "source": [
    "model_gru_save_path = 'best_model_gru.h5'\n",
    "checkpoint_callback_gru = ModelCheckpoint(model_gru_save_path, \n",
    "                                      monitor='val_accuracy',\n",
    "                                      save_best_only=True,\n",
    "                                      verbose=1)"
   ]
  },
  {
   "cell_type": "markdown",
   "metadata": {},
   "source": [
    "Навчаємо модель."
   ]
  },
  {
   "cell_type": "code",
   "execution_count": 27,
   "metadata": {
    "scrolled": true
   },
   "outputs": [
    {
     "name": "stdout",
     "output_type": "stream",
     "text": [
      "Epoch 1/5\n",
      "800/808 [============================>.] - ETA: 0s - loss: 0.5557 - accuracy: 0.7994\n",
      "Epoch 00001: val_accuracy improved from -inf to 0.88750, saving model to best_model_gru.h5\n",
      "808/808 [==============================] - 5s 7ms/step - loss: 0.5535 - accuracy: 0.8002 - val_loss: 0.3372 - val_accuracy: 0.8875\n",
      "Epoch 2/5\n",
      "808/808 [==============================] - ETA: 0s - loss: 0.2903 - accuracy: 0.9059\n",
      "Epoch 00002: val_accuracy improved from 0.88750 to 0.89281, saving model to best_model_gru.h5\n",
      "808/808 [==============================] - 5s 6ms/step - loss: 0.2903 - accuracy: 0.9059 - val_loss: 0.3204 - val_accuracy: 0.8928\n",
      "Epoch 3/5\n",
      "801/808 [============================>.] - ETA: 0s - loss: 0.2477 - accuracy: 0.9201\n",
      "Epoch 00003: val_accuracy improved from 0.89281 to 0.89394, saving model to best_model_gru.h5\n",
      "808/808 [==============================] - 5s 6ms/step - loss: 0.2473 - accuracy: 0.9201 - val_loss: 0.3163 - val_accuracy: 0.8939\n",
      "Epoch 4/5\n",
      "801/808 [============================>.] - ETA: 0s - loss: 0.2217 - accuracy: 0.9278 ETA: 0s - loss: 0.2200 - \n",
      "Epoch 00004: val_accuracy did not improve from 0.89394\n",
      "808/808 [==============================] - 5s 6ms/step - loss: 0.2218 - accuracy: 0.9278 - val_loss: 0.3304 - val_accuracy: 0.8898\n",
      "Epoch 5/5\n",
      "806/808 [============================>.] - ETA: 0s - loss: 0.2041 - accuracy: 0.9337\n",
      "Epoch 00005: val_accuracy did not improve from 0.89394\n",
      "808/808 [==============================] - 5s 6ms/step - loss: 0.2040 - accuracy: 0.9337 - val_loss: 0.3390 - val_accuracy: 0.8878\n"
     ]
    }
   ],
   "source": [
    "history_gru = model_gru.fit(x_train, \n",
    "                              y_train, \n",
    "                              epochs=5,\n",
    "                              batch_size=128,\n",
    "                              validation_split=0.1,\n",
    "                              callbacks=[checkpoint_callback_gru])"
   ]
  },
  {
   "cell_type": "markdown",
   "metadata": {},
   "source": [
    "Найкраща модель була отримана на третій епосі.\n",
    "\n",
    "Переглянемо графік навчання."
   ]
  },
  {
   "cell_type": "code",
   "execution_count": 29,
   "metadata": {},
   "outputs": [
    {
     "data": {
      "image/png": "[encoded data removed]",
      "text/plain": [
       "<Figure size 432x288 with 1 Axes>"
      ]
     },
     "metadata": {
      "needs_background": "light"
     },
     "output_type": "display_data"
    }
   ],
   "source": [
    "plt.plot(history_gru.history['accuracy'])\n",
    "plt.plot(history_gru.history['val_accuracy'])\n",
    "plt.title('Model accuracy')\n",
    "plt.ylabel('accuracy')\n",
    "plt.xlabel('Epoch')\n",
    "plt.legend(['Train', 'Val'], loc='upper left')\n",
    "plt.show()"
   ]
  },
  {
   "cell_type": "markdown",
   "metadata": {},
   "source": [
    "З графіку видно, що після третьої епохи виникає перенавчання."
   ]
  },
  {
   "cell_type": "markdown",
   "metadata": {},
   "source": [
    "### <center>Оцінка результативності мереж LSTM та GRU на тестових даних"
   ]
  },
  {
   "cell_type": "markdown",
   "metadata": {},
   "source": [
    "Проведемо оцінку якості роботи обох навчених мереж на тестовій множині. Для цього спочатку перетворимо тестові дані у формат частотного подання слів."
   ]
  },
  {
   "cell_type": "code",
   "execution_count": 30,
   "metadata": {},
   "outputs": [],
   "source": [
    "test_sequences = tokenizer.texts_to_sequences(news_test)"
   ]
  },
  {
   "cell_type": "markdown",
   "metadata": {},
   "source": [
    "Вирівняємо довжини векторів у тестовому наборі даних."
   ]
  },
  {
   "cell_type": "code",
   "execution_count": 31,
   "metadata": {},
   "outputs": [],
   "source": [
    "x_test = pad_sequences(test_sequences, maxlen=max_news_len)"
   ]
  },
  {
   "cell_type": "markdown",
   "metadata": {},
   "source": [
    "Переглянемо перші 5 записів із тестового набору даних."
   ]
  },
  {
   "cell_type": "code",
   "execution_count": 32,
   "metadata": {},
   "outputs": [
    {
     "data": {
      "text/plain": [
       "array([[  14,  913,   12,   14,    4, 3020, 3913,    5,   21,   61,    6,\n",
       "          14, 5958,   15,    1,  885,    4, 1318, 1365,  512,  164,  451,\n",
       "        1755,   19,    3,   30,  154,  215, 2847,  105],\n",
       "       [   1, 8048,   19,   27,  178,    3,    5, 9245,    6,   90,  549,\n",
       "           2, 5703,  145, 1092,   12, 2509,    4, 3799,  105,  304,   17,\n",
       "           2,   12,    1,  176,  515,  517,    5,  799],\n",
       "       [  57,   10, 7398, 2339,    7,   49,    6,  389, 9851, 3924,  283,\n",
       "         815,  267,   28,  129,   17,   14, 1143,   74, 3708,  811,  674,\n",
       "           4,    1, 2712,  915,  149,  326,    4,  269],\n",
       "       [  13,   31,   21,  478,   58,  103,    1, 2157,  596,   17,   36,\n",
       "        4538, 1437, 1327,   11,  602, 4691,   20,   70, 2572,  478,   12,\n",
       "        2961, 2149,   36, 4538,   17,    5,    2, 1100],\n",
       "       [   0,   24,   15,  157,   77,    7,   51,   17,   19,   27, 7093,\n",
       "           1,  417,    7,   14,  117, 1326,  160,   18,  405,  145,  404,\n",
       "         146, 7159,    1,  417,   23,  438,  141, 7465]])"
      ]
     },
     "execution_count": 32,
     "metadata": {},
     "output_type": "execute_result"
    }
   ],
   "source": [
    "x_test[:5]"
   ]
  },
  {
   "cell_type": "markdown",
   "metadata": {},
   "source": [
    "Проведемо оцінку якості роботи мережі LSTM на тестовій множині. Для цього завантажимо ваги найкращої моделі."
   ]
  },
  {
   "cell_type": "code",
   "execution_count": 33,
   "metadata": {},
   "outputs": [],
   "source": [
    "model_lstm.load_weights(model_lstm_save_path)"
   ]
  },
  {
   "cell_type": "markdown",
   "metadata": {},
   "source": [
    "Тестуємо."
   ]
  },
  {
   "cell_type": "code",
   "execution_count": 34,
   "metadata": {},
   "outputs": [
    {
     "name": "stdout",
     "output_type": "stream",
     "text": [
      "399/399 [==============================] - 1s 2ms/step - loss: 0.3140 - accuracy: 0.8978\n"
     ]
    },
    {
     "data": {
      "text/plain": [
       "[0.3140435516834259, 0.8978056311607361]"
      ]
     },
     "execution_count": 34,
     "metadata": {},
     "output_type": "execute_result"
    }
   ],
   "source": [
    "model_lstm.evaluate(x_test, y_test, verbose=1)"
   ]
  },
  {
   "cell_type": "markdown",
   "metadata": {},
   "source": [
    "Виконаємо аналогічну перевірку для мережі GRU."
   ]
  },
  {
   "cell_type": "code",
   "execution_count": 35,
   "metadata": {},
   "outputs": [],
   "source": [
    "model_gru.load_weights(model_gru_save_path)"
   ]
  },
  {
   "cell_type": "code",
   "execution_count": 36,
   "metadata": {},
   "outputs": [
    {
     "name": "stdout",
     "output_type": "stream",
     "text": [
      "399/399 [==============================] - 1s 2ms/step - loss: 0.3135 - accuracy: 0.8976\n"
     ]
    },
    {
     "data": {
      "text/plain": [
       "[0.3135139048099518, 0.8976489305496216]"
      ]
     },
     "execution_count": 36,
     "metadata": {},
     "output_type": "execute_result"
    }
   ],
   "source": [
    "model_gru.evaluate(x_test, y_test, verbose=1)"
   ]
  },
  {
   "cell_type": "markdown",
   "metadata": {},
   "source": [
    "На основі отриманих результатів робимо висновок, що якість обох моделей є практично однаковою. Обидві мережі показали долю правильних відповідей на тестовій множині на рівні  близько 89,8%."
   ]
  },
  {
   "cell_type": "markdown",
   "metadata": {},
   "source": [
    "### <center>Перевірка роботи мереж на власних даних"
   ]
  },
  {
   "cell_type": "markdown",
   "metadata": {},
   "source": [
    "Застосуємо навчені мережі для класифікації довільного тексту. Для прикладу візьмемо перші два речення з [новини про чіпування котів](https://www.bbc.com/news/science-environment-57068182)."
   ]
  },
  {
   "cell_type": "code",
   "execution_count": 98,
   "metadata": {},
   "outputs": [],
   "source": [
    "my_news = [\"Microchipping pet cats will become compulsory under a wide-ranging new animal welfare plan.\\\n",
    "Environment Secretary George Eustice told the BBC the policy would be monitored by vets \\\n",
    "and enforced in the same way as it is for dogs, which he said has led to over 90% compliance.\"]"
   ]
  },
  {
   "cell_type": "code",
   "execution_count": 99,
   "metadata": {},
   "outputs": [
    {
     "data": {
      "text/plain": [
       "['Microchipping pet cats will become compulsory under a wide-ranging new animal welfare plan.Environment Secretary George Eustice told the BBC the policy would be monitored by vets and enforced in the same way as it is for dogs, which he said has led to over 90% compliance.']"
      ]
     },
     "execution_count": 99,
     "metadata": {},
     "output_type": "execute_result"
    }
   ],
   "source": [
    "my_news"
   ]
  },
  {
   "cell_type": "markdown",
   "metadata": {},
   "source": [
    "Перетворимо текст новини до частотного подання. Зверніть увагу, що має використовуватись той самий токенізатор, що і для навчальних даних."
   ]
  },
  {
   "cell_type": "code",
   "execution_count": 106,
   "metadata": {},
   "outputs": [],
   "source": [
    "my_sequence = tokenizer.texts_to_sequences(my_news)"
   ]
  },
  {
   "cell_type": "code",
   "execution_count": 107,
   "metadata": {
    "scrolled": true
   },
   "outputs": [
    {
     "data": {
      "text/plain": [
       "[[9964,\n",
       "  7748,\n",
       "  26,\n",
       "  549,\n",
       "  204,\n",
       "  2,\n",
       "  1206,\n",
       "  3755,\n",
       "  21,\n",
       "  4699,\n",
       "  8453,\n",
       "  292,\n",
       "  2511,\n",
       "  562,\n",
       "  734,\n",
       "  491,\n",
       "  1,\n",
       "  2649,\n",
       "  1,\n",
       "  890,\n",
       "  81,\n",
       "  30,\n",
       "  18,\n",
       "  6,\n",
       "  5,\n",
       "  1,\n",
       "  600,\n",
       "  245,\n",
       "  13,\n",
       "  19,\n",
       "  16,\n",
       "  8,\n",
       "  5597,\n",
       "  84,\n",
       "  41,\n",
       "  17,\n",
       "  20,\n",
       "  395,\n",
       "  3,\n",
       "  35,\n",
       "  1995,\n",
       "  6534]]"
      ]
     },
     "execution_count": 107,
     "metadata": {},
     "output_type": "execute_result"
    }
   ],
   "source": [
    "my_sequence"
   ]
  },
  {
   "cell_type": "markdown",
   "metadata": {},
   "source": [
    "Вирівняємо довжину отриманого вектора."
   ]
  },
  {
   "cell_type": "code",
   "execution_count": 102,
   "metadata": {},
   "outputs": [],
   "source": [
    "x_my = pad_sequences(my_sequence, maxlen=max_news_len)"
   ]
  },
  {
   "cell_type": "markdown",
   "metadata": {},
   "source": [
    "Запишемо назви класів."
   ]
  },
  {
   "cell_type": "code",
   "execution_count": 103,
   "metadata": {},
   "outputs": [],
   "source": [
    "class_names = ['Світ', 'Спорт', 'Бізнес', 'Технології']"
   ]
  },
  {
   "cell_type": "markdown",
   "metadata": {},
   "source": [
    "Використаємо мережу LSTM для класифікації даного тексту."
   ]
  },
  {
   "cell_type": "code",
   "execution_count": 108,
   "metadata": {},
   "outputs": [],
   "source": [
    "prediction_lstm = model_lstm.predict(x_my)\n",
    "score_lstm = np.max(prediction_lstm)\n",
    "prediction_lstm = np.argmax(prediction_lstm)"
   ]
  },
  {
   "cell_type": "code",
   "execution_count": 110,
   "metadata": {},
   "outputs": [
    {
     "name": "stdout",
     "output_type": "stream",
     "text": [
      "Категорія новини: Технології \n",
      "Достовірність 77.81 %\n"
     ]
    }
   ],
   "source": [
    "print(f'Категорія новини: {class_names[prediction_lstm]} \\nДостовірність {score_lstm*100:.2f} %')"
   ]
  },
  {
   "cell_type": "markdown",
   "metadata": {},
   "source": [
    "Аналогічно застосуємо мережу GRU."
   ]
  },
  {
   "cell_type": "code",
   "execution_count": 111,
   "metadata": {},
   "outputs": [],
   "source": [
    "prediction_gru = model_gru.predict(x_my)\n",
    "score_gru = np.max(prediction_gru)\n",
    "prediction_gru = np.argmax(prediction_gru)"
   ]
  },
  {
   "cell_type": "code",
   "execution_count": 112,
   "metadata": {},
   "outputs": [
    {
     "name": "stdout",
     "output_type": "stream",
     "text": [
      "Категорія новини: Світ \n",
      "Достовірність 73.93 %\n"
     ]
    }
   ],
   "source": [
    "print(f'Категорія новини: {class_names[prediction_gru]} \\nДостовірність {score_gru*100:.2f} %')"
   ]
  },
  {
   "cell_type": "markdown",
   "metadata": {},
   "source": [
    "Як бачимо, на практиці мережа GRU гірше впоралась із класифікацією, адже насправді новина належить до категорії \"Технології\". Водночас, текст новини є мультикласовим, тобто її можна віднести до декількох категорій. І категорія \"Світ\" також є прийнятною для даної новини."
   ]
  }
 ],
 "metadata": {
  "kernelspec": {
   "display_name": "Python 3 (ipykernel)",
   "language": "python",
   "name": "python3"
  },
  "language_info": {
   "codemirror_mode": {
    "name": "ipython",
    "version": 3
   },
   "file_extension": ".py",
   "mimetype": "text/x-python",
   "name": "python",
   "nbconvert_exporter": "python",
   "pygments_lexer": "ipython3",
   "version": "3.7.0"
  }
 },
 "nbformat": 4,
 "nbformat_minor": 4
}
