{
 "cells": [
  {
   "cell_type": "markdown",
   "metadata": {},
   "source": [
    "# <center>Тема 7\n",
    "## <center>Підготовка власного набору даних. Transfer learning"
   ]
  },
  {
   "cell_type": "markdown",
   "metadata": {},
   "source": [
    "### <center>Підготовка власного набору даних"
   ]
  },
  {
   "cell_type": "markdown",
   "metadata": {},
   "source": [
    "Для роботи зі згортковими нейронними мережами доводиться використовувати навчальні набори даних, які складаються з декількох тисяч зображень. Підготовка навчальних даних в такому випадку є відповідальним та затратним етапом. З метою пришвидшення цього процесу, розбиття початкового набору даних на навчальну, валідаційну та тестову множини можна автоматизувати. Розглянемо приклад, як це зробити за допомогою засобів Python.\n",
    "\n",
    "Завдання полягає у наступному: необхідно навчити нейронну мережу розпізнавати персонажів фільмів \"Зоряні війни\". Початковий набір даних представлений у вигляді базового каталогу, що містить папки із зображеннями персонажів, які відносяться до різних класів. Необхідно на базі цього початкового набору сформувати навчальну, валідаційну та тестову підмножини даних. Кожна підмножина повинна складатись з основного каталогу, в якому у різних папках будуть розміщені зображення відповідних класів.\n",
    "\n",
    "Для початку роботи, імпортуємо модулі для роботи з файловою системою."
   ]
  },
  {
   "cell_type": "code",
   "execution_count": 1,
   "metadata": {},
   "outputs": [],
   "source": [
    "import shutil\n",
    "import os"
   ]
  },
  {
   "cell_type": "markdown",
   "metadata": {},
   "source": [
    "Задамо значення необхідних змінних, долю валідаційної та тестової підмножини відносно початкового набору даних, а також імпортуємо імена класів. Пам'ятаємо, що папки в кожному головному каталозі повинні мати назву, яка відповідає конкретному класу, зображення якого розміщені всередині папки."
   ]
  },
  {
   "cell_type": "code",
   "execution_count": 4,
   "metadata": {},
   "outputs": [],
   "source": [
    "# Каталог з початковим набором даних\n",
    "data_dir = 'C:/Drive/ІІС/Datasets/Transfer/star_wars/images'\n",
    "# Каталог з даними для навчання\n",
    "train_dir = 'C:/Drive/ІІС/Datasets/Transfer/star_wars/train'\n",
    "# Каталог з даними для валідації\n",
    "val_dir = 'C:/Drive/ІІС/Datasets/Transfer/star_wars/valid'\n",
    "# Каталог з даними для тестування\n",
    "test_dir = 'C:/Drive/ІІС/Datasets/Transfer/star_wars/test'\n",
    "\n",
    "# Доля набору даних для валідації\n",
    "val_data_portion = 0.15\n",
    "# Доля набору даних для тестування\n",
    "test_data_portion = 0.15\n",
    "\n",
    "# Імпортуємо назви класів (як назви папок з початкового каталогу)\n",
    "classes = os.listdir(data_dir)"
   ]
  },
  {
   "cell_type": "markdown",
   "metadata": {},
   "source": [
    "Оголосимо функцію для створення каталогів. Дана функція створить головний каталог підмножини, а також пучті папки для кожного із класів."
   ]
  },
  {
   "cell_type": "code",
   "execution_count": 44,
   "metadata": {},
   "outputs": [],
   "source": [
    "def create_directory(dir_name):\n",
    "    if os.path.exists(dir_name):\n",
    "        shutil.rmtree(dir_name)\n",
    "    os.makedirs(dir_name)\n",
    "    for name in classes:\n",
    "        os.makedirs(os.path.join(dir_name, name))"
   ]
  },
  {
   "cell_type": "markdown",
   "metadata": {},
   "source": [
    "Використаємо написану функцію для створення каталогів для навчальної, валідаційної та тестової підмножин."
   ]
  },
  {
   "cell_type": "code",
   "execution_count": 45,
   "metadata": {},
   "outputs": [],
   "source": [
    "create_directory(train_dir)\n",
    "create_directory(val_dir)\n",
    "create_directory(test_dir)"
   ]
  },
  {
   "cell_type": "markdown",
   "metadata": {},
   "source": [
    "Напишемо функцію для копіювання зображень із початкового набору даних до відповідного каталогу. Функція прийматиме наступні аргументи:\n",
    "- `start_indexes` - список, який містить номери зображень, починаючи з яких потрібно виконувати копіювання (для кожного класу).\n",
    "- `end_indexes` - список, який містить номери зображень, якими треба завершити копіювання (для кожного класу);\n",
    "- `source_dir` - адреса початкового каталогу (з якого копіювати);\n",
    "- `dest_dir` - адреса каталогу призначення (до якого копіювати).\n",
    "\n",
    "Наприклад, у деякому початковому каталозі *source* є дві папки (два класи), які містять по 100 зображень. Потрібно сформувати валідаційну підмножину, яка буде розміщена в каталозі *destination*. В якості вибірки валідації обмеремо 15 останніх зображень із початкового набору (для кожного класу). Тоді аргументами створюваної функції `copy_images()` будуть: \n",
    "\n",
    "`copy_images(start_indexes = [74, 74], [99,99], source, destination)`\n",
    "\n",
    "Варто зазначити, що списки із початковими та кінцевими індексами будуть формуватись автоматично за допомогою функції, яку ми напишемо на наступному етапі."
   ]
  },
  {
   "cell_type": "code",
   "execution_count": 78,
   "metadata": {},
   "outputs": [],
   "source": [
    "def copy_images(start_indexes, end_indexes, source_dir, dest_dir):\n",
    "    \n",
    "    k = 0\n",
    "    for name in classes:\n",
    "        curr_dir = source_dir + '/' + name\n",
    "        files = os.listdir(curr_dir)\n",
    "                \n",
    "        for i, file in enumerate(files):\n",
    "            if start_indexes[k] <= i < end_indexes[k]:\n",
    "                        shutil.copy2(os.path.join(curr_dir, file), \n",
    "                                     os.path.join(dest_dir, name))\n",
    "        k += 1"
   ]
  },
  {
   "cell_type": "markdown",
   "metadata": {},
   "source": [
    "Тепер створимо функцію для формування підмножин даних. Така функція прийматиме наступні аргуметни:\n",
    "\n",
    "- `source_dir` - адреса початкового каталогу;\n",
    "- `dest_dir` - адреса каталогу призначення\n",
    "- `subset` - підмножина (навчальна, валідаційна або тестова / 'train', 'val', 'test').\n",
    "\n",
    "Всередині функції `create_dataset()` автоматично визначаються індекси початкових та кінцевих зображень (кожного класу) для кожної підмножини, а потім викликається раніше створена функція `copy_images()` для копіювання зображені із початкового набору до відповідного каталогу вказаної підмножини."
   ]
  },
  {
   "cell_type": "code",
   "execution_count": 102,
   "metadata": {},
   "outputs": [],
   "source": [
    "def create_dataset(source_dir, dest_dir, subset):\n",
    "    start_val_data_idxs = []\n",
    "    start_test_data_idxs = []\n",
    "    end_data_idxs = []\n",
    "    \n",
    "    if subset == 'train':\n",
    "        for name in classes:\n",
    "            nb_of_images = int(len(os.listdir(source_dir + '/' + name)))\n",
    "            start_val_data_idxs.append(nb_of_images * (1 - val_data_portion - test_data_portion))\n",
    "        \n",
    "        copy_images([0]*len(classes), start_val_data_idxs, source_dir, dest_dir)\n",
    "        \n",
    "    elif subset == 'val':\n",
    "        for name in classes:\n",
    "            nb_of_images = int(len(os.listdir(source_dir + '/' + name)))\n",
    "            start_val_data_idxs.append(int(nb_of_images * (1 - val_data_portion - test_data_portion)))\n",
    "            start_test_data_idxs.append(int(nb_of_images * (1 - test_data_portion))) \n",
    "        \n",
    "        copy_images(start_val_data_idxs, start_test_data_idxs, source_dir, dest_dir)\n",
    "        \n",
    "    elif subset == 'test':\n",
    "        for name in classes:\n",
    "            nb_of_images = int(len(os.listdir(source_dir + '/' + name)))\n",
    "            start_test_data_idxs.append(int(nb_of_images * (1 - test_data_portion))) \n",
    "            end_data_idxs.append(nb_of_images) \n",
    "            \n",
    "        copy_images(start_test_data_idxs, end_data_idxs, source_dir, dest_dir)\n",
    "        \n",
    "    else:\n",
    "        print('subset має бути \"train\", \"val\" або \"test\"!')"
   ]
  },
  {
   "cell_type": "markdown",
   "metadata": {},
   "source": [
    "Застосуємо функцію `create_dataset()` для створення всіх необхідних підмножин даних (навчальна, валідаційна, тестова). В результаті, будуть створені відповідні каталоги, які матимуть структуру, необхідну для подальшої роботи з нейронною мережею."
   ]
  },
  {
   "cell_type": "code",
   "execution_count": 106,
   "metadata": {},
   "outputs": [],
   "source": [
    "create_dataset(data_dir, train_dir, 'train')\n",
    "create_dataset(data_dir, val_dir, 'val')\n",
    "create_dataset(data_dir, test_dir, 'test')"
   ]
  },
  {
   "cell_type": "markdown",
   "metadata": {},
   "source": [
    "### <center>Transfer learning"
   ]
  },
  {
   "cell_type": "markdown",
   "metadata": {},
   "source": [
    "Навчання глибинних нейронних мереж може займати декілька днів і навіть тижнів. В такому випадку, у разі незадовільного результату, ціна помилки буде дуже великою. Тому що на перенавчання буде витрачено занадто багато часу. У зв'язку з цим, популярним є підхід, який назвивається *transfer learning* - перенесення навчання. Він полягає в тому, що вже колись навчена нейронна мережа з відомою архітектурою використовується для вирішення нових задач, тобто не тих, для яких вона навчалась. Це досягається завдяки наступним крокам:\n",
    "1. Імпортується навчена мережа з відомою архітектурою.\n",
    "2. З мережі видаляються останні прошарки, які відповадають за класифікацію (так звана \"вершина\" (top, head) мережі).\n",
    "3. Замість видалених прошарків створюються нові. Архітектура цих нових прошарків має відповідати новій задачі, яку повинна буде вирішувати нейронна мережа.\n",
    "\n",
    "Чому це працює? Справа в тому, що навчена нейронна мережа вже вміє якісно виділяти значущі ознаки із зображення. Тобто немає сенсу знову навчати її знаходити аналоги ознак Хаара - мережа і так вміє це робити, оскільки всі значення синаптичних ваг згорткових прошарків були встановлені під час попереднього навчання. Єдине, що залишається, це навчити мережу правильно класифікувати об'єкти за тим набором ознак, які вона виділить із зображення. Таким чином, у разі використання *transfer learning* навчається лише та частина мережі, яка відповідає за класифікацію. Це дозволяє значно пришвидшити навчання, а також покращити його якість (оскільки показники ефективності роботи мережі відомі заздалегідь)."
   ]
  },
  {
   "cell_type": "markdown",
   "metadata": {},
   "source": [
    "Застосуємо підхід *transfer learning* для навчання нейронної мережі для класифікації персонажів фільмів \"Зоряні війни\". В якості попередньо навченої мережі імпортуємо мережу VGG16 з набором синаптичних ваг, отриманих в результаті навчання на наборі даних *ImageNet*. Цей набір містить 1000 різних класів об'єктів, і мережа VGG16 вже вміє проводити їх класифікацію з високою достовірністю. Але в даній задачі ми будемо застосовувати мережу VGG16 для класифікації всього лише 8 типів об'єктів. Більше того, дані об'єкти не зустрічались мережі під час попереднього навчання. Тому прошарки мережі, які відповідають за класифікацію, потрібно буде відкинути, і замість них створити та навчити свої власні.\n",
    "\n",
    "Для початку, імпортуємо необхідні модулі (серед яких і сама мережа VGG16)."
   ]
  },
  {
   "cell_type": "code",
   "execution_count": 1,
   "metadata": {},
   "outputs": [],
   "source": [
    "import os\n",
    "import numpy as np\n",
    "import tensorflow as tf\n",
    "from tensorflow.keras.preprocessing.image import ImageDataGenerator\n",
    "from tensorflow.keras.models import Sequential\n",
    "from tensorflow.keras.layers import Activation, Dropout, Flatten, Dense\n",
    "from tensorflow.keras.optimizers import Adam\n",
    "from keras.preprocessing import image\n",
    "\n",
    "from tensorflow.keras.applications import VGG16\n",
    "\n",
    "import matplotlib.pyplot as plt"
   ]
  },
  {
   "cell_type": "markdown",
   "metadata": {},
   "source": [
    "Задамо оптимальні параметри роботи відеокарти."
   ]
  },
  {
   "cell_type": "code",
   "execution_count": null,
   "metadata": {},
   "outputs": [],
   "source": [
    "from tensorflow.compat.v1 import ConfigProto\n",
    "from tensorflow.compat.v1 import InteractiveSession\n",
    "\n",
    "config = ConfigProto()\n",
    "config.gpu_options.per_process_gpu_memory_fraction = 0.6\n",
    "session = InteractiveSession(config=config)\n",
    "\n",
    "physical_devices = tf.config.list_physical_devices('GPU') \n",
    "tf.config.experimental.set_memory_growth(physical_devices[0], True)"
   ]
  },
  {
   "cell_type": "markdown",
   "metadata": {},
   "source": [
    "Вкажемо початкові налаштування."
   ]
  },
  {
   "cell_type": "code",
   "execution_count": 2,
   "metadata": {},
   "outputs": [],
   "source": [
    "# Каталог з даними для навчання\n",
    "train_dir = 'C:/Drive/ІІС/Datasets/Transfer/star_wars/train'\n",
    "# Каталог з даними для валідації\n",
    "val_dir = 'C:/Drive/ІІС/Datasets/Transfer/star_wars/valid'\n",
    "# Каталог з даними для тестування\n",
    "test_dir = 'C:/Drive/ІІС/Datasets/Transfer/star_wars/test'\n",
    "\n",
    "# Назви класів\n",
    "classes = os.listdir(train_dir)\n",
    "\n",
    "# Розміри зображення\n",
    "img_width, img_height = 150, 150\n",
    "# Розмірність тензора вхідного зображення для входу нейронної мережі\n",
    "input_shape = (img_width, img_height, 3)\n",
    "# Розмір батчу\n",
    "batch_size = 32"
   ]
  },
  {
   "cell_type": "markdown",
   "metadata": {},
   "source": [
    "Створимо об'єкт мережі VGG16 з наступними параметрами:\n",
    "- `weights='imagenet'` - набір попередьно навчених ваг: ImageNet\n",
    "- `include_top=False` - не завантажувати частину мережі, призначену для класифікації\n",
    "- `input_shape=input_shape` - форма вхідного зображення (в нашому випадку - (150, 150, 3))."
   ]
  },
  {
   "cell_type": "code",
   "execution_count": 3,
   "metadata": {},
   "outputs": [],
   "source": [
    "vgg16_net = VGG16(weights='imagenet', include_top=False, input_shape=input_shape)"
   ]
  },
  {
   "cell_type": "markdown",
   "metadata": {},
   "source": [
    "Заборонимо навчання всіх завантажених прошарків мережі VGG16, встановивши значення атрибуту `vgg16_net.trainable = False`. Після цього переглянемо зведену інформацію щодо мережі і переконаємось, що кількість внутрішніх параметрів, доступних для навчання, дорівнює нулю (*Trainable params: 0*)."
   ]
  },
  {
   "cell_type": "code",
   "execution_count": 4,
   "metadata": {
    "scrolled": true
   },
   "outputs": [
    {
     "name": "stdout",
     "output_type": "stream",
     "text": [
      "Model: \"vgg16\"\n",
      "_________________________________________________________________\n",
      "Layer (type)                 Output Shape              Param #   \n",
      "=================================================================\n",
      "input_1 (InputLayer)         [(None, 150, 150, 3)]     0         \n",
      "_________________________________________________________________\n",
      "block1_conv1 (Conv2D)        (None, 150, 150, 64)      1792      \n",
      "_________________________________________________________________\n",
      "block1_conv2 (Conv2D)        (None, 150, 150, 64)      36928     \n",
      "_________________________________________________________________\n",
      "block1_pool (MaxPooling2D)   (None, 75, 75, 64)        0         \n",
      "_________________________________________________________________\n",
      "block2_conv1 (Conv2D)        (None, 75, 75, 128)       73856     \n",
      "_________________________________________________________________\n",
      "block2_conv2 (Conv2D)        (None, 75, 75, 128)       147584    \n",
      "_________________________________________________________________\n",
      "block2_pool (MaxPooling2D)   (None, 37, 37, 128)       0         \n",
      "_________________________________________________________________\n",
      "block3_conv1 (Conv2D)        (None, 37, 37, 256)       295168    \n",
      "_________________________________________________________________\n",
      "block3_conv2 (Conv2D)        (None, 37, 37, 256)       590080    \n",
      "_________________________________________________________________\n",
      "block3_conv3 (Conv2D)        (None, 37, 37, 256)       590080    \n",
      "_________________________________________________________________\n",
      "block3_pool (MaxPooling2D)   (None, 18, 18, 256)       0         \n",
      "_________________________________________________________________\n",
      "block4_conv1 (Conv2D)        (None, 18, 18, 512)       1180160   \n",
      "_________________________________________________________________\n",
      "block4_conv2 (Conv2D)        (None, 18, 18, 512)       2359808   \n",
      "_________________________________________________________________\n",
      "block4_conv3 (Conv2D)        (None, 18, 18, 512)       2359808   \n",
      "_________________________________________________________________\n",
      "block4_pool (MaxPooling2D)   (None, 9, 9, 512)         0         \n",
      "_________________________________________________________________\n",
      "block5_conv1 (Conv2D)        (None, 9, 9, 512)         2359808   \n",
      "_________________________________________________________________\n",
      "block5_conv2 (Conv2D)        (None, 9, 9, 512)         2359808   \n",
      "_________________________________________________________________\n",
      "block5_conv3 (Conv2D)        (None, 9, 9, 512)         2359808   \n",
      "_________________________________________________________________\n",
      "block5_pool (MaxPooling2D)   (None, 4, 4, 512)         0         \n",
      "=================================================================\n",
      "Total params: 14,714,688\n",
      "Trainable params: 0\n",
      "Non-trainable params: 14,714,688\n",
      "_________________________________________________________________\n"
     ]
    }
   ],
   "source": [
    "vgg16_net.trainable = False\n",
    "vgg16_net.summary()"
   ]
  },
  {
   "cell_type": "markdown",
   "metadata": {},
   "source": [
    "Створюємо власну нейронну мережу, яка буде складатись з завантаженої частини навченої VGG16 та власного класифікатора."
   ]
  },
  {
   "cell_type": "code",
   "execution_count": 5,
   "metadata": {},
   "outputs": [],
   "source": [
    "model = Sequential()\n",
    "# Додаємо до моделі мережу VGG16 замість прошарку\n",
    "model.add(vgg16_net)\n",
    "\n",
    "# Додаємо до моделі власний класифікатор\n",
    "model.add(Flatten())\n",
    "model.add(Dense(256, activation='relu'))\n",
    "model.add(Dropout(0.2))\n",
    "model.add(Dense(len(classes), activation='softmax'))"
   ]
  },
  {
   "cell_type": "markdown",
   "metadata": {},
   "source": [
    "Переглянемо інформацію про створену мережу. Як можна побачити, під час навчання доведеться знайти значення лише 2,098,693 параметрів, тоді як загалом наша модель містить 16,813,381 внутрішніх параметрів. Але з них 14,714,688 параметрів вже були попередньо навчені, їх не потрібно модифіковувати (що ми і заборонили робити на попередніх етапах). Це значно пришвидшить процес навчання."
   ]
  },
  {
   "cell_type": "code",
   "execution_count": 6,
   "metadata": {},
   "outputs": [
    {
     "name": "stdout",
     "output_type": "stream",
     "text": [
      "Model: \"sequential\"\n",
      "_________________________________________________________________\n",
      "Layer (type)                 Output Shape              Param #   \n",
      "=================================================================\n",
      "vgg16 (Functional)           (None, 4, 4, 512)         14714688  \n",
      "_________________________________________________________________\n",
      "flatten (Flatten)            (None, 8192)              0         \n",
      "_________________________________________________________________\n",
      "dense (Dense)                (None, 256)               2097408   \n",
      "_________________________________________________________________\n",
      "dropout (Dropout)            (None, 256)               0         \n",
      "_________________________________________________________________\n",
      "dense_1 (Dense)              (None, 5)                 1285      \n",
      "=================================================================\n",
      "Total params: 16,813,381\n",
      "Trainable params: 2,098,693\n",
      "Non-trainable params: 14,714,688\n",
      "_________________________________________________________________\n"
     ]
    }
   ],
   "source": [
    "model.summary()"
   ]
  },
  {
   "cell_type": "markdown",
   "metadata": {},
   "source": [
    "Компілюємо модель. Оскільки додана частина мережі VGG16 вже була попередньо навчена і вміє гарно виявляти ознаки, необхідно знизити швидкість навчання `learning_rate`. Це зроблено для того, щоб оптимізатор не пропустив мінімум функції втрат."
   ]
  },
  {
   "cell_type": "code",
   "execution_count": 7,
   "metadata": {},
   "outputs": [],
   "source": [
    "model.compile(loss='categorical_crossentropy',\n",
    "              optimizer=Adam(learning_rate=1e-5), \n",
    "              metrics=['accuracy'])"
   ]
  },
  {
   "cell_type": "markdown",
   "metadata": {},
   "source": [
    "Створюємо об'єкт-генератор зображень `ImageDataGenerator()` для автоматичної стандартизації значень пікселів під час імпорту картинки з каталогу."
   ]
  },
  {
   "cell_type": "code",
   "execution_count": 8,
   "metadata": {},
   "outputs": [],
   "source": [
    "datagen = ImageDataGenerator(rescale=1. / 255)"
   ]
  },
  {
   "cell_type": "markdown",
   "metadata": {},
   "source": [
    "Створюємо та налаштовуємо генератори для навчальної, валідаційної та тестової підмножин."
   ]
  },
  {
   "cell_type": "code",
   "execution_count": 9,
   "metadata": {},
   "outputs": [
    {
     "name": "stdout",
     "output_type": "stream",
     "text": [
      "Found 892 images belonging to 5 classes.\n"
     ]
    }
   ],
   "source": [
    "train_generator = datagen.flow_from_directory(\n",
    "    train_dir,\n",
    "    target_size=(img_width, img_height),\n",
    "    batch_size=batch_size,\n",
    "    class_mode='categorical')"
   ]
  },
  {
   "cell_type": "code",
   "execution_count": 10,
   "metadata": {},
   "outputs": [
    {
     "name": "stdout",
     "output_type": "stream",
     "text": [
      "Found 189 images belonging to 5 classes.\n"
     ]
    }
   ],
   "source": [
    "val_generator = datagen.flow_from_directory(\n",
    "    val_dir,\n",
    "    target_size=(img_width, img_height),\n",
    "    batch_size=batch_size,\n",
    "    class_mode='categorical')"
   ]
  },
  {
   "cell_type": "code",
   "execution_count": 11,
   "metadata": {},
   "outputs": [
    {
     "name": "stdout",
     "output_type": "stream",
     "text": [
      "Found 192 images belonging to 5 classes.\n"
     ]
    }
   ],
   "source": [
    "test_generator = datagen.flow_from_directory(\n",
    "    test_dir,\n",
    "    target_size=(img_width, img_height),\n",
    "    batch_size=batch_size,\n",
    "    class_mode='categorical')"
   ]
  },
  {
   "cell_type": "markdown",
   "metadata": {},
   "source": [
    "Запам'ятовуємо кількість зображень у навчальній та валідаційній мережі (знадоибться для коректного визначення кількості крок за епоху навчання)."
   ]
  },
  {
   "cell_type": "code",
   "execution_count": 12,
   "metadata": {},
   "outputs": [],
   "source": [
    "nb_train_samples = 892\n",
    "nb_validation_samples = 189"
   ]
  },
  {
   "cell_type": "markdown",
   "metadata": {},
   "source": [
    "Навчаємо модель."
   ]
  },
  {
   "cell_type": "code",
   "execution_count": 13,
   "metadata": {
    "scrolled": true
   },
   "outputs": [
    {
     "name": "stdout",
     "output_type": "stream",
     "text": [
      "Epoch 1/15\n",
      "18/27 [===================>..........] - ETA: 3s - loss: 1.7066 - accuracy: 0.2395"
     ]
    },
    {
     "name": "stderr",
     "output_type": "stream",
     "text": [
      "C:\\Users\\drewmt\\anaconda3\\envs\\PythonGPU\\lib\\site-packages\\PIL\\Image.py:963: UserWarning: Palette images with Transparency expressed in bytes should be converted to RGBA images\n",
      "  \"Palette images with Transparency expressed in bytes should be \"\n"
     ]
    },
    {
     "name": "stdout",
     "output_type": "stream",
     "text": [
      "27/27 [==============================] - 14s 516ms/step - loss: 1.6738 - accuracy: 0.2616 - val_loss: 1.4439 - val_accuracy: 0.4187\n",
      "Epoch 2/15\n",
      "27/27 [==============================] - 4s 136ms/step - loss: 1.4253 - accuracy: 0.4151 - val_loss: 1.2821 - val_accuracy: 0.5938\n",
      "Epoch 3/15\n",
      "27/27 [==============================] - 4s 136ms/step - loss: 1.2727 - accuracy: 0.5093 - val_loss: 1.1702 - val_accuracy: 0.6625\n",
      "Epoch 4/15\n",
      "27/27 [==============================] - 4s 151ms/step - loss: 1.1264 - accuracy: 0.6314 - val_loss: 1.0491 - val_accuracy: 0.7250\n",
      "Epoch 5/15\n",
      "27/27 [==============================] - 4s 136ms/step - loss: 1.0187 - accuracy: 0.6895 - val_loss: 0.9481 - val_accuracy: 0.7500\n",
      "Epoch 6/15\n",
      "27/27 [==============================] - 4s 141ms/step - loss: 0.9042 - accuracy: 0.7350 - val_loss: 0.8905 - val_accuracy: 0.7812\n",
      "Epoch 7/15\n",
      "27/27 [==============================] - 4s 137ms/step - loss: 0.8382 - accuracy: 0.7721 - val_loss: 0.8167 - val_accuracy: 0.7937\n",
      "Epoch 8/15\n",
      "27/27 [==============================] - 4s 135ms/step - loss: 0.7657 - accuracy: 0.7826 - val_loss: 0.7580 - val_accuracy: 0.8125\n",
      "Epoch 9/15\n",
      "27/27 [==============================] - 4s 139ms/step - loss: 0.7174 - accuracy: 0.8012 - val_loss: 0.7387 - val_accuracy: 0.7937\n",
      "Epoch 10/15\n",
      "27/27 [==============================] - 4s 140ms/step - loss: 0.6437 - accuracy: 0.8302 - val_loss: 0.6973 - val_accuracy: 0.8000\n",
      "Epoch 11/15\n",
      "27/27 [==============================] - 4s 137ms/step - loss: 0.6027 - accuracy: 0.8453 - val_loss: 0.6537 - val_accuracy: 0.8188\n",
      "Epoch 12/15\n",
      "27/27 [==============================] - 4s 138ms/step - loss: 0.5475 - accuracy: 0.8663 - val_loss: 0.6063 - val_accuracy: 0.8375\n",
      "Epoch 13/15\n",
      "27/27 [==============================] - 4s 138ms/step - loss: 0.5298 - accuracy: 0.8640 - val_loss: 0.6196 - val_accuracy: 0.8000\n",
      "Epoch 14/15\n",
      "27/27 [==============================] - 4s 139ms/step - loss: 0.4950 - accuracy: 0.8767 - val_loss: 0.6192 - val_accuracy: 0.8250\n",
      "Epoch 15/15\n",
      "27/27 [==============================] - 4s 136ms/step - loss: 0.4675 - accuracy: 0.8907 - val_loss: 0.5932 - val_accuracy: 0.8188\n"
     ]
    }
   ],
   "source": [
    "history = model.fit(\n",
    "            train_generator,\n",
    "            steps_per_epoch=nb_train_samples // batch_size,\n",
    "            epochs=15,\n",
    "            validation_data=val_generator,\n",
    "            validation_steps=nb_validation_samples // batch_size)"
   ]
  },
  {
   "cell_type": "markdown",
   "metadata": {},
   "source": [
    "Перевіряємо модель на тестових даних."
   ]
  },
  {
   "cell_type": "code",
   "execution_count": 14,
   "metadata": {},
   "outputs": [
    {
     "name": "stdout",
     "output_type": "stream",
     "text": [
      "6/6 [==============================] - 2s 368ms/step - loss: 0.6725 - accuracy: 0.7812\n",
      "Accuracy на тестових даних: 78.12\n"
     ]
    }
   ],
   "source": [
    "scores = model.evaluate(test_generator)\n",
    "print(f\"Accuracy на тестових даних: {(scores[1]*100):.2f}\")"
   ]
  },
  {
   "cell_type": "markdown",
   "metadata": {},
   "source": [
    "Отже, завдяки застосуванню підходу *transfer learning*, нам вдалось навчити нейронну мережу вирішувати нову задачу з високою ефективністю всього лише за 10-15 епох навчання. Але навіть цей результат не є найкращим. Для його покращення можна застосувати додатковий підхід, який має назву *fine tuning*."
   ]
  },
  {
   "cell_type": "markdown",
   "metadata": {},
   "source": [
    "### <center>Тонкі налаштування мережі (fine tuning)"
   ]
  },
  {
   "cell_type": "markdown",
   "metadata": {},
   "source": [
    "Під час використання *transfer learning* виокристовується попередньо навчена нейронна мережа, в якій замінено прошарки, що відповідають за класифікацію. Прошарки для виділення ознак на зображеннях залишаються і \"заморожуються\" під час навчання. Тобто синаптичні ваги цих прошарків не змінюються, оскільки вони не доступні для навчання. Однак, якщо нове завдання значно відрязняється від того, на якому була попередьно навчена нейронна мережа, деякі з останніх прошарків для виділення ознак можна активувати для навчання. Чим сильніша різниця між попередньою та новою задачею, тим більше останнії прошарків для виділення ознак рекомендується зробити доступними для навчання. Такий піхдхід називається тонким налаштуванням мережі, або *fine tuning*.\n",
    "\n",
    "Застосуємо *fine tuning* для покращення якості мережі, отриманої у попередньому прикладі. Для цього дозволимо навчання останнього згорткового прошарку мережі VGG16, який називається *'block5_conv3'*. Навчання всіх інших прошарків залишаємо забороненим."
   ]
  },
  {
   "cell_type": "code",
   "execution_count": 15,
   "metadata": {},
   "outputs": [],
   "source": [
    "# Активуємо для навчання всю мережу\n",
    "vgg16_net.trainable = True\n",
    "# Перебираємо в циклі прошарки та вимикаємо навчання для всіх прошарків, окрім потрібного\n",
    "trainable = False\n",
    "for layer in vgg16_net.layers:\n",
    "    if layer.name == 'block5_conv3':\n",
    "        trainable = True\n",
    "    layer.trainable = trainable"
   ]
  },
  {
   "cell_type": "markdown",
   "metadata": {},
   "source": [
    "Перевіряємо кількість параметрів, доступних для навчання. Бачимо, що у порівнянні з попереднім варіантом, їх кількість збільшилась, оскільки прошарок *'block5_conv3'* тепер доступний для навчання."
   ]
  },
  {
   "cell_type": "code",
   "execution_count": 16,
   "metadata": {},
   "outputs": [
    {
     "name": "stdout",
     "output_type": "stream",
     "text": [
      "Model: \"sequential\"\n",
      "_________________________________________________________________\n",
      "Layer (type)                 Output Shape              Param #   \n",
      "=================================================================\n",
      "vgg16 (Functional)           (None, 4, 4, 512)         14714688  \n",
      "_________________________________________________________________\n",
      "flatten (Flatten)            (None, 8192)              0         \n",
      "_________________________________________________________________\n",
      "dense (Dense)                (None, 256)               2097408   \n",
      "_________________________________________________________________\n",
      "dropout (Dropout)            (None, 256)               0         \n",
      "_________________________________________________________________\n",
      "dense_1 (Dense)              (None, 5)                 1285      \n",
      "=================================================================\n",
      "Total params: 16,813,381\n",
      "Trainable params: 4,458,501\n",
      "Non-trainable params: 12,354,880\n",
      "_________________________________________________________________\n"
     ]
    }
   ],
   "source": [
    "model.summary()"
   ]
  },
  {
   "cell_type": "markdown",
   "metadata": {},
   "source": [
    "Заново компілюємо модифіковану модель."
   ]
  },
  {
   "cell_type": "code",
   "execution_count": 17,
   "metadata": {},
   "outputs": [],
   "source": [
    "model.compile(loss='categorical_crossentropy',\n",
    "              optimizer=Adam(lr=1e-5), \n",
    "              metrics=['accuracy'])"
   ]
  },
  {
   "cell_type": "markdown",
   "metadata": {},
   "source": [
    "Навчаємо модифіковану модель."
   ]
  },
  {
   "cell_type": "code",
   "execution_count": 18,
   "metadata": {
    "scrolled": true
   },
   "outputs": [
    {
     "name": "stdout",
     "output_type": "stream",
     "text": [
      "Epoch 1/15\n",
      "27/27 [==============================] - 4s 151ms/step - loss: 0.4377 - accuracy: 0.8837 - val_loss: 0.5352 - val_accuracy: 0.8375\n",
      "Epoch 2/15\n",
      "27/27 [==============================] - 4s 139ms/step - loss: 0.3370 - accuracy: 0.9244 - val_loss: 0.4848 - val_accuracy: 0.8562\n",
      "Epoch 3/15\n",
      "27/27 [==============================] - 4s 141ms/step - loss: 0.2874 - accuracy: 0.9384 - val_loss: 0.4906 - val_accuracy: 0.8250\n",
      "Epoch 4/15\n",
      "27/27 [==============================] - 4s 139ms/step - loss: 0.2380 - accuracy: 0.9535 - val_loss: 0.4112 - val_accuracy: 0.8687\n",
      "Epoch 5/15\n",
      "27/27 [==============================] - 4s 140ms/step - loss: 0.2033 - accuracy: 0.9640 - val_loss: 0.4286 - val_accuracy: 0.8375\n",
      "Epoch 6/15\n",
      "27/27 [==============================] - 4s 140ms/step - loss: 0.1695 - accuracy: 0.9699 - val_loss: 0.4331 - val_accuracy: 0.8375\n",
      "Epoch 7/15\n",
      "27/27 [==============================] - 4s 142ms/step - loss: 0.1482 - accuracy: 0.9767 - val_loss: 0.4432 - val_accuracy: 0.8188\n",
      "Epoch 8/15\n",
      "27/27 [==============================] - 4s 141ms/step - loss: 0.1278 - accuracy: 0.9849 - val_loss: 0.3436 - val_accuracy: 0.8750\n",
      "Epoch 9/15\n",
      "27/27 [==============================] - 4s 140ms/step - loss: 0.1100 - accuracy: 0.9849 - val_loss: 0.3793 - val_accuracy: 0.8625\n",
      "Epoch 10/15\n",
      "27/27 [==============================] - 4s 142ms/step - loss: 0.0960 - accuracy: 0.9919 - val_loss: 0.3844 - val_accuracy: 0.8625\n",
      "Epoch 11/15\n",
      "27/27 [==============================] - 4s 141ms/step - loss: 0.0838 - accuracy: 0.9930 - val_loss: 0.3742 - val_accuracy: 0.8562\n",
      "Epoch 12/15\n",
      "27/27 [==============================] - 4s 139ms/step - loss: 0.0662 - accuracy: 0.9977 - val_loss: 0.3916 - val_accuracy: 0.8438\n",
      "Epoch 13/15\n",
      "27/27 [==============================] - 4s 142ms/step - loss: 0.0627 - accuracy: 0.9977 - val_loss: 0.3981 - val_accuracy: 0.8438\n",
      "Epoch 14/15\n",
      "27/27 [==============================] - 4s 141ms/step - loss: 0.0570 - accuracy: 0.9988 - val_loss: 0.3639 - val_accuracy: 0.8500\n",
      "Epoch 15/15\n",
      "27/27 [==============================] - 4s 145ms/step - loss: 0.0461 - accuracy: 0.9988 - val_loss: 0.3927 - val_accuracy: 0.8687\n"
     ]
    }
   ],
   "source": [
    "history = model.fit(\n",
    "            train_generator,\n",
    "            steps_per_epoch=nb_train_samples // batch_size,\n",
    "            epochs=15,\n",
    "            validation_data=val_generator,\n",
    "            validation_steps=nb_validation_samples // batch_size)"
   ]
  },
  {
   "cell_type": "markdown",
   "metadata": {},
   "source": [
    "Перевіряємо якість мережі на тестовій підмножині."
   ]
  },
  {
   "cell_type": "code",
   "execution_count": 20,
   "metadata": {},
   "outputs": [
    {
     "name": "stdout",
     "output_type": "stream",
     "text": [
      "6/6 [==============================] - 1s 100ms/step - loss: 0.4672 - accuracy: 0.8594\n",
      "Accuracy на тестових даних: 85.94\n"
     ]
    }
   ],
   "source": [
    "scores = model.evaluate(test_generator)\n",
    "print(f\"Accuracy на тестових даних: {(scores[1]*100):.2f}\")"
   ]
  },
  {
   "cell_type": "markdown",
   "metadata": {},
   "source": [
    "Як видно з результатів, використання *fine tuning* дозволило покращити якість роботи мережі на тестових даних майже на 9% у порівнянні з попереднім варіантом, коли навчався лише класифікатор. Аналогічним чином можна розблокувати для навчання і інші частини (прошарки) початкової мережі, до якої застосовується *transfer learning*. Кількість доступних для навчання прошарків залежить від конкретних задач."
   ]
  },
  {
   "cell_type": "markdown",
   "metadata": {},
   "source": [
    "Використаємо навчену нейронну мережу для розпізнавання зображення, яке імпортується з жорсткого диску ПК."
   ]
  },
  {
   "cell_type": "code",
   "execution_count": 25,
   "metadata": {},
   "outputs": [],
   "source": [
    "from IPython.display import Image\n",
    "from tkinter.filedialog import askopenfilename"
   ]
  },
  {
   "cell_type": "code",
   "execution_count": 24,
   "metadata": {},
   "outputs": [
    {
     "data": {
      "text/plain": [
       "(-0.5, 149.5, 149.5, -0.5)"
      ]
     },
     "execution_count": 24,
     "metadata": {},
     "output_type": "execute_result"
    },
    {
     "data": {
      "image/png": "[encoded data removed]",
      "text/plain": [
       "<Figure size 288x288 with 1 Axes>"
      ]
     },
     "metadata": {
      "needs_background": "light"
     },
     "output_type": "display_data"
    }
   ],
   "source": [
    "img_path = askopenfilename()\n",
    "\n",
    "img = image.load_img(img_path, target_size=(img_width, img_height))\n",
    "\n",
    "x = image.img_to_array(img)\n",
    "x = x.reshape(-1, img_width, img_height, 3)\n",
    "\n",
    "prediction = model.predict(x)\n",
    "prediction = np.argmax(prediction)\n",
    "\n",
    "plt.figure(figsize=(4, 4))\n",
    "plt.imshow(img)\n",
    "plt.title(f\"Назва класу: {classes[prediction]}\" )\n",
    "plt.axis(\"off\")"
   ]
  },
  {
   "cell_type": "code",
   "execution_count": null,
   "metadata": {},
   "outputs": [],
   "source": []
  }
 ],
 "metadata": {
  "kernelspec": {
   "display_name": "Python 3 (ipykernel)",
   "language": "python",
   "name": "python3"
  },
  "language_info": {
   "codemirror_mode": {
    "name": "ipython",
    "version": 3
   },
   "file_extension": ".py",
   "mimetype": "text/x-python",
   "name": "python",
   "nbconvert_exporter": "python",
   "pygments_lexer": "ipython3",
   "version": "3.7.0"
  }
 },
 "nbformat": 4,
 "nbformat_minor": 4
}
